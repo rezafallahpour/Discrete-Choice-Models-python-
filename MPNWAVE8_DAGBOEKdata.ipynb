{
 "cells": [
  {
   "cell_type": "code",
   "execution_count": 1,
   "metadata": {},
   "outputs": [],
   "source": [
    "import pandas as pd"
   ]
  },
  {
   "cell_type": "code",
   "execution_count": 2,
   "metadata": {},
   "outputs": [
    {
     "name": "stderr",
     "output_type": "stream",
     "text": [
      "C:\\Users\\Reza\\AppData\\Local\\Temp\\ipykernel_14948\\1839650719.py:1: DtypeWarning: Columns (10,13,16) have mixed types. Specify dtype option on import or set low_memory=False.\n",
      "  MPNWAVE8_DAGBOEKdata = pd.read_csv('F:/more work/netherlands/wave8data/MPNWAVE8_DAGBOEKdata/MPNWAVE8_DAGBOEKdata_new.csv')\n"
     ]
    }
   ],
   "source": [
    "MPNWAVE8_DAGBOEKdata = pd.read_csv('F:/more work/netherlands/wave8data/MPNWAVE8_DAGBOEKdata/MPNWAVE8_DAGBOEKdata_new.csv')"
   ]
  },
  {
   "cell_type": "code",
   "execution_count": 3,
   "metadata": {},
   "outputs": [],
   "source": [
    "MPNWAVE8_DAGBOEKdata = MPNWAVE8_DAGBOEKdata[MPNWAVE8_DAGBOEKdata['P_VALID'] == 'person completed the questionnaire and completed the diary']"
   ]
  },
  {
   "cell_type": "code",
   "execution_count": 4,
   "metadata": {},
   "outputs": [],
   "source": [
    "MPNWAVE8_DAGBOEKdata['VERTREKP'].replace(['Own address' , 'Another address' , 'Unknown' , 'On this day the person did not take a trip'],[1,2,9,99],inplace=True)"
   ]
  },
  {
   "cell_type": "code",
   "execution_count": 5,
   "metadata": {},
   "outputs": [],
   "source": [
    "new = pd.get_dummies(MPNWAVE8_DAGBOEKdata['VERTREKP'],prefix = 'VERTREKP')\n",
    "MPNWAVE8_DAGBOEKdata = MPNWAVE8_DAGBOEKdata.join(new)\n"
   ]
  },
  {
   "cell_type": "code",
   "execution_count": 6,
   "metadata": {},
   "outputs": [],
   "source": [
    "MPNWAVE8_DAGBOEKdata['TOER'].replace(['No' , 'On this day the person did not take a trip' , 'Yes'],[0,0,1],inplace=True)"
   ]
  },
  {
   "cell_type": "code",
   "execution_count": 7,
   "metadata": {},
   "outputs": [],
   "source": [
    "MPNWAVE8_DAGBOEKdata['TOER_TYPE'].replace(['A walking / running / cycling excursion' , 'Mailing a letter' , 'Multiple trips for work' , 'Walking the dog' , 'Other' , 'Touring by car / motorcycle' , 'Picking up / dropping off people' , 'Unkown, trip not reported as round trip' , 'Did not make round trip' , 'On this day the person did not take a trip'],[1,2,3,4,5,6,7,8,0,0],inplace=True)"
   ]
  },
  {
   "cell_type": "code",
   "execution_count": 8,
   "metadata": {},
   "outputs": [],
   "source": [
    "new = pd.get_dummies(MPNWAVE8_DAGBOEKdata['TOER_TYPE'],prefix = 'TOER_TYPE')\n",
    "MPNWAVE8_DAGBOEKdata = MPNWAVE8_DAGBOEKdata.join(new)\n",
    "MPNWAVE8_DAGBOEKdata.drop('TOER_TYPE_0' , axis=1,inplace=True)"
   ]
  },
  {
   "cell_type": "code",
   "execution_count": 9,
   "metadata": {},
   "outputs": [],
   "source": [
    "MPNWAVE8_DAGBOEKdata['DOEL'].replace(['To home' , 'Work' , 'Business-related visit in work context' , 'Transport as a profession' , 'Dropping off, picking up people' , 'Delivering, picking up goods' , 'Following education study, courses' , 'Shopping, doing grocery shopping' , 'Visitation' , 'Touring, hiking' , 'Sports, hobby' , 'Other leisure time activities' , 'Services, personal care' , 'Other purpose' , 'Unknown' , 'On this day the person did not take a trip'] , [1,2,3,4,5,6,7,8,9,10,11,12,13,14,0,0],inplace=True)\n",
    "new = pd.get_dummies(MPNWAVE8_DAGBOEKdata['DOEL'],prefix = 'DOEL')\n",
    "MPNWAVE8_DAGBOEKdata = MPNWAVE8_DAGBOEKdata.join(new)\n",
    "MPNWAVE8_DAGBOEKdata.drop('DOEL_0' , axis=1,inplace=True)"
   ]
  },
  {
   "cell_type": "code",
   "execution_count": 10,
   "metadata": {},
   "outputs": [],
   "source": [
    "MPNWAVE8_DAGBOEKdata['MOTIEF'].replace(['To and from work' , 'Business-related visit in work context' , 'Transport as a profession' , 'Dropping off, picking up people' , 'Delivering, picking up goods' , 'Following education study, courses' , 'Shopping, doing grocery shopping' , 'Visitation' , 'Touring, hiking' , 'Sports, hobby' , 'Other leisure time activities' , 'Services, personal care' , 'Other purpose' , 'Unknown' , 'On this day the person did not take a trip'] , [1,2,3,4,5,6,7,8,9,10,11,12,0,0,0],inplace=True)\n",
    "new = pd.get_dummies(MPNWAVE8_DAGBOEKdata['MOTIEF'],prefix = 'MOTIEF')\n",
    "MPNWAVE8_DAGBOEKdata = MPNWAVE8_DAGBOEKdata.join(new)\n",
    "MPNWAVE8_DAGBOEKdata.drop('MOTIEF_0' , axis=1,inplace=True)"
   ]
  },
  {
   "cell_type": "code",
   "execution_count": 11,
   "metadata": {},
   "outputs": [],
   "source": [
    "MPNWAVE8_DAGBOEKdata['KMOTIEF'].replace(['To and from work' , 'Business-related visit in work context' , 'Services, personal care' , 'Shopping, doing grocery shopping' , 'Following education study, courses' , 'Visitation' , 'Social recreational other' , 'Touring, hiking' , 'Other purpose' , 'Unknown' , 'On this day the person did not take a trip'] , [1,2,3,4,5,6,7,8,0,0,0],inplace=True)\n",
    "new = pd.get_dummies(MPNWAVE8_DAGBOEKdata['KMOTIEF'],prefix = 'KMOTIEF')\n",
    "MPNWAVE8_DAGBOEKdata = MPNWAVE8_DAGBOEKdata.join(new)\n",
    "MPNWAVE8_DAGBOEKdata.drop('KMOTIEF_0' , axis=1,inplace=True)"
   ]
  },
  {
   "cell_type": "code",
   "execution_count": 12,
   "metadata": {},
   "outputs": [],
   "source": [
    "MPNWAVE8_DAGBOEKdata['KAFSTV'].replace(['0,1-0,5 km' , '0.5-1.0 km' , '1.0-2.5 km' , '2.5-3.7 km' , '3.7-5.0 km' , '5.0-7.5 km' , '7.5-10 km' , '10-15 km' , '15-20 km' , '20-30 km' , '30-40 km' , '40-50 km' , '>50 km'] , [1,2,3,4,5,6,7,8,9,10,11,12,13], inplace=True)\n",
    "new = pd.get_dummies(MPNWAVE8_DAGBOEKdata['KAFSTV'],prefix = 'KAFSTV')\n",
    "MPNWAVE8_DAGBOEKdata = MPNWAVE8_DAGBOEKdata.join(new)"
   ]
  },
  {
   "cell_type": "code",
   "execution_count": 13,
   "metadata": {},
   "outputs": [],
   "source": [
    "MPNWAVE8_DAGBOEKdata['KHVM'].replace(['Car as driver' , 'Car as passenger' , 'Train' , 'Bus/tram/metro' , 'Scooter/moped' , 'Bicycle' , 'Walking' , 'Other' , 'Means of transport not stored' , 'On this day the person did not take a trip'],[1,2,3,4,5,6,7,0,0,0],inplace=True)\n",
    "new = pd.get_dummies(MPNWAVE8_DAGBOEKdata['KHVM'],prefix = 'KHVM')\n",
    "MPNWAVE8_DAGBOEKdata = MPNWAVE8_DAGBOEKdata.join(new)\n",
    "MPNWAVE8_DAGBOEKdata.drop('KHVM_0.0' , axis=1,inplace=True)"
   ]
  },
  {
   "cell_type": "code",
   "execution_count": 14,
   "metadata": {},
   "outputs": [],
   "source": [
    "MPNWAVE8_DAGBOEKdata['KVERTTIJD'].replace(['0 to 4:00' , '4:00 to 7:00' , '7:00 to 8:00' , '8:00 to 9:00' , '9:00 to 12:00' , '12:00 to 13:00' , '13:00 to 14:00' , '14:00 to 16:00' , '16:00 to 17:00' , '17:00 to 18:00' , '18:00 to 19:00' , '19:00 to 20:00' , '20:00 to 24:00'] , [1,2,3,4,5,6,7,8,9,10,11,12,13],inplace=True)\n",
    "new = pd.get_dummies(MPNWAVE8_DAGBOEKdata['KVERTTIJD'],prefix = 'KVERTTIJD')\n",
    "MPNWAVE8_DAGBOEKdata = MPNWAVE8_DAGBOEKdata.join(new)"
   ]
  },
  {
   "cell_type": "code",
   "execution_count": 15,
   "metadata": {},
   "outputs": [],
   "source": [
    "MPNWAVE8_DAGBOEKdata['KREISDUUR'].replace(['1 to 5 minutes' , '5 to 10 minutes' , '10 to 15 minutes' , '15 to 20 minutes' , '20 to 25 minutes' , '25 to 30 minutes' , '30 to 45 minutes' , '45 to 60 minutes' , '60 to 90 minutes' , '90 to 120 minutes' , '120 minutes or more'],[1,2,3,4,5,6,7,8,9,10,11],inplace=True)\n",
    "new = pd.get_dummies(MPNWAVE8_DAGBOEKdata['KREISDUUR'],prefix = 'KREISDUUR')\n",
    "MPNWAVE8_DAGBOEKdata = MPNWAVE8_DAGBOEKdata.join(new)"
   ]
  },
  {
   "cell_type": "code",
   "execution_count": 16,
   "metadata": {},
   "outputs": [],
   "source": [
    "MPNWAVE8_DAGBOEKdata['ROLAUTO'].replace(['No trip by car' , 'Driver of car' , 'Passenger in car'] , [0,1,2], inplace=True)\n",
    "new = pd.get_dummies(MPNWAVE8_DAGBOEKdata['ROLAUTO'],prefix = 'ROLAUTO')\n",
    "MPNWAVE8_DAGBOEKdata = MPNWAVE8_DAGBOEKdata.join(new)"
   ]
  },
  {
   "cell_type": "code",
   "execution_count": 17,
   "metadata": {},
   "outputs": [],
   "source": [
    "MPNWAVE8_DAGBOEKdata['PARKEERKOSTEN'].replace(['less than 0.50 €' , '0.50 to 1.00 €' , '1.00 to 1.50 €' , '1.50 to 2.00 €' , '2.00 to 2.50 €' , '2.50 to 3.00 €' , '3.00 to 3.50 €' , '3.50 to 4.00 €' , '4.00 to 4.50 €' , '4.50 to 5.00 €' , '5.00 to 6.00 €' , '6.00 to 7.00 €' , '7.00 to 8.00 €' , '8.00 to 9.00 €' , '9.00 to 10.00 €' , '10.00 € or more' ] , [1,2,3,4,5,6,7,8,9,10,11,12,13,14,15,16] , inplace=True)\n",
    "new = pd.get_dummies(MPNWAVE8_DAGBOEKdata['PARKEERKOSTEN'],prefix = 'PARKEERKOSTEN')\n",
    "MPNWAVE8_DAGBOEKdata = MPNWAVE8_DAGBOEKdata.join(new)"
   ]
  },
  {
   "cell_type": "code",
   "execution_count": 18,
   "metadata": {},
   "outputs": [],
   "source": [
    "MPNWAVE8_DAGBOEKdata['VERTRAGING'].replace(['No delay' , 'less than 5 minutes' , '5 to 10 minutes' , '10 to 15 minutes' , '15 to 20 minutes' , '20 to 30 minutes' , '30 tot 40 minutes' , '40 to 50 minutes' , '50 to 60 minutes' , '60 to 90 minutes' , '90 minutes or more'] , [0,1,2,3,4,5,6,7,8,9,10] , inplace=True)\n",
    "new = pd.get_dummies(MPNWAVE8_DAGBOEKdata['VERTRAGING'],prefix = 'VERTRAGING')\n",
    "MPNWAVE8_DAGBOEKdata = MPNWAVE8_DAGBOEKdata.join(new)"
   ]
  },
  {
   "cell_type": "code",
   "execution_count": 19,
   "metadata": {},
   "outputs": [],
   "source": [
    "MPNWAVE8_DAGBOEKdata['AutoSoort'].replace(['An other car from the household / A car from the household' , 'A car from a family member, friends, acquaintances or colleagues' , 'A rental car, like Sixt, Herz, Avis or Europcar' , 'A shared car, like Greenwheels, SnappCar or BlaBlaCar' , 'Garage loan car' , 'Company car (auto van de zaak)/ business lease car' , 'Private lease car' , 'Company car (bedrijfsauto)' , 'Other' , 'Question skipped' , 'Question not answered'] , [1,2,3,4,5,6,7,8,0,0,0], inplace=True)\n",
    "new = pd.get_dummies(MPNWAVE8_DAGBOEKdata['AutoSoort'],prefix = 'AutoSoort')\n",
    "MPNWAVE8_DAGBOEKdata = MPNWAVE8_DAGBOEKdata.join(new)\n",
    "MPNWAVE8_DAGBOEKdata.drop('AutoSoort_0.0' , axis=1,inplace=True)"
   ]
  },
  {
   "cell_type": "code",
   "execution_count": 20,
   "metadata": {},
   "outputs": [],
   "source": [
    "MPNWAVE8_DAGBOEKdata['KRVM'].replace(['Car as driver' , 'Car as passenger' , 'Train' , 'Bus/tram/metro' , 'Scooter/moped' , 'Bicycle' , 'Walking' , 'Other' , 'Means of transport not stored' , 'On this day the person did not take a trip'],[1,2,3,4,5,6,7,0,0,0],inplace=True)\n",
    "new = pd.get_dummies(MPNWAVE8_DAGBOEKdata['KRVM'],prefix = 'KRVM')\n",
    "MPNWAVE8_DAGBOEKdata = MPNWAVE8_DAGBOEKdata.join(new)\n",
    "MPNWAVE8_DAGBOEKdata.drop('KRVM_0.0' , axis=1,inplace=True)"
   ]
  },
  {
   "cell_type": "code",
   "execution_count": 21,
   "metadata": {},
   "outputs": [],
   "source": [
    "MPNWAVE8_DAGBOEKdata['Bestuurder'].replace(['Not asked' , 'Yes, driver' , 'No, passenger'] , [0,1,2] , inplace=True)\n",
    "new = pd.get_dummies(MPNWAVE8_DAGBOEKdata['Bestuurder'],prefix = 'Bestuurder')\n",
    "MPNWAVE8_DAGBOEKdata = MPNWAVE8_DAGBOEKdata.join(new)\n",
    "MPNWAVE8_DAGBOEKdata.drop('Bestuurder_0.0' , axis=1,inplace=True)"
   ]
  },
  {
   "cell_type": "code",
   "execution_count": 22,
   "metadata": {},
   "outputs": [],
   "source": [
    "MPNWAVE8_DAGBOEKdata['BTYPEVERPL'].replace(['Single trip' , 'Three or more occupational trips. Travel time, distance and means of transport show total of the trips'],[1,2] , inplace=True)\n",
    "new = pd.get_dummies(MPNWAVE8_DAGBOEKdata['BTYPEVERPL'],prefix = 'BTYPEVERPL')\n",
    "MPNWAVE8_DAGBOEKdata = MPNWAVE8_DAGBOEKdata.join(new)"
   ]
  },
  {
   "cell_type": "code",
   "execution_count": 23,
   "metadata": {},
   "outputs": [],
   "source": [
    "MPNWAVE8_DAGBOEKdata['KBHVM'].replace(['Car as driver' , 'Car as passenger' , 'Train' , 'Bus/tram/metro' , 'Scooter/moped' , 'Bicycle' , 'Walking' , 'Other' , 'Means of transport not stored' , 'On this day the person did not take a trip'],[1,2,3,4,5,6,7,0,0,0],inplace=True)\n",
    "new = pd.get_dummies(MPNWAVE8_DAGBOEKdata['KBHVM'],prefix = 'KBHVM')\n",
    "MPNWAVE8_DAGBOEKdata = MPNWAVE8_DAGBOEKdata.join(new)\n",
    "MPNWAVE8_DAGBOEKdata.drop('KBHVM_0.0' , axis=1,inplace=True)"
   ]
  },
  {
   "cell_type": "code",
   "execution_count": 24,
   "metadata": {},
   "outputs": [],
   "source": [
    "MPNWAVE8_DAGBOEKdata['KBRVM'].replace(['Car as driver' , 'Car as passenger' , 'Train' , 'Bus/tram/metro' , 'Scooter/moped' , 'Bicycle' , 'Walking' , 'Other' , 'Means of transport not stored' , 'On this day the person did not take a trip'],[1,2,3,4,5,6,7,0,0,0],inplace=True)\n",
    "new = pd.get_dummies(MPNWAVE8_DAGBOEKdata['KBRVM'],prefix = 'KBRVM')\n",
    "MPNWAVE8_DAGBOEKdata = MPNWAVE8_DAGBOEKdata.join(new)\n",
    "MPNWAVE8_DAGBOEKdata.drop('KBRVM_0.0' , axis=1,inplace=True)"
   ]
  },
  {
   "cell_type": "code",
   "execution_count": 25,
   "metadata": {},
   "outputs": [
    {
     "data": {
      "text/plain": [
       "unmarked    37869\n",
       "Name: MARKERING_VVM, dtype: int64"
      ]
     },
     "execution_count": 25,
     "metadata": {},
     "output_type": "execute_result"
    }
   ],
   "source": [
    "MPNWAVE8_DAGBOEKdata = MPNWAVE8_DAGBOEKdata[MPNWAVE8_DAGBOEKdata['MARKERING_VVM']== 'unmarked']\n",
    "MPNWAVE8_DAGBOEKdata['MARKERING_VVM'].value_counts()"
   ]
  },
  {
   "cell_type": "code",
   "execution_count": 26,
   "metadata": {},
   "outputs": [
    {
     "data": {
      "text/plain": [
       "not corrected    31129\n",
       "corrected         6740\n",
       "Name: CORRECTIE_VVM, dtype: int64"
      ]
     },
     "execution_count": 26,
     "metadata": {},
     "output_type": "execute_result"
    }
   ],
   "source": [
    "#MPNWAVE8_DAGBOEKdata = MPNWAVE8_DAGBOEKdata[MPNWAVE8_DAGBOEKdata['CORRECTIE_VVM']== 'not corrected']\n",
    "MPNWAVE8_DAGBOEKdata['CORRECTIE_VVM'].value_counts()"
   ]
  },
  {
   "cell_type": "code",
   "execution_count": 27,
   "metadata": {},
   "outputs": [
    {
     "data": {
      "text/plain": [
       "not corrected    36421\n",
       "corrected         1448\n",
       "Name: CORRECTIE_AFSTAND, dtype: int64"
      ]
     },
     "execution_count": 27,
     "metadata": {},
     "output_type": "execute_result"
    }
   ],
   "source": [
    "#MPNWAVE8_DAGBOEKdata = MPNWAVE8_DAGBOEKdata[MPNWAVE8_DAGBOEKdata['CORRECTIE_AFSTAND']== 'not corrected']\n",
    "MPNWAVE8_DAGBOEKdata['CORRECTIE_AFSTAND'].value_counts()"
   ]
  },
  {
   "cell_type": "code",
   "execution_count": 28,
   "metadata": {},
   "outputs": [
    {
     "data": {
      "text/plain": [
       "not corrected    36547\n",
       "corrected         1322\n",
       "Name: CORRECTIE_REISTIJD, dtype: int64"
      ]
     },
     "execution_count": 28,
     "metadata": {},
     "output_type": "execute_result"
    }
   ],
   "source": [
    "#MPNWAVE8_DAGBOEKdata = MPNWAVE8_DAGBOEKdata[MPNWAVE8_DAGBOEKdata['CORRECTIE_REISTIJD']== 'not corrected']\n",
    "MPNWAVE8_DAGBOEKdata['CORRECTIE_REISTIJD'].value_counts()"
   ]
  },
  {
   "cell_type": "code",
   "execution_count": 29,
   "metadata": {},
   "outputs": [
    {
     "data": {
      "text/plain": [
       "unmarked    37865\n",
       "Name: MARKERING_REISTIJD1, dtype: int64"
      ]
     },
     "execution_count": 29,
     "metadata": {},
     "output_type": "execute_result"
    }
   ],
   "source": [
    "MPNWAVE8_DAGBOEKdata = MPNWAVE8_DAGBOEKdata[MPNWAVE8_DAGBOEKdata['MARKERING_REISTIJD1']== 'unmarked']\n",
    "MPNWAVE8_DAGBOEKdata['MARKERING_REISTIJD1'].value_counts()"
   ]
  },
  {
   "cell_type": "code",
   "execution_count": 30,
   "metadata": {},
   "outputs": [
    {
     "data": {
      "text/plain": [
       "unmarked    37838\n",
       "Name: MARKERING_REISTIJD2, dtype: int64"
      ]
     },
     "execution_count": 30,
     "metadata": {},
     "output_type": "execute_result"
    }
   ],
   "source": [
    "MPNWAVE8_DAGBOEKdata = MPNWAVE8_DAGBOEKdata[MPNWAVE8_DAGBOEKdata['MARKERING_REISTIJD2']== 'unmarked']\n",
    "MPNWAVE8_DAGBOEKdata['MARKERING_REISTIJD2'].value_counts()"
   ]
  },
  {
   "cell_type": "code",
   "execution_count": 31,
   "metadata": {},
   "outputs": [
    {
     "data": {
      "text/plain": [
       "unmarked    37832\n",
       "Name: MARKERING_AFSTAND, dtype: int64"
      ]
     },
     "execution_count": 31,
     "metadata": {},
     "output_type": "execute_result"
    }
   ],
   "source": [
    "MPNWAVE8_DAGBOEKdata = MPNWAVE8_DAGBOEKdata[MPNWAVE8_DAGBOEKdata['MARKERING_AFSTAND']== 'unmarked']\n",
    "MPNWAVE8_DAGBOEKdata['MARKERING_AFSTAND'].value_counts()"
   ]
  },
  {
   "cell_type": "code",
   "execution_count": 32,
   "metadata": {},
   "outputs": [
    {
     "data": {
      "text/plain": [
       "unmarked    37767\n",
       "Name: MARKERING_OVERIG, dtype: int64"
      ]
     },
     "execution_count": 32,
     "metadata": {},
     "output_type": "execute_result"
    }
   ],
   "source": [
    "MPNWAVE8_DAGBOEKdata = MPNWAVE8_DAGBOEKdata[MPNWAVE8_DAGBOEKdata['MARKERING_OVERIG']== 'unmarked']\n",
    "MPNWAVE8_DAGBOEKdata['MARKERING_OVERIG'].value_counts()"
   ]
  },
  {
   "cell_type": "code",
   "execution_count": 33,
   "metadata": {},
   "outputs": [],
   "source": [
    "MPNWAVE8_DAGBOEKdata['DAGSOORT'].replace(['weekday' , 'weekend'] , [1,2] , inplace=True)\n",
    "new = pd.get_dummies(MPNWAVE8_DAGBOEKdata['DAGSOORT'],prefix = 'DAGSOORT')\n",
    "MPNWAVE8_DAGBOEKdata = MPNWAVE8_DAGBOEKdata.join(new)"
   ]
  },
  {
   "cell_type": "code",
   "execution_count": 34,
   "metadata": {},
   "outputs": [],
   "source": [
    "MPNWAVE8_DAGBOEKdata = MPNWAVE8_DAGBOEKdata[MPNWAVE8_DAGBOEKdata['WEGGEWEEST']=='On this day the person did go somewhere']"
   ]
  },
  {
   "cell_type": "code",
   "execution_count": 35,
   "metadata": {},
   "outputs": [
    {
     "data": {
      "text/plain": [
       "On this day the person did go somewhere    33345\n",
       "Name: WEGGEWEEST, dtype: int64"
      ]
     },
     "execution_count": 35,
     "metadata": {},
     "output_type": "execute_result"
    }
   ],
   "source": [
    "MPNWAVE8_DAGBOEKdata['WEGGEWEEST'].value_counts()"
   ]
  },
  {
   "cell_type": "code",
   "execution_count": 36,
   "metadata": {},
   "outputs": [],
   "source": [
    "MPNWAVE8_DAGBOEKdata['multimodal'].describe()\n",
    "MPNWAVE8_DAGBOEKdata.to_csv('F:/more work/netherlands/wave8data/MPNWAVE8_DAGBOEKdata/MPNWAVE8_DAGBOEKdata_only_binary.csv')"
   ]
  }
 ],
 "metadata": {
  "kernelspec": {
   "display_name": "Python 3.10.8 64-bit",
   "language": "python",
   "name": "python3"
  },
  "language_info": {
   "codemirror_mode": {
    "name": "ipython",
    "version": 3
   },
   "file_extension": ".py",
   "mimetype": "text/x-python",
   "name": "python",
   "nbconvert_exporter": "python",
   "pygments_lexer": "ipython3",
   "version": "3.10.8"
  },
  "orig_nbformat": 4,
  "vscode": {
   "interpreter": {
    "hash": "2b324498af64d22b4773901be112d66dec816013b7f64fed368c8550f7daba2d"
   }
  }
 },
 "nbformat": 4,
 "nbformat_minor": 2
}

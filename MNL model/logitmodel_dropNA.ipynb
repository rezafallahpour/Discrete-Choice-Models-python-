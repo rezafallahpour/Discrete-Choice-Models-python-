{
 "cells": [
  {
   "cell_type": "code",
   "execution_count": 1,
   "metadata": {},
   "outputs": [],
   "source": [
    "import pandas as pd\n",
    "import biogeme.database as db\n",
    "import biogeme.biogeme as bio\n",
    "from biogeme import models\n",
    "from biogeme.expressions import Beta"
   ]
  },
  {
   "cell_type": "code",
   "execution_count": 2,
   "metadata": {},
   "outputs": [],
   "source": [
    "df = pd.read_csv('F:/more work/netherlands/wave8data/model/logit/MPNWAVE8_traveldata_tt_HHdata_pdata_new.csv')\n"
   ]
  },
  {
   "cell_type": "code",
   "execution_count": 3,
   "metadata": {},
   "outputs": [
    {
     "data": {
      "text/plain": [
       "\"z=[]\\nfor x in list(df.columns):\\n    for y in df['%s'%x].isna():\\n        if y==True:\\n            if x not in z:\\n               z.append(x) \\nprint(z)\""
      ]
     },
     "execution_count": 3,
     "metadata": {},
     "output_type": "execute_result"
    }
   ],
   "source": [
    "'''z=[]\n",
    "for x in list(df.columns):\n",
    "    for y in df['%s'%x].isna():\n",
    "        if y==True:\n",
    "            if x not in z:\n",
    "               z.append(x) \n",
    "print(z)'''"
   ]
  },
  {
   "cell_type": "code",
   "execution_count": 4,
   "metadata": {},
   "outputs": [],
   "source": [
    "df.drop(['AFSTV', 'G_AFSTAND', 'KAFSTV', 'KHVM', 'KVERTTIJD', 'REISDUUR', 'KREISDUUR', 'REISDUUR_ORG', 'G_REISDUUR', 'ROLAUTO', 'PARKEERKOSTEN', 'KRVM', 'Bestuurder', 'HHBRUTOINK2_w5','CarStatus' , 'TransitStatus'] , axis=1 , inplace=True)\n",
    "df.dropna(inplace=True)"
   ]
  },
  {
   "cell_type": "code",
   "execution_count": 5,
   "metadata": {},
   "outputs": [],
   "source": [
    "database = db.Database('final_model_binary_third', df)\n",
    "globals().update(database.variables)\n"
   ]
  },
  {
   "cell_type": "code",
   "execution_count": 6,
   "metadata": {},
   "outputs": [],
   "source": [
    "ASC_multi = Beta('ASC_multi', 0, None, None, 0)\n",
    "ASC_nmulti = Beta('ASC_nmulti', 0, None, None, 1)\n",
    "KHVM_3_m = Beta('KHVM_3.0_m', 0, None, None, 0)\n",
    "KHVM4_m = Beta('KHVM_4.0_m', 0, None, None, 0)\n",
    "# alokatie_tramhalte_m = Beta('alokatie_tramhalte_m', 0, None, None, 0)\n",
    "CarTravelTimeTraffic_m = Beta('CarTravelTimeTraffic_m', 0, None, None, 0) \n",
    "KLEEFT2_2_m = Beta('KLEEFT2_2_m', 0, None, None, 0)\n",
    "# KLEEFT2_3_m = Beta('KLEEFT2_3_m', 0, None, None, 0)\n",
    "#MOTIEF_6_m = Beta('MOTIEF_6_m', 0, None, None, 1) -- corr with KHVM_3_m\n",
    "#PAUTO_m = Beta('PAUTO_m', 0, None, None, 0)\n",
    "# ## BikeTravelTime_m = Beta('BikeTravelTime_m', 0, None, None, 0) corr with the WalkTravelTime_m\n",
    "# CarDistance_m = Beta('CarDistance_m', 0, None, None, 0) corr whit the CarTravelTimeTraffic_m\n",
    "# WalkTravelTime_m = Beta('WalkTravelTime_m', 0, None, None, 0)\n",
    "# TransitDistance_m = Beta('TransitDistance_m', 0, None, None, 0)\n",
    "RIJBEWIJS_AUTO_m = Beta('RIJBEWIJS_AUTO_m', 0, None, None, 0)\n",
    "KHVM_7_m = Beta('KHVM_7_m', 0, None, None, 0)\n",
    "DOEL_7_m = Beta('DOEL_7_m', 0, None, None, 1)\n",
    "KHVM_6_m = Beta('KHVM_6_m', 0, None, None, 0)\n",
    "# GEBRUIK_PARK1_m = Beta('GEBRUIK_PARK1_m', 0, None, None, 0)\n",
    "# GESLACHT_m = Beta('GESLACHT_m', 0, None, None, 0)\n",
    "HHAUTO_m = Beta('HHAUTO_m', 0, None, None, 1)\n",
    "TYPE_OVKAART5_m = Beta('TYPE_OVKAART5_m', 0, None, None, 0)\n",
    "# SPITSMIJDEN_AVOND_OV_5_m = Beta('SPITSMIJDEN_AVOND_OV_5_m', 0, None, None, 0) \n",
    "# HHPARK4_m = Beta('HHPARK4_m', 0, None, None, 0)\n",
    "# KMOTIEF_4_m = Beta('KMOTIEF_4_m', 0, None, None, 0)\n",
    "PROV_27_m = Beta('PROV_27_m', 0, None, None, 0)\n",
    "# INVLOED3_m = Beta('INVLOED3_m', 0, None, None, 0)\n",
    "HHPERS_2_m = Beta('HHPERS_2_m', 0, None, None, 0)\n",
    "HHAUTO_N_m = Beta('HHAUTO_N_m' , 0 , None, None ,0)\n",
    "HHSAM_2_m = Beta('HHSAM_2_m' , 0 , None, None ,0) \n",
    "BESCHIK_AUTO_3_m = Beta('BESCHIK_AUTO_3_m' , 0 , None, None ,0) \n",
    "POSITIEHH_2_m = Beta('POSITIEHH_2_m' , 0 , None, None ,0)\n",
    "# PFIETS_m = Beta('PFIETS_m' , 0 , None, None ,0)\n",
    "STED_GM_1_m = Beta('STED_GM_1_m' , 0 , None, None ,0)\n",
    "alokatie_bushaltekl1xpu_m = Beta('alokatie_bushaltekl1xpu_m', 0, None, None, 0)\n",
    "KLEEFT2_8_m = Beta('KLEEFT2_8_m', 0, None, None, 0)\n",
    "# GEZINSCYCLUS_1_m = Beta('GEZINSCYCLUS_1_m', 0, None, None, 0) \n",
    "OPLEIDING_7_m = Beta('OPLEIDING_7_m', 0, None, None, 0)\n",
    "OPLEIDING_8_m = Beta('OPLEIDING_8_m', 0, None, None, 0)\n",
    "vlokatie_bushaltekl1xpu_m = Beta('vlokatie_bushaltekl1xpu_m', 0, None, None, 0)\n",
    "# wlokatie_bushaltekl1xpu_m = Beta('wlokatie_bushaltekl1xpu_m', 0, None, None, 0)\n",
    "# Bestuurder_2_m = Beta('Bestuurder_2_m', 0, None, None, 0)\n",
    "# GEZINSCYCLUS_3_m = Beta('GEZINSCYCLUS_3_m', 0, None, None, 0)\n",
    "HHEBIKE_m = Beta('HHEBIKE_m', 0, None, None, 0)\n",
    "HHPARK2_m =  Beta('HHPARK2_m', 0, None, None, 0)\n",
    "# HHSAM_1_m =  Beta('HHSAM_1_m', 0, None, None, 0) shabih be POSITIEHH_2_m ast\n",
    "# DOEL_5_m = Beta('DOEL_5_m', 0, None, None, 0) ziad mani khasi nadasht\n",
    "N_KIND_m = Beta('N_KIND_m', 0, None, None, 0)\n",
    "POSITIEHH_7_m = Beta('POSITIEHH_7_m', 0, None, None, 0)"
   ]
  },
  {
   "cell_type": "code",
   "execution_count": 7,
   "metadata": {},
   "outputs": [],
   "source": [
    "V1 = ASC_multi + KHVM_3_m*KHVM_3 + KHVM4_m*KHVM_4 + RIJBEWIJS_AUTO_m*RIJBEWIJS_AUTO + KHVM_7_m*KHVM_7 + DOEL_7_m*DOEL_7 + KHVM_6_m*KHVM_6 + HHAUTO_m*HHAUTO + TYPE_OVKAART5_m*TYPE_OVKAART5 + PROV_27_m*PROV_27 + KLEEFT2_2_m*KLEEFT2_2 + HHPERS_2_m*HHPERS_2 + HHAUTO_N_m*HHAUTO_N + POSITIEHH_2_m*POSITIEHH_2 + STED_GM_1_m*STED_GM_1 + alokatie_bushaltekl1xpu_m*alokatie_bushaltekl1xpu + KLEEFT2_8_m*KLEEFT2_8 + OPLEIDING_7_m*OPLEIDING_7 + OPLEIDING_8_m*OPLEIDING_8 + vlokatie_bushaltekl1xpu_m*vlokatie_bushaltekl1xpu + HHEBIKE_m*HHEBIKE + HHPARK2_m*HHPARK2 + N_KIND_m*N_KIND + CarTravelTimeTraffic_m*CarTravelTimeTraffic\n",
    "V2 = ASC_nmulti"
   ]
  },
  {
   "cell_type": "code",
   "execution_count": 8,
   "metadata": {},
   "outputs": [],
   "source": [
    "V = {1: V1, 2: V2}\n",
    "av = {1: multi1, 2: nmulti2}\n",
    "logprob = models.loglogit(V, av, multimodal)\n"
   ]
  },
  {
   "cell_type": "code",
   "execution_count": 9,
   "metadata": {},
   "outputs": [],
   "source": [
    "biogeme = bio.BIOGEME(database, logprob)\n",
    "biogeme.modelName = 'logitnew'"
   ]
  },
  {
   "cell_type": "code",
   "execution_count": 10,
   "metadata": {},
   "outputs": [],
   "source": [
    "results = biogeme.estimate()\n"
   ]
  }
 ],
 "metadata": {
  "kernelspec": {
   "display_name": "Python 3.9.0 64-bit",
   "language": "python",
   "name": "python3"
  },
  "language_info": {
   "codemirror_mode": {
    "name": "ipython",
    "version": 3
   },
   "file_extension": ".py",
   "mimetype": "text/x-python",
   "name": "python",
   "nbconvert_exporter": "python",
   "pygments_lexer": "ipython3",
   "version": "3.9.0"
  },
  "orig_nbformat": 4,
  "vscode": {
   "interpreter": {
    "hash": "ef6eeb7b71eeb3f51651e9f7a3188bfa02f3ff2097fced70fe058453c8690fdb"
   }
  }
 },
 "nbformat": 4,
 "nbformat_minor": 2
}

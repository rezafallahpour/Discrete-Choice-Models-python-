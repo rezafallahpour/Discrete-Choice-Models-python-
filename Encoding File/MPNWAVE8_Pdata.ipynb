{
 "cells": [
  {
   "cell_type": "code",
   "execution_count": 545,
   "metadata": {},
   "outputs": [],
   "source": [
    "import pandas as pd\n",
    "MPNWAVE8_Pdata = pd.read_csv('F:/more work/netherlands/wave8data/MPNWAVE8_Pdata/MPNWAVE8_Pdata.csv')\n",
    "MPNWAVE8_Pdata = MPNWAVE8_Pdata[MPNWAVE8_Pdata['P_VALID']=='person completed the questionnaire and completed the diary']"
   ]
  },
  {
   "cell_type": "code",
   "execution_count": 546,
   "metadata": {},
   "outputs": [],
   "source": [
    "MPNWAVE8_Pdata['GESLACHT'].replace(['Man' , 'Woman'] , [1,0],inplace=True)\n"
   ]
  },
  {
   "cell_type": "code",
   "execution_count": 547,
   "metadata": {},
   "outputs": [],
   "source": [
    "MPNWAVE8_Pdata['POSITIEHH'].replace(['Main income earner' , 'Partner of main income earner' , 'Child of main income earner' , 'Father or mother, or father-in-law or mother-in-law of main income earner' , 'brother or sister, brother- or sister-in-law of the main income earner' , 'Son-in-law or daughter-in-law of main income earner' , '99998.0' , 'Other, family or family-in-law of main income earner' , 'Other, not family or family-in-law of main income earner' , 'Other persons' , 'unknown (no household questionnaire)'] , [1,2,3,4,5,6,7,8,9,0,0],inplace=True)\n",
    "new = pd.get_dummies(MPNWAVE8_Pdata['POSITIEHH'],prefix='POSITIEHH')\n",
    "MPNWAVE8_Pdata = MPNWAVE8_Pdata.join(new)\n",
    "MPNWAVE8_Pdata.drop('POSITIEHH_0', axis=1,inplace=True)"
   ]
  },
  {
   "cell_type": "code",
   "execution_count": 548,
   "metadata": {},
   "outputs": [],
   "source": [
    "MPNWAVE8_Pdata['HERKOMST_w5'].replace(['Native Dutch ethnic origin' , '(Other) Europe' , 'Other world (not Europe)' , 'Unknown'] , [1,2,3,4] , inplace=True)\n",
    "new = pd.get_dummies(MPNWAVE8_Pdata['HERKOMST_w5'],prefix='HERKOMST_w5')\n",
    "MPNWAVE8_Pdata = MPNWAVE8_Pdata.join(new)\n",
    "MPNWAVE8_Pdata.drop('HERKOMST_w5_4', axis=1,inplace=True)"
   ]
  },
  {
   "cell_type": "code",
   "execution_count": 549,
   "metadata": {},
   "outputs": [],
   "source": [
    "MPNWAVE8_Pdata['WERKSITUATIE_ANDERS1'].replace(['No' , 'Yes'] , [0,1] , inplace=True)\n",
    "MPNWAVE8_Pdata['WERKSITUATIE_ANDERS2'].replace(['No' , 'Yes'] , [0,1] , inplace=True)\n",
    "MPNWAVE8_Pdata['WERKSITUATIE_ANDERS3'].replace(['No' , 'Yes'] , [0,1] , inplace=True)\n",
    "MPNWAVE8_Pdata['WERKSITUATIE_ANDERS4'].replace(['No' , 'Yes'] , [0,1] , inplace=True)\n",
    "MPNWAVE8_Pdata['WERKSITUATIE_ANDERS5'].replace(['No' , 'Yes'] , [0,1] , inplace=True)\n",
    "MPNWAVE8_Pdata['WERKSITUATIE_ANDERS6'].replace(['No' , 'Yes'] , [0,1] , inplace=True)\n",
    "MPNWAVE8_Pdata['WERKSITUATIE_ANDERS7'].replace(['No' , 'Yes'] , [0,1] , inplace=True)\n",
    "MPNWAVE8_Pdata['WERKSITUATIE_ANDERS8'].replace(['No' , 'Yes'] , [0,1] , inplace=True)\n"
   ]
  },
  {
   "cell_type": "code",
   "execution_count": 550,
   "metadata": {},
   "outputs": [],
   "source": [
    "MPNWAVE8_Pdata['WERKZAAM'].replace(['not working' , 'active' , 'whether or not employed unknown'] , [0,1,0] , inplace=True)\n"
   ]
  },
  {
   "cell_type": "code",
   "execution_count": 551,
   "metadata": {},
   "outputs": [],
   "source": [
    "#???????MPNWAVE8_Pdata['SECTORWERK'].replace(['Public administration, security and justice' , 'Hospitality and housekeeping' , 'Storage and transport' , 'healthcare' , 'Staff, organization and strategy' , 'Tourism and recreation' , 'Language, media and communication' , '(Retail) trade' , ''])"
   ]
  },
  {
   "cell_type": "code",
   "execution_count": 552,
   "metadata": {},
   "outputs": [],
   "source": [
    "MPNWAVE8_Pdata['OPLEIDING'].replace(['no education/ primary education' , 'LBO \\ VBO \\ VMBO (vocational educational programs)' , \"MAVO\\\\1st 3 years HAVO-VWO\\VMBO (junior years high school education)\" , 'MBO' , 'HAVO and VWO senior high school year(s) \\ university propaedeutic diploma' , \"HBO\\WO (Bachelor's degree)\" , \"HBO / WO master's or doctoral degree\" , \"Don't know \\ won't say\" , 'No data known, no imputation from 2018 possible'] , [1,3,4,5,6,7,8,0,0] , inplace=True)\n",
    "new = pd.get_dummies(MPNWAVE8_Pdata['OPLEIDING'],prefix='OPLEIDING')\n",
    "MPNWAVE8_Pdata = MPNWAVE8_Pdata.join(new)\n",
    "MPNWAVE8_Pdata.drop('OPLEIDING_0', axis=1,inplace=True)"
   ]
  },
  {
   "cell_type": "code",
   "execution_count": 553,
   "metadata": {},
   "outputs": [],
   "source": [
    "MPNWAVE8_Pdata['WERKURENRECENT'].replace(['less than 12 hours per week' , '12 to 20 hours per week' , '20 to 25 hours per week' , '25 to 30 hours per week' , '30 to 35 hours per week' , '35 hours or more per week' , 'Unknown' , 'Person is unemployed, or unknown'] , [1,2,3,4,5,6,0,0] , inplace=True)\n",
    "new = pd.get_dummies(MPNWAVE8_Pdata['WERKURENRECENT'],prefix='WERKURENRECENT')\n",
    "MPNWAVE8_Pdata = MPNWAVE8_Pdata.join(new)\n",
    "MPNWAVE8_Pdata.drop('WERKURENRECENT_0', axis=1,inplace=True)\n"
   ]
  },
  {
   "cell_type": "code",
   "execution_count": 554,
   "metadata": {},
   "outputs": [],
   "source": [
    "MPNWAVE8_Pdata['N_URENVAST'].replace(['less than 12 hours per week' , '12 to 20 hours per week' , '20 to 25 hours per week' , '25 to 30 hours per week' , '30 to 35 hours per week' , '35 hours or more per week' , 'Unknown' , 'Person is unemployed, or unknown'] , [1,2,3,4,5,6,0,0] , inplace=True)\n",
    "new = pd.get_dummies(MPNWAVE8_Pdata['N_URENVAST'],prefix='N_URENVAST')\n",
    "MPNWAVE8_Pdata = MPNWAVE8_Pdata.join(new)\n",
    "MPNWAVE8_Pdata.drop('N_URENVAST_0', axis=1,inplace=True)"
   ]
  },
  {
   "cell_type": "code",
   "execution_count": 555,
   "metadata": {},
   "outputs": [],
   "source": [
    "MPNWAVE8_Pdata['N_URENTHUIS'].replace(['less than 12 hours per week' , '12 to 20 hours per week' , '20 to 25 hours per week' , '25 to 30 hours per week' , '30 to 35 hours per week' , '35 hours or more per week' , 'Unknown' , 'Person is unemployed, or unknown'] , [1,2,3,4,5,6,0,0] , inplace=True)\n",
    "new = pd.get_dummies(MPNWAVE8_Pdata['N_URENTHUIS'],prefix='N_URENTHUIS')\n",
    "MPNWAVE8_Pdata = MPNWAVE8_Pdata.join(new)\n",
    "MPNWAVE8_Pdata.drop('N_URENTHUIS_0', axis=1,inplace=True)"
   ]
  },
  {
   "cell_type": "code",
   "execution_count": 556,
   "metadata": {},
   "outputs": [],
   "source": [
    "MPNWAVE8_Pdata['N_URENELDERS'].replace(['less than 12 hours per week' , '12 to 20 hours per week' , '20 to 25 hours per week' , '25 to 30 hours per week' , '30 to 35 hours per week' , '35 hours or more per week' , 'Unknown' , 'Person is unemployed, or unknown'] , [1,2,3,4,5,6,0,0] , inplace=True)\n",
    "new = pd.get_dummies(MPNWAVE8_Pdata['N_URENELDERS'],prefix='N_URENELDERS')\n",
    "MPNWAVE8_Pdata = MPNWAVE8_Pdata.join(new)\n",
    "MPNWAVE8_Pdata.drop('N_URENELDERS_0', axis=1,inplace=True)"
   ]
  },
  {
   "cell_type": "code",
   "execution_count": 557,
   "metadata": {},
   "outputs": [],
   "source": [
    "MPNWAVE8_Pdata['N_URENONDERWEG'].replace(['less than 12 hours per week' , '12 to 20 hours per week' , '20 to 25 hours per week' , '25 to 30 hours per week' , '30 to 35 hours per week' , '35 hours or more per week' , 'Unknown' , 'Person is unemployed, or unknown'] , [1,2,3,4,5,6,0,0] , inplace=True)\n",
    "new = pd.get_dummies(MPNWAVE8_Pdata['N_URENONDERWEG'],prefix='N_URENONDERWEG')\n",
    "MPNWAVE8_Pdata = MPNWAVE8_Pdata.join(new)\n",
    "MPNWAVE8_Pdata.drop('N_URENONDERWEG_0', axis=1,inplace=True)"
   ]
  },
  {
   "cell_type": "code",
   "execution_count": 558,
   "metadata": {},
   "outputs": [],
   "source": [
    "MPNWAVE8_Pdata['VVM_WERK_w5'].replace(['car (as driver)' , 'car (as passenger)' , 'Motorcycle' , 'Train' , 'bus / tram / metro' , 'moped, scooter (max. 25 km \\ h, helmet not required)' , 'moped, scooter (max. 45 km \\ h, helmet required)' , 'bike' , 'Electric bike (e-bike) (max. 25 km \\ h, helmet not required)' , 'Speed ??pedelec (max. 45 km \\ h, helmet required)' , 'Walking' , 'Mobility scooter \\ Canta \\ wheelchair' , 'Other' , 'Not applicable' , 'not asked, person is unemployed' , 'person did not complete the questionnaire'] , [1,2,3,4,5,6,7,8,9,10,11,12,0,0,0,0] , inplace=True)\n",
    "new = pd.get_dummies(MPNWAVE8_Pdata['VVM_WERK_w5'],prefix='VVM_WERK_w5')\n",
    "MPNWAVE8_Pdata = MPNWAVE8_Pdata.join(new)\n",
    "MPNWAVE8_Pdata.drop('VVM_WERK_w5_0', axis=1,inplace=True)"
   ]
  },
  {
   "cell_type": "code",
   "execution_count": 559,
   "metadata": {},
   "outputs": [],
   "source": [
    "MPNWAVE8_Pdata['RIJBEWIJS'].replace([\"Person has a driver's license\" , \"Person does not have a driver's license\" , \"Unknown\" , 'Not asked, person younger than 16 years old'] , [1,0,0,0],inplace=True)\n"
   ]
  },
  {
   "cell_type": "code",
   "execution_count": 560,
   "metadata": {},
   "outputs": [],
   "source": [
    "MPNWAVE8_Pdata['RIJBEWIJS_AUTO'].replace(['Yes' , 'No' , 'Not asked, person younger than 17 years old'] , [1,0,0] , inplace=True)\n"
   ]
  },
  {
   "cell_type": "code",
   "execution_count": 561,
   "metadata": {},
   "outputs": [],
   "source": [
    "MPNWAVE8_Pdata['RIJBEWIJS_MOTOR'].replace(['Yes' , 'No' , 'Not asked, person younger than 18 years old'] , [1,0,0] , inplace=True)\n"
   ]
  },
  {
   "cell_type": "code",
   "execution_count": 562,
   "metadata": {},
   "outputs": [],
   "source": [
    "MPNWAVE8_Pdata['RIJBEWIJS_BROM_w5'].replace(['Yes' , 'No' , 'Not asked, person younger than 16 years old'] , [1,0,0] , inplace=True)"
   ]
  },
  {
   "cell_type": "code",
   "execution_count": 563,
   "metadata": {},
   "outputs": [],
   "source": [
    "MPNWAVE8_Pdata['RIJBEWIJS_VRACHT_w5'].replace(['Yes' , 'No' , 'Not asked, person younger than 18 years old'] , [1,0,0] , inplace=True)"
   ]
  },
  {
   "cell_type": "code",
   "execution_count": 564,
   "metadata": {},
   "outputs": [],
   "source": [
    "MPNWAVE8_Pdata['PVVM'].replace(['Does not own a transport mode' , 'Does own a transport mode'] , [0,1] , inplace=True)"
   ]
  },
  {
   "cell_type": "code",
   "execution_count": 565,
   "metadata": {},
   "outputs": [],
   "source": [
    "MPNWAVE8_Pdata['PAUTO'].replace(['No' , 'Yes' , 'Person does not own any vehicle'] , [0,1,0] , inplace=True)"
   ]
  },
  {
   "cell_type": "code",
   "execution_count": 566,
   "metadata": {},
   "outputs": [],
   "source": [
    "MPNWAVE8_Pdata['PHYBRID'].replace(['No' , 'Yes' , 'Person does not own any vehicle'] , [0,1,0] , inplace=True)"
   ]
  },
  {
   "cell_type": "code",
   "execution_count": 567,
   "metadata": {},
   "outputs": [],
   "source": [
    "MPNWAVE8_Pdata['PBESTEL'].replace(['No' , 'Yes' , 'Person does not own any vehicle'] , [0,1,0] , inplace=True)"
   ]
  },
  {
   "cell_type": "code",
   "execution_count": 568,
   "metadata": {},
   "outputs": [],
   "source": [
    "MPNWAVE8_Pdata['PMOTOR'].replace(['No' , 'Yes' , 'Person does not own any vehicle'] , [0,1,0] , inplace=True)"
   ]
  },
  {
   "cell_type": "code",
   "execution_count": 569,
   "metadata": {},
   "outputs": [],
   "source": [
    "MPNWAVE8_Pdata['PBROM'].replace(['No' , 'Yes' , 'Person does not own any vehicle'] , [0,1,0] , inplace=True)"
   ]
  },
  {
   "cell_type": "code",
   "execution_count": 570,
   "metadata": {},
   "outputs": [],
   "source": [
    "MPNWAVE8_Pdata['PSNOR'].replace(['No' , 'Yes' , 'Person does not own any vehicle'] , [0,1,0] , inplace=True)"
   ]
  },
  {
   "cell_type": "code",
   "execution_count": 571,
   "metadata": {},
   "outputs": [],
   "source": [
    "MPNWAVE8_Pdata['PFIETS'].replace(['No' , 'Yes' , 'Person does not own any vehicle'] , [0,1,0] , inplace=True)"
   ]
  },
  {
   "cell_type": "code",
   "execution_count": 572,
   "metadata": {},
   "outputs": [],
   "source": [
    "MPNWAVE8_Pdata['PVOUWFIETS'].replace(['No' , 'Yes' , 'Person does not own any vehicle'] , [0,1,0] , inplace=True)"
   ]
  },
  {
   "cell_type": "code",
   "execution_count": 573,
   "metadata": {},
   "outputs": [],
   "source": [
    "MPNWAVE8_Pdata['PEBIKE'].replace(['No' , 'Yes' , 'Person does not own any vehicle'] , [0,1,0] , inplace=True)"
   ]
  },
  {
   "cell_type": "code",
   "execution_count": 574,
   "metadata": {},
   "outputs": [],
   "source": [
    "MPNWAVE8_Pdata['PSCOOT'].replace(['No' , 'Yes' , 'Person does not own any vehicle'] , [0,1,0] , inplace=True)"
   ]
  },
  {
   "cell_type": "code",
   "execution_count": 575,
   "metadata": {},
   "outputs": [],
   "source": [
    "MPNWAVE8_Pdata['PPEDEL'].replace(['No' , 'Yes' , 'Person does not own any vehicle'] , [0,1,0] , inplace=True)"
   ]
  },
  {
   "cell_type": "code",
   "execution_count": 576,
   "metadata": {},
   "outputs": [],
   "source": [
    "MPNWAVE8_Pdata['STELLING_PARK'].replace(['strongly disagree' , 'disagree' , 'do not agree, do not disagree' , 'agree' , 'strongly agree' , 'Unknown' , 'Not asked, person younger than 16 years old'] , [1,2,3,4,5,0,0],inplace=True)\n",
    "new = pd.get_dummies(MPNWAVE8_Pdata['STELLING_PARK'],prefix='STELLING_PARK')\n",
    "MPNWAVE8_Pdata = MPNWAVE8_Pdata.join(new)\n",
    "MPNWAVE8_Pdata.drop('STELLING_PARK_0', axis=1,inplace=True)"
   ]
  },
  {
   "cell_type": "code",
   "execution_count": 577,
   "metadata": {},
   "outputs": [],
   "source": [
    "MPNWAVE8_Pdata['STELLING_AUTO'].replace(['strongly disagree' , 'disagree' , 'do not agree, do not disagree' , 'agree' , 'strongly agree' , 'Unknown' , 'Not asked, person younger than 16 years old'] , [1,2,3,4,5,0,0],inplace=True)\n",
    "new = pd.get_dummies(MPNWAVE8_Pdata['STELLING_AUTO'],prefix='STELLING_AUTO')\n",
    "MPNWAVE8_Pdata = MPNWAVE8_Pdata.join(new)\n",
    "MPNWAVE8_Pdata.drop('STELLING_AUTO_0', axis=1,inplace=True)"
   ]
  },
  {
   "cell_type": "code",
   "execution_count": 578,
   "metadata": {},
   "outputs": [],
   "source": [
    "MPNWAVE8_Pdata['STELLING_FIETS_w5'].replace(['strongly disagree' , 'disagree' , 'do not agree, do not disagree' , 'agree' , 'strongly agree' , 'Unknown' , 'Not asked, person younger than 16 years old'] , [1,2,3,4,5,0,0],inplace=True)\n",
    "new = pd.get_dummies(MPNWAVE8_Pdata['STELLING_FIETS_w5'],prefix='STELLING_FIETS_w5')\n",
    "MPNWAVE8_Pdata = MPNWAVE8_Pdata.join(new)\n",
    "MPNWAVE8_Pdata.drop('STELLING_FIETS_w5_0', axis=1,inplace=True)"
   ]
  },
  {
   "cell_type": "code",
   "execution_count": 579,
   "metadata": {},
   "outputs": [],
   "source": [
    "MPNWAVE8_Pdata['STELLING_OV'].replace(['strongly disagree' , 'disagree' , 'do not agree, do not disagree' , 'agree' , 'strongly agree' , 'Unknown' , 'Not asked, person younger than 16 years old'] , [1,2,3,4,5,0,0],inplace=True)\n",
    "new = pd.get_dummies(MPNWAVE8_Pdata['STELLING_OV'],prefix='STELLING_OV')\n",
    "MPNWAVE8_Pdata = MPNWAVE8_Pdata.join(new)\n",
    "MPNWAVE8_Pdata.drop('STELLING_OV_0', axis=1,inplace=True)"
   ]
  },
  {
   "cell_type": "code",
   "execution_count": 580,
   "metadata": {},
   "outputs": [
    {
     "data": {
      "text/plain": [
       "\"MPNWAVE8_Pdata['VVM_VOORKEUR_w5_WERK'].replace(['not applicable' , 'car' , 'Motorcycle' , 'Train' , 'Bus/tram/metro' , 'moped / light moped / scooter' , 'bike' , 'e-bike / speed pedelec' , 'Walking' , 'Mobility scooter \\\\ Canta \\\\ Wheelchair' , 'Other' , 'preference for multiple transport modes' , 'Not asked, person younger than 12 years old'] , [0,2,3,4,5,6,7,8,9,10,0,12,0], inplace=True)\\nnew = pd.get_dummies(MPNWAVE8_Pdata['VVM_VOORKEUR_w5_WERK'],prefix='VVM_VOORKEUR_w5_WERK')\\nMPNWAVE8_Pdata = MPNWAVE8_Pdata.join(new)\\nMPNWAVE8_Pdata.drop('VVM_VOORKEUR_w5_WERK_0', axis=1,inplace=True)\""
      ]
     },
     "execution_count": 580,
     "metadata": {},
     "output_type": "execute_result"
    }
   ],
   "source": [
    "'''MPNWAVE8_Pdata['VVM_VOORKEUR_w5_WERK'].replace(['not applicable' , 'car' , 'Motorcycle' , 'Train' , 'Bus/tram/metro' , 'moped / light moped / scooter' , 'bike' , 'e-bike / speed pedelec' , 'Walking' , 'Mobility scooter \\ Canta \\ Wheelchair' , 'Other' , 'preference for multiple transport modes' , 'Not asked, person younger than 12 years old'] , [0,2,3,4,5,6,7,8,9,10,0,12,0], inplace=True)\n",
    "new = pd.get_dummies(MPNWAVE8_Pdata['VVM_VOORKEUR_w5_WERK'],prefix='VVM_VOORKEUR_w5_WERK')\n",
    "MPNWAVE8_Pdata = MPNWAVE8_Pdata.join(new)\n",
    "MPNWAVE8_Pdata.drop('VVM_VOORKEUR_w5_WERK_0', axis=1,inplace=True)'''"
   ]
  },
  {
   "cell_type": "code",
   "execution_count": 581,
   "metadata": {},
   "outputs": [],
   "source": [
    "MPNWAVE8_Pdata['SPITSMIJDEN_OCHTEND_AUTO'].replace(['not asked, person does not travel by car to work' , 'not asked, person is unemployed','0.0'] , [0,0,0] , inplace=True)\n",
    "new = pd.get_dummies(MPNWAVE8_Pdata['SPITSMIJDEN_OCHTEND_AUTO'],prefix='SPITSMIJDEN_OCHTEND_AUTO')\n",
    "MPNWAVE8_Pdata = MPNWAVE8_Pdata.join(new)\n",
    "MPNWAVE8_Pdata.drop('SPITSMIJDEN_OCHTEND_AUTO_0', axis=1,inplace=True)"
   ]
  },
  {
   "cell_type": "code",
   "execution_count": 582,
   "metadata": {},
   "outputs": [],
   "source": [
    "MPNWAVE8_Pdata['SPITSMIJDEN_AVOND_AUTO'].replace(['not asked, person does not travel by car to work' , 'not asked, person is unemployed','0.0'] , [0,0,0] , inplace=True)\n",
    "new = pd.get_dummies(MPNWAVE8_Pdata['SPITSMIJDEN_AVOND_AUTO'],prefix='SPITSMIJDEN_AVOND_AUTO')\n",
    "MPNWAVE8_Pdata = MPNWAVE8_Pdata.join(new)\n",
    "MPNWAVE8_Pdata.drop('SPITSMIJDEN_AVOND_AUTO_0', axis=1,inplace=True)"
   ]
  },
  {
   "cell_type": "code",
   "execution_count": 583,
   "metadata": {},
   "outputs": [],
   "source": [
    "MPNWAVE8_Pdata['SPITSMIJDEN_OCHTEND_OV'].replace(['not asked, person does not travel by public transport to work' , 'not asked, person is unemployed','0.0'] , [0,0,0] , inplace=True)\n",
    "new = pd.get_dummies(MPNWAVE8_Pdata['SPITSMIJDEN_OCHTEND_OV'],prefix='SPITSMIJDEN_OCHTEND_OV')\n",
    "MPNWAVE8_Pdata = MPNWAVE8_Pdata.join(new)\n",
    "MPNWAVE8_Pdata.drop('SPITSMIJDEN_OCHTEND_OV_0', axis=1,inplace=True)"
   ]
  },
  {
   "cell_type": "code",
   "execution_count": 584,
   "metadata": {},
   "outputs": [],
   "source": [
    "MPNWAVE8_Pdata['SPITSMIJDEN_AVOND_OV'].replace(['not asked, person does not travel by public transport to work' , 'not asked, person is unemployed','0.0'] , [0,0,0] , inplace=True)\n",
    "new = pd.get_dummies(MPNWAVE8_Pdata['SPITSMIJDEN_AVOND_OV'],prefix='SPITSMIJDEN_AVOND_OV')\n",
    "MPNWAVE8_Pdata = MPNWAVE8_Pdata.join(new)\n",
    "MPNWAVE8_Pdata.drop('SPITSMIJDEN_AVOND_OV_0', axis=1,inplace=True)"
   ]
  },
  {
   "cell_type": "code",
   "execution_count": 585,
   "metadata": {},
   "outputs": [],
   "source": [
    "MPNWAVE8_Pdata['VOORKEUR_WERK1'].replace(['No' , 'Yes' , 'Not asked, person younger than 12 years old'] , [0,1,0] , inplace=True)\n",
    "MPNWAVE8_Pdata['VOORKEUR_WERK2'].replace(['No' , 'Yes' , 'Not asked, person younger than 12 years old'] , [0,1,0] , inplace=True)\n",
    "MPNWAVE8_Pdata['VOORKEUR_WERK3'].replace(['No' , 'Yes' , 'Not asked, person younger than 12 years old'] , [0,1,0] , inplace=True)\n",
    "MPNWAVE8_Pdata['VOORKEUR_WERK4'].replace(['No' , 'Yes' , 'Not asked, person younger than 12 years old'] , [0,1,0] , inplace=True)\n",
    "MPNWAVE8_Pdata['VOORKEUR_w5_WERK5'].replace(['No' , 'Yes' , 'Not asked, person younger than 12 years old'] , [0,1,0] , inplace=True)\n",
    "MPNWAVE8_Pdata['VOORKEUR_WERK6'].replace(['No' , 'Yes' , 'Not asked, person younger than 12 years old'] , [0,1,0] , inplace=True)\n",
    "MPNWAVE8_Pdata['VOORKEUR_WERK7'].replace(['No' , 'Yes' , 'Not asked, person younger than 12 years old'] , [0,1,0] , inplace=True)\n",
    "MPNWAVE8_Pdata['VOORKEUR_WERK8'].replace(['No' , 'Yes' , 'Not asked, person younger than 12 years old'] , [0,1,0] , inplace=True)\n",
    "MPNWAVE8_Pdata['VOORKEUR_WERK10'].replace(['No' , 'Yes' , 'Not asked, person younger than 12 years old'] , [0,1,0] , inplace=True)\n",
    "MPNWAVE8_Pdata['VOORKEUR_WERK11'].replace(['No' , 'Yes' , 'Not asked, person younger than 12 years old'] , [0,1,0] , inplace=True)\n",
    "MPNWAVE8_Pdata['VOORKEUR_WERK12'].replace(['No' , 'Yes' , 'Not asked, person younger than 12 years old'] , [0,1,0] , inplace=True)\n"
   ]
  },
  {
   "cell_type": "code",
   "execution_count": 586,
   "metadata": {},
   "outputs": [],
   "source": [
    "MPNWAVE8_Pdata['VOORKEUR_ZAKELIJK1'].replace(['No' , 'Yes' , 'Not asked, person younger than 12 years old'] , [0,1,0] , inplace=True)\n",
    "MPNWAVE8_Pdata['VOORKEUR_ZAKELIJK2'].replace(['No' , 'Yes' , 'Not asked, person younger than 12 years old'] , [0,1,0] , inplace=True)\n",
    "MPNWAVE8_Pdata['VOORKEUR_ZAKELIJK3'].replace(['No' , 'Yes' , 'Not asked, person younger than 12 years old'] , [0,1,0] , inplace=True)\n",
    "MPNWAVE8_Pdata['VOORKEUR_ZAKELIJK4'].replace(['No' , 'Yes' , 'Not asked, person younger than 12 years old'] , [0,1,0] , inplace=True)\n",
    "MPNWAVE8_Pdata['VOORKEUR_w5_ZAKELIJK5'].replace(['No' , 'Yes' , 'Not asked, person younger than 12 years old'] , [0,1,0] , inplace=True)\n",
    "MPNWAVE8_Pdata['VOORKEUR_ZAKELIJK6'].replace(['No' , 'Yes' , 'Not asked, person younger than 12 years old'] , [0,1,0] , inplace=True)\n",
    "MPNWAVE8_Pdata['VOORKEUR_ZAKELIJK7'].replace(['No' , 'Yes' , 'Not asked, person younger than 12 years old'] , [0,1,0] , inplace=True)\n",
    "MPNWAVE8_Pdata['VOORKEUR_ZAKELIJK8'].replace(['No' , 'Yes' , 'Not asked, person younger than 12 years old'] , [0,1,0] , inplace=True)\n",
    "MPNWAVE8_Pdata['VOORKEUR_ZAKELIJK10'].replace(['No' , 'Yes' , 'Not asked, person younger than 12 years old'] , [0,1,0] , inplace=True)\n",
    "MPNWAVE8_Pdata['VOORKEUR_ZAKELIJK11'].replace(['No' , 'Yes' , 'Not asked, person younger than 12 years old'] , [0,1,0] , inplace=True)\n",
    "MPNWAVE8_Pdata['VOORKEUR_ZAKELIJK12'].replace(['No' , 'Yes' , 'Not asked, person younger than 12 years old'] , [0,1,0] , inplace=True)\n"
   ]
  },
  {
   "cell_type": "code",
   "execution_count": 587,
   "metadata": {},
   "outputs": [],
   "source": [
    "MPNWAVE8_Pdata['VOORKEUR_SCHOOL1'].replace(['No' , 'Yes' , 'Not asked, person younger than 12 years old'] , [0,1,0] , inplace=True)\n",
    "MPNWAVE8_Pdata['VOORKEUR_SCHOOL2'].replace(['No' , 'Yes' , 'Not asked, person younger than 12 years old'] , [0,1,0] , inplace=True)\n",
    "MPNWAVE8_Pdata['VOORKEUR_SCHOOL3'].replace(['No' , 'Yes' , 'Not asked, person younger than 12 years old'] , [0,1,0] , inplace=True)\n",
    "MPNWAVE8_Pdata['VOORKEUR_SCHOOL4'].replace(['No' , 'Yes' , 'Not asked, person younger than 12 years old'] , [0,1,0] , inplace=True)\n",
    "MPNWAVE8_Pdata['VOORKEUR_w5_SCHOOL5'].replace(['No' , 'Yes' , 'Not asked, person younger than 12 years old'] , [0,1,0] , inplace=True)\n",
    "MPNWAVE8_Pdata['VOORKEUR_SCHOOL6'].replace(['No' , 'Yes' , 'Not asked, person younger than 12 years old'] , [0,1,0] , inplace=True)\n",
    "MPNWAVE8_Pdata['VOORKEUR_SCHOOL7'].replace(['No' , 'Yes' , 'Not asked, person younger than 12 years old'] , [0,1,0] , inplace=True)\n",
    "MPNWAVE8_Pdata['VOORKEUR_SCHOOL8'].replace(['No' , 'Yes' , 'Not asked, person younger than 12 years old'] , [0,1,0] , inplace=True)\n",
    "MPNWAVE8_Pdata['VOORKEUR_SCHOOL10'].replace(['No' , 'Yes' , 'Not asked, person younger than 12 years old'] , [0,1,0] , inplace=True)\n",
    "MPNWAVE8_Pdata['VOORKEUR_SCHOOL11'].replace(['No' , 'Yes' , 'Not asked, person younger than 12 years old'] , [0,1,0] , inplace=True)\n",
    "MPNWAVE8_Pdata['VOORKEUR_SCHOOL12'].replace(['No' , 'Yes' , 'Not asked, person younger than 12 years old'] , [0,1,0] , inplace=True)\n"
   ]
  },
  {
   "cell_type": "code",
   "execution_count": 588,
   "metadata": {},
   "outputs": [],
   "source": [
    "MPNWAVE8_Pdata['VOORKEUR_BOODSCH1'].replace(['No' , 'Yes' , 'Not asked, person younger than 12 years old'] , [0,1,0] , inplace=True)\n",
    "MPNWAVE8_Pdata['VOORKEUR_BOODSCH2'].replace(['No' , 'Yes' , 'Not asked, person younger than 12 years old'] , [0,1,0] , inplace=True)\n",
    "MPNWAVE8_Pdata['VOORKEUR_BOODSCH3'].replace(['No' , 'Yes' , 'Not asked, person younger than 12 years old'] , [0,1,0] , inplace=True)\n",
    "MPNWAVE8_Pdata['VOORKEUR_BOODSCH4'].replace(['No' , 'Yes' , 'Not asked, person younger than 12 years old'] , [0,1,0] , inplace=True)\n",
    "MPNWAVE8_Pdata['VOORKEUR_w5_BOODSCH5'].replace(['No' , 'Yes' , 'Not asked, person younger than 12 years old'] , [0,1,0] , inplace=True)\n",
    "MPNWAVE8_Pdata['VOORKEUR_BOODSCH6'].replace(['No' , 'Yes' , 'Not asked, person younger than 12 years old'] , [0,1,0] , inplace=True)\n",
    "MPNWAVE8_Pdata['VOORKEUR_BOODSCH7'].replace(['No' , 'Yes' , 'Not asked, person younger than 12 years old'] , [0,1,0] , inplace=True)\n",
    "MPNWAVE8_Pdata['VOORKEUR_BOODSCH8'].replace(['No' , 'Yes' , 'Not asked, person younger than 12 years old'] , [0,1,0] , inplace=True)\n",
    "MPNWAVE8_Pdata['VOORKEUR_BOODSCH10'].replace(['No' , 'Yes' , 'Not asked, person younger than 12 years old'] , [0,1,0] , inplace=True)\n",
    "MPNWAVE8_Pdata['VOORKEUR_BOODSCH11'].replace(['No' , 'Yes' , 'Not asked, person younger than 12 years old'] , [0,1,0] , inplace=True)\n",
    "MPNWAVE8_Pdata['VOORKEUR_BOODSCH12'].replace(['No' , 'Yes' , 'Not asked, person younger than 12 years old'] , [0,1,0] , inplace=True)\n"
   ]
  },
  {
   "cell_type": "code",
   "execution_count": 589,
   "metadata": {},
   "outputs": [],
   "source": [
    "MPNWAVE8_Pdata['VOORKEUR_WINKEL1'].replace(['No' , 'Yes' , 'Not asked, person younger than 12 years old'] , [0,1,0] , inplace=True)\n",
    "MPNWAVE8_Pdata['VOORKEUR_WINKEL2'].replace(['No' , 'Yes' , 'Not asked, person younger than 12 years old'] , [0,1,0] , inplace=True)\n",
    "MPNWAVE8_Pdata['VOORKEUR_WINKEL3'].replace(['No' , 'Yes' , 'Not asked, person younger than 12 years old'] , [0,1,0] , inplace=True)\n",
    "MPNWAVE8_Pdata['VOORKEUR_WINKEL4'].replace(['No' , 'Yes' , 'Not asked, person younger than 12 years old'] , [0,1,0] , inplace=True)\n",
    "MPNWAVE8_Pdata['VOORKEUR_w5_WINKEL5'].replace(['No' , 'Yes' , 'Not asked, person younger than 12 years old'] , [0,1,0] , inplace=True)\n",
    "MPNWAVE8_Pdata['VOORKEUR_WINKEL6'].replace(['No' , 'Yes' , 'Not asked, person younger than 12 years old'] , [0,1,0] , inplace=True)\n",
    "MPNWAVE8_Pdata['VOORKEUR_WINKEL7'].replace(['No' , 'Yes' , 'Not asked, person younger than 12 years old'] , [0,1,0] , inplace=True)\n",
    "MPNWAVE8_Pdata['VOORKEUR_WINKEL8'].replace(['No' , 'Yes' , 'Not asked, person younger than 12 years old'] , [0,1,0] , inplace=True)\n",
    "MPNWAVE8_Pdata['VOORKEUR_WINKEL10'].replace(['No' , 'Yes' , 'Not asked, person younger than 12 years old'] , [0,1,0] , inplace=True)\n",
    "MPNWAVE8_Pdata['VOORKEUR_WINKEL11'].replace(['No' , 'Yes' , 'Not asked, person younger than 12 years old'] , [0,1,0] , inplace=True)\n",
    "MPNWAVE8_Pdata['VOORKEUR_WINKEL12'].replace(['No' , 'Yes' , 'Not asked, person younger than 12 years old'] , [0,1,0] , inplace=True)\n"
   ]
  },
  {
   "cell_type": "code",
   "execution_count": 590,
   "metadata": {},
   "outputs": [],
   "source": [
    "MPNWAVE8_Pdata['VOORKEUR_HORECA1'].replace(['No' , 'Yes' , 'Not asked, person younger than 12 years old'] , [0,1,0] , inplace=True)\n",
    "MPNWAVE8_Pdata['VOORKEUR_HORECA2'].replace(['No' , 'Yes' , 'Not asked, person younger than 12 years old'] , [0,1,0] , inplace=True)\n",
    "MPNWAVE8_Pdata['VOORKEUR_HORECA3'].replace(['No' , 'Yes' , 'Not asked, person younger than 12 years old'] , [0,1,0] , inplace=True)\n",
    "MPNWAVE8_Pdata['VOORKEUR_HORECA4'].replace(['No' , 'Yes' , 'Not asked, person younger than 12 years old'] , [0,1,0] , inplace=True)\n",
    "MPNWAVE8_Pdata['VOORKEUR_HORECA5'].replace(['No' , 'Yes' , 'Not asked, person younger than 12 years old'] , [0,1,0] , inplace=True)\n",
    "MPNWAVE8_Pdata['VOORKEUR_HORECA6'].replace(['No' , 'Yes' , 'Not asked, person younger than 12 years old'] , [0,1,0] , inplace=True)\n",
    "MPNWAVE8_Pdata['VOORKEUR_HORECA7'].replace(['No' , 'Yes' , 'Not asked, person younger than 12 years old'] , [0,1,0] , inplace=True)\n",
    "MPNWAVE8_Pdata['VOORKEUR_HORECA8'].replace(['No' , 'Yes' , 'Not asked, person younger than 12 years old'] , [0,1,0] , inplace=True)\n",
    "MPNWAVE8_Pdata['VOORKEUR_HORECA10'].replace(['No' , 'Yes' , 'Not asked, person younger than 12 years old'] , [0,1,0] , inplace=True)\n",
    "MPNWAVE8_Pdata['VOORKEUR_HORECA11'].replace(['No' , 'Yes' , 'Not asked, person younger than 12 years old'] , [0,1,0] , inplace=True)\n",
    "MPNWAVE8_Pdata['VOORKEUR_HORECA12'].replace(['No' , 'Yes' , 'Not asked, person younger than 12 years old'] , [0,1,0] , inplace=True)\n"
   ]
  },
  {
   "cell_type": "code",
   "execution_count": 591,
   "metadata": {},
   "outputs": [],
   "source": [
    "MPNWAVE8_Pdata['VOORKEUR_VISITE1'].replace(['No' , 'Yes' , 'Not asked, person younger than 12 years old'] , [0,1,0] , inplace=True)\n",
    "MPNWAVE8_Pdata['VOORKEUR_VISITE2'].replace(['No' , 'Yes' , 'Not asked, person younger than 12 years old'] , [0,1,0] , inplace=True)\n",
    "MPNWAVE8_Pdata['VOORKEUR_VISITE3'].replace(['No' , 'Yes' , 'Not asked, person younger than 12 years old'] , [0,1,0] , inplace=True)\n",
    "MPNWAVE8_Pdata['VOORKEUR_VISITE4'].replace(['No' , 'Yes' , 'Not asked, person younger than 12 years old'] , [0,1,0] , inplace=True)\n",
    "MPNWAVE8_Pdata['VOORKEUR_w5_VISITE5'].replace(['No' , 'Yes' , 'Not asked, person younger than 12 years old'] , [0,1,0] , inplace=True)\n",
    "MPNWAVE8_Pdata['VOORKEUR_VISITE6'].replace(['No' , 'Yes' , 'Not asked, person younger than 12 years old'] , [0,1,0] , inplace=True)\n",
    "MPNWAVE8_Pdata['VOORKEUR_VISITE7'].replace(['No' , 'Yes' , 'Not asked, person younger than 12 years old'] , [0,1,0] , inplace=True)\n",
    "MPNWAVE8_Pdata['VOORKEUR_VISITE8'].replace(['No' , 'Yes' , 'Not asked, person younger than 12 years old'] , [0,1,0] , inplace=True)\n",
    "MPNWAVE8_Pdata['VOORKEUR_VISITE10'].replace(['No' , 'Yes' , 'Not asked, person younger than 12 years old'] , [0,1,0] , inplace=True)\n",
    "MPNWAVE8_Pdata['VOORKEUR_VISITE11'].replace(['No' , 'Yes' , 'Not asked, person younger than 12 years old'] , [0,1,0] , inplace=True)\n",
    "MPNWAVE8_Pdata['VOORKEUR_VISITE12'].replace(['No' , 'Yes' , 'Not asked, person younger than 12 years old'] , [0,1,0] , inplace=True)\n"
   ]
  },
  {
   "cell_type": "code",
   "execution_count": 592,
   "metadata": {},
   "outputs": [],
   "source": [
    "MPNWAVE8_Pdata['VOORKEUR_EROPUIT1'].replace(['No' , 'Yes' , 'Not asked, person younger than 12 years old'] , [0,1,0] , inplace=True)\n",
    "MPNWAVE8_Pdata['VOORKEUR_EROPUIT2'].replace(['No' , 'Yes' , 'Not asked, person younger than 12 years old'] , [0,1,0] , inplace=True)\n",
    "MPNWAVE8_Pdata['VOORKEUR_EROPUIT3'].replace(['No' , 'Yes' , 'Not asked, person younger than 12 years old'] , [0,1,0] , inplace=True)\n",
    "MPNWAVE8_Pdata['VOORKEUR_EROPUIT4'].replace(['No' , 'Yes' , 'Not asked, person younger than 12 years old'] , [0,1,0] , inplace=True)\n",
    "MPNWAVE8_Pdata['VOORKEUR_w5_EROPUIT5'].replace(['No' , 'Yes' , 'Not asked, person younger than 12 years old'] , [0,1,0] , inplace=True)\n",
    "MPNWAVE8_Pdata['VOORKEUR_EROPUIT6'].replace(['No' , 'Yes' , 'Not asked, person younger than 12 years old'] , [0,1,0] , inplace=True)\n",
    "MPNWAVE8_Pdata['VOORKEUR_EROPUIT7'].replace(['No' , 'Yes' , 'Not asked, person younger than 12 years old'] , [0,1,0] , inplace=True)\n",
    "MPNWAVE8_Pdata['VOORKEUR_EROPUIT8'].replace(['No' , 'Yes' , 'Not asked, person younger than 12 years old'] , [0,1,0] , inplace=True)\n",
    "MPNWAVE8_Pdata['VOORKEUR_EROPUIT10'].replace(['No' , 'Yes' , 'Not asked, person younger than 12 years old'] , [0,1,0] , inplace=True)\n",
    "MPNWAVE8_Pdata['VOORKEUR_EROPUIT11'].replace(['No' , 'Yes' , 'Not asked, person younger than 12 years old'] , [0,1,0] , inplace=True)\n",
    "MPNWAVE8_Pdata['VOORKEUR_EROPUIT12'].replace(['No' , 'Yes' , 'Not asked, person younger than 12 years old'] , [0,1,0] , inplace=True)\n"
   ]
  },
  {
   "cell_type": "code",
   "execution_count": 593,
   "metadata": {},
   "outputs": [],
   "source": [
    "MPNWAVE8_Pdata['VOORKEUR_SPORTEN1'].replace(['No' , 'Yes' , 'Not asked, person younger than 12 years old'] , [0,1,0] , inplace=True)\n",
    "MPNWAVE8_Pdata['VOORKEUR_SPORTEN2'].replace(['No' , 'Yes' , 'Not asked, person younger than 12 years old'] , [0,1,0] , inplace=True)\n",
    "MPNWAVE8_Pdata['VOORKEUR_SPORTEN3'].replace(['No' , 'Yes' , 'Not asked, person younger than 12 years old'] , [0,1,0] , inplace=True)\n",
    "MPNWAVE8_Pdata['VOORKEUR_SPORTEN4'].replace(['No' , 'Yes' , 'Not asked, person younger than 12 years old'] , [0,1,0] , inplace=True)\n",
    "MPNWAVE8_Pdata['VOORKEUR_w5_SPORTEN5'].replace(['No' , 'Yes' , 'Not asked, person younger than 12 years old'] , [0,1,0] , inplace=True)\n",
    "MPNWAVE8_Pdata['VOORKEUR_SPORTEN6'].replace(['No' , 'Yes' , 'Not asked, person younger than 12 years old'] , [0,1,0] , inplace=True)\n",
    "MPNWAVE8_Pdata['VOORKEUR_SPORTEN7'].replace(['No' , 'Yes' , 'Not asked, person younger than 12 years old'] , [0,1,0] , inplace=True)\n",
    "MPNWAVE8_Pdata['VOORKEUR_SPORTEN8'].replace(['No' , 'Yes' , 'Not asked, person younger than 12 years old'] , [0,1,0] , inplace=True)\n",
    "MPNWAVE8_Pdata['VOORKEUR_SPORTEN10'].replace(['No' , 'Yes' , 'Not asked, person younger than 12 years old'] , [0,1,0] , inplace=True)\n",
    "MPNWAVE8_Pdata['VOORKEUR_SPORTEN11'].replace(['No' , 'Yes' , 'Not asked, person younger than 12 years old'] , [0,1,0] , inplace=True)\n",
    "MPNWAVE8_Pdata['VOORKEUR_SPORTEN12'].replace(['No' , 'Yes' , 'Not asked, person younger than 12 years old'] , [0,1,0] , inplace=True)\n"
   ]
  },
  {
   "cell_type": "code",
   "execution_count": 594,
   "metadata": {},
   "outputs": [],
   "source": [
    "MPNWAVE8_Pdata['VOORKEUR_MANTELZORG1'].replace(['No' , 'Yes' , 'Not asked, person younger than 12 years old'] , [0,1,0] , inplace=True)\n",
    "MPNWAVE8_Pdata['VOORKEUR_MANTELZORG2'].replace(['No' , 'Yes' , 'Not asked, person younger than 12 years old'] , [0,1,0] , inplace=True)\n",
    "MPNWAVE8_Pdata['VOORKEUR_MANTELZORG3'].replace(['No' , 'Yes' , 'Not asked, person younger than 12 years old'] , [0,1,0] , inplace=True)\n",
    "MPNWAVE8_Pdata['VOORKEUR_MANTELZORG4'].replace(['No' , 'Yes' , 'Not asked, person younger than 12 years old'] , [0,1,0] , inplace=True)\n",
    "MPNWAVE8_Pdata['VOORKEUR_MANTELZORG5'].replace(['No' , 'Yes' , 'Not asked, person younger than 12 years old'] , [0,1,0] , inplace=True)\n",
    "MPNWAVE8_Pdata['VOORKEUR_MANTELZORG6'].replace(['No' , 'Yes' , 'Not asked, person younger than 12 years old'] , [0,1,0] , inplace=True)\n",
    "MPNWAVE8_Pdata['VOORKEUR_MANTELZORG7'].replace(['No' , 'Yes' , 'Not asked, person younger than 12 years old'] , [0,1,0] , inplace=True)\n",
    "MPNWAVE8_Pdata['VOORKEUR_MANTELZORG8'].replace(['No' , 'Yes' , 'Not asked, person younger than 12 years old'] , [0,1,0] , inplace=True)\n",
    "MPNWAVE8_Pdata['VOORKEUR_MANTELZORG10'].replace(['No' , 'Yes' , 'Not asked, person younger than 12 years old'] , [0,1,0] , inplace=True)\n",
    "MPNWAVE8_Pdata['VOORKEUR_MANTELZORG11'].replace(['No' , 'Yes' , 'Not asked, person younger than 12 years old'] , [0,1,0] , inplace=True)\n",
    "MPNWAVE8_Pdata['VOORKEUR_MANTELZORG12'].replace(['No' , 'Yes' , 'Not asked, person younger than 12 years old'] , [0,1,0] , inplace=True)\n"
   ]
  },
  {
   "cell_type": "code",
   "execution_count": 595,
   "metadata": {},
   "outputs": [],
   "source": [
    "MPNWAVE8_Pdata['VOORKEUR_VTOVERIG1'].replace(['No' , 'Yes' , 'Not asked, person younger than 12 years old'] , [0,1,0] , inplace=True)\n",
    "MPNWAVE8_Pdata['VOORKEUR_VTOVERIG2'].replace(['No' , 'Yes' , 'Not asked, person younger than 12 years old'] , [0,1,0] , inplace=True)\n",
    "MPNWAVE8_Pdata['VOORKEUR_VTOVERIG3'].replace(['No' , 'Yes' , 'Not asked, person younger than 12 years old'] , [0,1,0] , inplace=True)\n",
    "MPNWAVE8_Pdata['VOORKEUR_VTOVERIG4'].replace(['No' , 'Yes' , 'Not asked, person younger than 12 years old'] , [0,1,0] , inplace=True)\n",
    "MPNWAVE8_Pdata['VOORKEUR_VTOVERIG5'].replace(['No' , 'Yes' , 'Not asked, person younger than 12 years old'] , [0,1,0] , inplace=True)\n",
    "MPNWAVE8_Pdata['VOORKEUR_VTOVERIG6'].replace(['No' , 'Yes' , 'Not asked, person younger than 12 years old'] , [0,1,0] , inplace=True)\n",
    "MPNWAVE8_Pdata['VOORKEUR_VTOVERIG7'].replace(['No' , 'Yes' , 'Not asked, person younger than 12 years old'] , [0,1,0] , inplace=True)\n",
    "MPNWAVE8_Pdata['VOORKEUR_VTOVERIG8'].replace(['No' , 'Yes' , 'Not asked, person younger than 12 years old'] , [0,1,0] , inplace=True)\n",
    "MPNWAVE8_Pdata['VOORKEUR_VTOVERIG10'].replace(['No' , 'Yes' , 'Not asked, person younger than 12 years old'] , [0,1,0] , inplace=True)\n",
    "MPNWAVE8_Pdata['VOORKEUR_VTOVERIG11'].replace(['No' , 'Yes' , 'Not asked, person younger than 12 years old'] , [0,1,0] , inplace=True)\n",
    "MPNWAVE8_Pdata['VOORKEUR_VTOVERIG12'].replace(['No' , 'Yes' , 'Not asked, person younger than 12 years old'] , [0,1,0] , inplace=True)\n"
   ]
  },
  {
   "cell_type": "code",
   "execution_count": 596,
   "metadata": {},
   "outputs": [
    {
     "data": {
      "text/plain": [
       "'MPNWAVE8_Pdata[\\'BEZIT_OVKAART\\'].replace([\\'Yes a business public transport chip card for business use only\\' , \\'Yes a business public transport chip card that I also use privately\\' , \\'Yes a personal OV chip card\\' , \\'Yes an anonymous OV chip card\\' , \\'No\\' , \"Possession of public transport chip card: Don\\'t know\" , \\'Not asked, person younger than 12 years old\\'] , [1,2,3,4,0,0,0] , inplace=True)\\nnew = pd.get_dummies(MPNWAVE8_Pdata[\\'BEZIT_OVKAART\\'],prefix=\\'BEZIT_OVKAART\\')\\nMPNWAVE8_Pdata = MPNWAVE8_Pdata.join(new)\\nMPNWAVE8_Pdata.drop(\\'BEZIT_OVKAART_0\\', axis=1,inplace=True)'"
      ]
     },
     "execution_count": 596,
     "metadata": {},
     "output_type": "execute_result"
    }
   ],
   "source": [
    "'''MPNWAVE8_Pdata['BEZIT_OVKAART'].replace(['Yes a business public transport chip card for business use only' , 'Yes a business public transport chip card that I also use privately' , 'Yes a personal OV chip card' , 'Yes an anonymous OV chip card' , 'No' , \"Possession of public transport chip card: Don't know\" , 'Not asked, person younger than 12 years old'] , [1,2,3,4,0,0,0] , inplace=True)\n",
    "new = pd.get_dummies(MPNWAVE8_Pdata['BEZIT_OVKAART'],prefix='BEZIT_OVKAART')\n",
    "MPNWAVE8_Pdata = MPNWAVE8_Pdata.join(new)\n",
    "MPNWAVE8_Pdata.drop('BEZIT_OVKAART_0', axis=1,inplace=True)'''"
   ]
  },
  {
   "cell_type": "code",
   "execution_count": 597,
   "metadata": {},
   "outputs": [],
   "source": [
    "MPNWAVE8_Pdata['TYPE_OVKAART1'].replace(['No' , 'Yes' , 'person does not have a personal OV chip card'] , [0,1,0] , inplace=True)\n",
    "MPNWAVE8_Pdata['TYPE_OVKAART2'].replace(['No' , 'Yes' , 'person does not have a personal OV chip card'] , [0,1,0] , inplace=True)\n",
    "MPNWAVE8_Pdata['TYPE_OVKAART3'].replace(['No' , 'Yes' , 'person does not have a personal OV chip card'] , [0,1,0] , inplace=True)\n",
    "MPNWAVE8_Pdata['TYPE_OVKAART4'].replace(['No' , 'Yes' , 'person does not have a personal OV chip card'] , [0,1,0] , inplace=True)\n",
    "MPNWAVE8_Pdata['TYPE_OVKAART5'].replace(['No' , 'Yes' , 'person does not have a personal OV chip card'] , [0,1,0] , inplace=True)\n",
    "MPNWAVE8_Pdata['TYPE_OVKAART6'].replace(['No' , 'Yes' , 'person does not have a personal OV chip card'] , [0,1,0] , inplace=True)\n",
    "MPNWAVE8_Pdata['TYPE_OVKAART7'].replace(['No' , 'Yes' , 'person does not have a personal OV chip card'] , [0,1,0] , inplace=True)\n",
    "MPNWAVE8_Pdata['TYPE_OVKAART8'].replace(['No' , 'Yes' , 'person does not have a personal OV chip card'] , [0,1,0] , inplace=True)\n",
    "MPNWAVE8_Pdata['TYPE_OVKAART9'].replace(['No' , 'Yes' , 'person does not have a personal OV chip card'] , [0,1,0] , inplace=True)\n"
   ]
  },
  {
   "cell_type": "code",
   "execution_count": 598,
   "metadata": {},
   "outputs": [],
   "source": [
    "MPNWAVE8_Pdata['BESCHIK_AUTO'].replace(['Car availability: yes, whenever I want' , 'Car availability: no, I have to coordinate this with people in my household' , 'Car availability: no, but sometimes I can use the car of family / friends / acquaintances' , 'Car availability: no, (almost) never' , \"not requested, driver's license correction\" , 'not asked, person has no driving license' , 'Not asked, person is younger than 16 years old'] , [1,2,3,0,0,0,0] , inplace=True)\n",
    "new = pd.get_dummies(MPNWAVE8_Pdata['BESCHIK_AUTO'],prefix='BESCHIK_AUTO')\n",
    "MPNWAVE8_Pdata = MPNWAVE8_Pdata.join(new)\n",
    "MPNWAVE8_Pdata.drop('BESCHIK_AUTO_0', axis=1,inplace=True)"
   ]
  },
  {
   "cell_type": "code",
   "execution_count": 599,
   "metadata": {},
   "outputs": [],
   "source": [
    "MPNWAVE8_Pdata['GEBRUIK_PARK1'].replace(['No' , 'Yes' , 'Unknown' , 'not asked, person is unemployed' , 'Not asked, person younger than 12 years old'] , [0,1,0,0,0] , inplace=True)\n",
    "MPNWAVE8_Pdata['GEBRUIK_PARK2'].replace(['No' , 'Yes' , 'Unknown' , 'not asked, person is unemployed' , 'Not asked, person younger than 12 years old'] , [0,1,0,0,0] , inplace=True)\n",
    "MPNWAVE8_Pdata['GEBRUIK_PARK3'].replace(['No' , 'Yes' , 'Unknown' , 'not asked, person is unemployed' , 'Not asked, person younger than 12 years old'] , [0,1,0,0,0] , inplace=True)\n",
    "MPNWAVE8_Pdata['GEBRUIK_PARK4'].replace(['No' , 'Yes' , 'Unknown' , 'not asked, person is unemployed' , 'Not asked, person younger than 12 years old'] , [0,1,0,0,0] , inplace=True)\n",
    "\n"
   ]
  },
  {
   "cell_type": "code",
   "execution_count": 600,
   "metadata": {},
   "outputs": [],
   "source": [
    "MPNWAVE8_Pdata['N_ACTIVITEIT_w5_1'].replace(['4 or more days per week' , '1 to 3 days per week' , '1 to 3 days per month' , '6 to 11 days per year' , '1 to 5 days per year' , '(almost) never' , 'Not asked, person younger than 12 years old'] , [1,2,3,4,5,0,0] , inplace=True)\n",
    "new = pd.get_dummies(MPNWAVE8_Pdata['N_ACTIVITEIT_w5_1'],prefix='N_ACTIVITEIT_w5_1')\n",
    "MPNWAVE8_Pdata = MPNWAVE8_Pdata.join(new)\n",
    "MPNWAVE8_Pdata.drop('N_ACTIVITEIT_w5_1_0', axis=1,inplace=True)"
   ]
  },
  {
   "cell_type": "code",
   "execution_count": 601,
   "metadata": {},
   "outputs": [],
   "source": [
    "MPNWAVE8_Pdata['N_ACTIVITEIT_w5_2'].replace(['4 or more days per week' , '1 to 3 days per week' , '1 to 3 days per month' , '6 to 11 days per year' , '1 to 5 days per year' , '(almost) never' , 'Not asked, person younger than 12 years old'] , [1,2,3,4,5,0,0] , inplace=True)\n",
    "new = pd.get_dummies(MPNWAVE8_Pdata['N_ACTIVITEIT_w5_2'],prefix='N_ACTIVITEIT_w5_2')\n",
    "MPNWAVE8_Pdata = MPNWAVE8_Pdata.join(new)\n",
    "MPNWAVE8_Pdata.drop('N_ACTIVITEIT_w5_2_0', axis=1,inplace=True)"
   ]
  },
  {
   "cell_type": "code",
   "execution_count": 602,
   "metadata": {},
   "outputs": [],
   "source": [
    "MPNWAVE8_Pdata['N_ACTIVITEIT11'].replace(['4 or more days per week' , '1 to 3 days per week' , '1 to 3 days per month' , '6 to 11 days per year' , '1 to 5 days per year' , '(almost) never' , 'Not asked, person younger than 12 years old'] , [1,2,3,4,5,0,0] , inplace=True)\n",
    "new = pd.get_dummies(MPNWAVE8_Pdata['N_ACTIVITEIT11'],prefix='N_ACTIVITEIT11')\n",
    "MPNWAVE8_Pdata = MPNWAVE8_Pdata.join(new)\n",
    "MPNWAVE8_Pdata.drop('N_ACTIVITEIT11_0', axis=1,inplace=True)"
   ]
  },
  {
   "cell_type": "code",
   "execution_count": 603,
   "metadata": {},
   "outputs": [],
   "source": [
    "MPNWAVE8_Pdata['N_ACTIVITEIT_w5_4'].replace(['4 or more days per week' , '1 to 3 days per week' , '1 to 3 days per month' , '6 to 11 days per year' , '1 to 5 days per year' , '(almost) never' , 'Not asked, person younger than 12 years old'] , [1,2,3,4,5,0,0] , inplace=True)\n",
    "new = pd.get_dummies(MPNWAVE8_Pdata['N_ACTIVITEIT_w5_4'],prefix='N_ACTIVITEIT_w5_4')\n",
    "MPNWAVE8_Pdata = MPNWAVE8_Pdata.join(new)\n",
    "MPNWAVE8_Pdata.drop('N_ACTIVITEIT_w5_4_0', axis=1,inplace=True)"
   ]
  },
  {
   "cell_type": "code",
   "execution_count": 604,
   "metadata": {},
   "outputs": [],
   "source": [
    "MPNWAVE8_Pdata['N_ACTIVITEIT_w5_5'].replace(['4 or more days per week' , '1 to 3 days per week' , '1 to 3 days per month' , '6 to 11 days per year' , '1 to 5 days per year' , '(almost) never' , 'Not asked, person younger than 12 years old'] , [1,2,3,4,5,0,0] , inplace=True)\n",
    "new = pd.get_dummies(MPNWAVE8_Pdata['N_ACTIVITEIT_w5_5'],prefix='N_ACTIVITEIT_w5_5')\n",
    "MPNWAVE8_Pdata = MPNWAVE8_Pdata.join(new)\n",
    "MPNWAVE8_Pdata.drop('N_ACTIVITEIT_w5_5_0', axis=1,inplace=True)"
   ]
  },
  {
   "cell_type": "code",
   "execution_count": 605,
   "metadata": {},
   "outputs": [],
   "source": [
    "MPNWAVE8_Pdata['N_ACTIVITEIT12'].replace(['4 or more days per week' , '1 to 3 days per week' , '1 to 3 days per month' , '6 to 11 days per year' , '1 to 5 days per year' , '(almost) never' , 'Not asked, person younger than 12 years old'] , [1,2,3,4,5,0,0] , inplace=True)\n",
    "new = pd.get_dummies(MPNWAVE8_Pdata['N_ACTIVITEIT12'],prefix='N_ACTIVITEIT12')\n",
    "MPNWAVE8_Pdata = MPNWAVE8_Pdata.join(new)\n",
    "MPNWAVE8_Pdata.drop('N_ACTIVITEIT12_0', axis=1,inplace=True)"
   ]
  },
  {
   "cell_type": "code",
   "execution_count": 606,
   "metadata": {},
   "outputs": [],
   "source": [
    "MPNWAVE8_Pdata['N_ACTIVITEIT_w5_8'].replace(['4 or more days per week' , '1 to 3 days per week' , '1 to 3 days per month' , '6 to 11 days per year' , '1 to 5 days per year' , '(almost) never' , 'Not asked, person younger than 12 years old'] , [1,2,3,4,5,0,0] , inplace=True)\n",
    "new = pd.get_dummies(MPNWAVE8_Pdata['N_ACTIVITEIT_w5_8'],prefix='N_ACTIVITEIT_w5_8')\n",
    "MPNWAVE8_Pdata = MPNWAVE8_Pdata.join(new)\n",
    "MPNWAVE8_Pdata.drop('N_ACTIVITEIT_w5_8_0', axis=1,inplace=True)"
   ]
  },
  {
   "cell_type": "code",
   "execution_count": 607,
   "metadata": {},
   "outputs": [],
   "source": [
    "MPNWAVE8_Pdata['N_ACTIVITEIT14'].replace(['4 or more days per week' , '1 to 3 days per week' , '1 to 3 days per month' , '6 to 11 days per year' , '1 to 5 days per year' , '(almost) never' , 'Not asked, person younger than 12 years old'] , [1,2,3,4,5,0,0] , inplace=True)\n",
    "new = pd.get_dummies(MPNWAVE8_Pdata['N_ACTIVITEIT14'],prefix='N_ACTIVITEIT14')\n",
    "MPNWAVE8_Pdata = MPNWAVE8_Pdata.join(new)\n",
    "MPNWAVE8_Pdata.drop('N_ACTIVITEIT14_0', axis=1,inplace=True)"
   ]
  },
  {
   "cell_type": "code",
   "execution_count": 608,
   "metadata": {},
   "outputs": [],
   "source": [
    "MPNWAVE8_Pdata['N_ACTIVITEIT_w5_10'].replace(['4 or more days per week' , '1 to 3 days per week' , '1 to 3 days per month' , '6 to 11 days per year' , '1 to 5 days per year' , '(almost) never' , 'Not asked, person younger than 12 years old'] , [1,2,3,4,5,0,0] , inplace=True)\n",
    "new = pd.get_dummies(MPNWAVE8_Pdata['N_ACTIVITEIT_w5_10'],prefix='N_ACTIVITEIT_w5_10')\n",
    "MPNWAVE8_Pdata = MPNWAVE8_Pdata.join(new)\n",
    "MPNWAVE8_Pdata.drop('N_ACTIVITEIT_w5_10_0', axis=1,inplace=True)"
   ]
  },
  {
   "cell_type": "code",
   "execution_count": 609,
   "metadata": {},
   "outputs": [],
   "source": [
    "MPNWAVE8_Pdata['N_ACTIVITEIT13'].replace(['4 or more days per week' , '1 to 3 days per week' , '1 to 3 days per month' , '6 to 11 days per year' , '1 to 5 days per year' , '(almost) never' , 'Not asked, person younger than 12 years old'] , [1,2,3,4,5,0,0] , inplace=True)\n",
    "new = pd.get_dummies(MPNWAVE8_Pdata['N_ACTIVITEIT13'],prefix='N_ACTIVITEIT13')\n",
    "MPNWAVE8_Pdata = MPNWAVE8_Pdata.join(new)\n",
    "MPNWAVE8_Pdata.drop('N_ACTIVITEIT13_0', axis=1,inplace=True)"
   ]
  },
  {
   "cell_type": "code",
   "execution_count": 610,
   "metadata": {},
   "outputs": [],
   "source": [
    "MPNWAVE8_Pdata['GEBRUIK_AUTO_w5'].replace(['4 or more days per week' , '1 to 3 days per week' , '1 to 3 days per month' , '6 to 11 days per year' , '1 to 5 days per year' , '(almost) never' , 'Not asked, person younger than 12 years old'] , [1,2,3,4,5,0,0] , inplace=True)\n",
    "new = pd.get_dummies(MPNWAVE8_Pdata['GEBRUIK_AUTO_w5'],prefix='GEBRUIK_AUTO_w5')\n",
    "MPNWAVE8_Pdata = MPNWAVE8_Pdata.join(new)\n",
    "MPNWAVE8_Pdata.drop('GEBRUIK_AUTO_w5_0', axis=1,inplace=True)"
   ]
  },
  {
   "cell_type": "code",
   "execution_count": 611,
   "metadata": {},
   "outputs": [],
   "source": [
    "MPNWAVE8_Pdata['GEBRUIK_MOTOR_w5'].replace(['4 or more days per week' , '1 to 3 days per week' , '1 to 3 days per month' , '6 to 11 days per year' , '1 to 5 days per year' , '(almost) never' , 'Not asked, person younger than 12 years old'] , [1,2,3,4,5,0,0] , inplace=True)\n",
    "new = pd.get_dummies(MPNWAVE8_Pdata['GEBRUIK_MOTOR_w5'],prefix='GEBRUIK_MOTOR_w5')\n",
    "MPNWAVE8_Pdata = MPNWAVE8_Pdata.join(new)\n",
    "MPNWAVE8_Pdata.drop('GEBRUIK_MOTOR_w5_0', axis=1,inplace=True)"
   ]
  },
  {
   "cell_type": "code",
   "execution_count": 612,
   "metadata": {},
   "outputs": [],
   "source": [
    "MPNWAVE8_Pdata['GEBRUIK_TREIN_w5'].replace(['4 or more days per week' , '1 to 3 days per week' , '1 to 3 days per month' , '6 to 11 days per year' , '1 to 5 days per year' , '(almost) never' , 'Not asked, person younger than 12 years old'] , [1,2,3,4,5,0,0] , inplace=True)\n",
    "new = pd.get_dummies(MPNWAVE8_Pdata['GEBRUIK_TREIN_w5'],prefix='GEBRUIK_TREIN_w5')\n",
    "MPNWAVE8_Pdata = MPNWAVE8_Pdata.join(new)\n",
    "MPNWAVE8_Pdata.drop('GEBRUIK_TREIN_w5_0', axis=1,inplace=True)"
   ]
  },
  {
   "cell_type": "code",
   "execution_count": 613,
   "metadata": {},
   "outputs": [],
   "source": [
    "MPNWAVE8_Pdata['GEBRUIK_BTM_w5'].replace(['4 or more days per week' , '1 to 3 days per week' , '1 to 3 days per month' , '6 to 11 days per year' , '1 to 5 days per year' , '(almost) never' , 'Not asked, person younger than 12 years old'] , [1,2,3,4,5,0,0] , inplace=True)\n",
    "new = pd.get_dummies(MPNWAVE8_Pdata['GEBRUIK_BTM_w5'],prefix='GEBRUIK_BTM_w5')\n",
    "MPNWAVE8_Pdata = MPNWAVE8_Pdata.join(new)\n",
    "MPNWAVE8_Pdata.drop('GEBRUIK_BTM_w5_0', axis=1,inplace=True)"
   ]
  },
  {
   "cell_type": "code",
   "execution_count": 614,
   "metadata": {},
   "outputs": [],
   "source": [
    "MPNWAVE8_Pdata['GEBRUIK_SNOR'].replace(['4 or more days per week' , '1 to 3 days per week' , '1 to 3 days per month' , '6 to 11 days per year' , '1 to 5 days per year' , '(almost) never' , 'Not asked, person younger than 12 years old'] , [1,2,3,4,5,0,0] , inplace=True)\n",
    "new = pd.get_dummies(MPNWAVE8_Pdata['GEBRUIK_SNOR'],prefix='GEBRUIK_SNOR')\n",
    "MPNWAVE8_Pdata = MPNWAVE8_Pdata.join(new)\n",
    "MPNWAVE8_Pdata.drop('GEBRUIK_SNOR_0', axis=1,inplace=True)"
   ]
  },
  {
   "cell_type": "code",
   "execution_count": 615,
   "metadata": {},
   "outputs": [],
   "source": [
    "MPNWAVE8_Pdata['GEBRUIK_BROM_w5'].replace(['4 or more days per week' , '1 to 3 days per week' , '1 to 3 days per month' , '6 to 11 days per year' , '1 to 5 days per year' , '(almost) never' , 'Not asked, person younger than 12 years old'] , [1,2,3,4,5,0,0] , inplace=True)\n",
    "new = pd.get_dummies(MPNWAVE8_Pdata['GEBRUIK_BROM_w5'],prefix='GEBRUIK_BROM_w5')\n",
    "MPNWAVE8_Pdata = MPNWAVE8_Pdata.join(new)\n",
    "MPNWAVE8_Pdata.drop('GEBRUIK_BROM_w5_0', axis=1,inplace=True)\n"
   ]
  },
  {
   "cell_type": "code",
   "execution_count": 616,
   "metadata": {},
   "outputs": [],
   "source": [
    "MPNWAVE8_Pdata['GEBRUIK_FIETS_w5'].replace(['4 or more days per week' , '1 to 3 days per week' , '1 to 3 days per month' , '6 to 11 days per year' , '1 to 5 days per year' , '(almost) never' , 'Not asked, person younger than 12 years old'] , [1,2,3,4,5,0,0] , inplace=True)\n",
    "new = pd.get_dummies(MPNWAVE8_Pdata['GEBRUIK_FIETS_w5'],prefix='GEBRUIK_FIETS_w5')\n",
    "MPNWAVE8_Pdata = MPNWAVE8_Pdata.join(new)\n",
    "MPNWAVE8_Pdata.drop('GEBRUIK_FIETS_w5_0', axis=1,inplace=True)"
   ]
  },
  {
   "cell_type": "code",
   "execution_count": 617,
   "metadata": {},
   "outputs": [],
   "source": [
    "MPNWAVE8_Pdata['GEBRUIK_EBIKE'].replace(['4 or more days per week' , '1 to 3 days per week' , '1 to 3 days per month' , '6 to 11 days per year' , '1 to 5 days per year' , '(almost) never' , 'Not asked, person younger than 12 years old'] , [1,2,3,4,5,0,0] , inplace=True)\n",
    "new = pd.get_dummies(MPNWAVE8_Pdata['GEBRUIK_EBIKE'],prefix='GEBRUIK_EBIKE')\n",
    "MPNWAVE8_Pdata = MPNWAVE8_Pdata.join(new)\n",
    "MPNWAVE8_Pdata.drop('GEBRUIK_EBIKE_0', axis=1,inplace=True)"
   ]
  },
  {
   "cell_type": "code",
   "execution_count": 618,
   "metadata": {},
   "outputs": [],
   "source": [
    "MPNWAVE8_Pdata['GEBRUIK_PEDEL'].replace(['4 or more days per week' , '1 to 3 days per week' , '1 to 3 days per month' , '6 to 11 days per year' , '1 to 5 days per year' , '(almost) never' , 'Not asked, person younger than 12 years old'] , [1,2,3,4,5,0,0] , inplace=True)\n",
    "new = pd.get_dummies(MPNWAVE8_Pdata['GEBRUIK_PEDEL'],prefix='GEBRUIK_PEDEL')\n",
    "MPNWAVE8_Pdata = MPNWAVE8_Pdata.join(new)\n",
    "MPNWAVE8_Pdata.drop('GEBRUIK_PEDEL_0', axis=1,inplace=True)"
   ]
  },
  {
   "cell_type": "code",
   "execution_count": 619,
   "metadata": {},
   "outputs": [],
   "source": [
    "MPNWAVE8_Pdata['GEBRUIK_SCOOTMOB'].replace(['4 or more days per week' , '1 to 3 days per week' , '1 to 3 days per month' , '6 to 11 days per year' , '1 to 5 days per year' , '(almost) never' , 'Not asked, person younger than 12 years old'] , [1,2,3,4,5,0,0] , inplace=True)\n",
    "new = pd.get_dummies(MPNWAVE8_Pdata['GEBRUIK_SCOOTMOB'],prefix='GEBRUIK_SCOOTMOB')\n",
    "MPNWAVE8_Pdata = MPNWAVE8_Pdata.join(new)\n",
    "MPNWAVE8_Pdata.drop('GEBRUIK_SCOOTMOB_0', axis=1,inplace=True)"
   ]
  },
  {
   "cell_type": "code",
   "execution_count": 620,
   "metadata": {},
   "outputs": [],
   "source": [
    "MPNWAVE8_Pdata['GEBRUIK_LOPEN_w5'].replace(['4 or more days per week' , '1 to 3 days per week' , '1 to 3 days per month' , '6 to 11 days per year' , '1 to 5 days per year' , '(almost) never' , 'Not asked, person younger than 12 years old'] , [1,2,3,4,5,0,0] , inplace=True)\n",
    "new = pd.get_dummies(MPNWAVE8_Pdata['GEBRUIK_LOPEN_w5'],prefix='GEBRUIK_LOPEN_w5')\n",
    "MPNWAVE8_Pdata = MPNWAVE8_Pdata.join(new)\n",
    "MPNWAVE8_Pdata.drop('GEBRUIK_LOPEN_w5_0', axis=1,inplace=True)"
   ]
  },
  {
   "cell_type": "code",
   "execution_count": 621,
   "metadata": {},
   "outputs": [],
   "source": [
    "MPNWAVE8_Pdata['GEBRUIK_VLIEGEN_ZAKELIJK'].replace(['not' , '1-2 times' , '3-5 times' , '6 times or more' , 'not asked, person is unemployed'] , [0,2,3,4,0] , inplace=True)\n",
    "new = pd.get_dummies(MPNWAVE8_Pdata['GEBRUIK_VLIEGEN_ZAKELIJK'],prefix='GEBRUIK_VLIEGEN_ZAKELIJK')\n",
    "MPNWAVE8_Pdata = MPNWAVE8_Pdata.join(new)\n",
    "MPNWAVE8_Pdata.drop('GEBRUIK_VLIEGEN_ZAKELIJK_0', axis=1,inplace=True)\n"
   ]
  },
  {
   "cell_type": "code",
   "execution_count": 622,
   "metadata": {},
   "outputs": [],
   "source": [
    "MPNWAVE8_Pdata['GEBRUIK_VLIEGEN_PRIVE'].replace(['not' , '1-2 times' , '3-5 times' , '6 times or more' , 'not asked, person is unemployed'] , [0,2,3,4,0] , inplace=True)\n",
    "new = pd.get_dummies(MPNWAVE8_Pdata['GEBRUIK_VLIEGEN_PRIVE'],prefix='GEBRUIK_VLIEGEN_PRIVE')\n",
    "MPNWAVE8_Pdata = MPNWAVE8_Pdata.join(new)\n",
    "MPNWAVE8_Pdata.drop('GEBRUIK_VLIEGEN_PRIVE_0', axis=1,inplace=True)\n"
   ]
  },
  {
   "cell_type": "code",
   "execution_count": 623,
   "metadata": {},
   "outputs": [],
   "source": [
    "MPNWAVE8_Pdata['EVENT1'].replace(['No' , 'Yes' ,'Unknown' , 'not asked, person younger than 16 years old'] , [0,1,0,0] , inplace=True)\n",
    "MPNWAVE8_Pdata['EVENT3'].replace(['No' , 'Yes' ,'Unknown' , 'not asked, person younger than 16 years old'] , [0,1,0,0] , inplace=True)\n",
    "MPNWAVE8_Pdata['EVENT4'].replace(['No' , 'Yes' ,'Unknown' , 'not asked, person younger than 16 years old'] , [0,1,0,0] , inplace=True)\n",
    "MPNWAVE8_Pdata['EVENT5'].replace(['No' , 'Yes' ,'Unknown' , 'not asked, person younger than 16 years old'] , [0,1,0,0] , inplace=True)\n",
    "MPNWAVE8_Pdata['EVENT6'].replace(['No' , 'Yes' ,'Unknown' , 'not asked, person younger than 16 years old'] , [0,1,0,0] , inplace=True)\n",
    "MPNWAVE8_Pdata['EVENT7'].replace(['No' , 'Yes' ,'Unknown' , 'not asked, person younger than 16 years old'] , [0,1,0,0] , inplace=True)\n",
    "MPNWAVE8_Pdata['EVENT8'].replace(['No' , 'Yes' ,'Unknown' , 'not asked, person younger than 16 years old'] , [0,1,0,0] , inplace=True)\n",
    "MPNWAVE8_Pdata['EVENT9'].replace(['No' , 'Yes' ,'Unknown' , 'not asked, person younger than 16 years old'] , [0,1,0,0] , inplace=True)\n",
    "MPNWAVE8_Pdata['EVENT10'].replace(['No' , 'Yes' ,'Unknown' , 'not asked, person younger than 16 years old'] , [0,1,0,0] , inplace=True)\n",
    "MPNWAVE8_Pdata['EVENT11'].replace(['No' , 'Yes' ,'Unknown' , 'not asked, person younger than 16 years old'] , [0,1,0,0] , inplace=True)\n",
    "MPNWAVE8_Pdata['EVENT12'].replace(['No' , 'Yes' ,'Unknown' , 'not asked, person younger than 16 years old'] , [0,1,0,0] , inplace=True)\n",
    "MPNWAVE8_Pdata['EVENT13'].replace(['No' , 'Yes' ,'Unknown' , 'not asked, person younger than 16 years old'] , [0,1,0,0] , inplace=True)\n",
    "MPNWAVE8_Pdata['EVENT14'].replace(['No' , 'Yes' ,'Unknown' , 'not asked, person younger than 16 years old'] , [0,1,0,0] , inplace=True)\n",
    "MPNWAVE8_Pdata['EVENT15'].replace(['No' , 'Yes' ,'Unknown' , 'not asked, person younger than 16 years old'] , [0,1,0,0] , inplace=True)\n",
    "MPNWAVE8_Pdata['EVENT16'].replace(['No' , 'Yes' ,'Unknown' , 'not asked, person younger than 16 years old'] , [0,1,0,0] , inplace=True)\n",
    "MPNWAVE8_Pdata['EVENT17'].replace(['No' , 'Yes' ,'Unknown' , 'not asked, person younger than 16 years old'] , [0,1,0,0] , inplace=True)\n"
   ]
  },
  {
   "cell_type": "code",
   "execution_count": 624,
   "metadata": {},
   "outputs": [],
   "source": [
    "MPNWAVE8_Pdata['EVENT1_w5_TIJD'].replace(['0 - 3 months' , '4 - 6 months' , '7 - 9 months' , '10 - 12 months' , '12 - 24 months' , 'event did not occur' , 'Unknown' , 'not asked, person younger than 16 years old'] , [1,2,3,4,5,0,0,0] , inplace=True)\n",
    "new = pd.get_dummies(MPNWAVE8_Pdata['EVENT1_w5_TIJD'],prefix='EVENT1_w5_TIJD')\n",
    "MPNWAVE8_Pdata = MPNWAVE8_Pdata.join(new)\n",
    "MPNWAVE8_Pdata.drop('EVENT1_w5_TIJD_0', axis=1,inplace=True)"
   ]
  },
  {
   "cell_type": "code",
   "execution_count": 625,
   "metadata": {},
   "outputs": [],
   "source": [
    "MPNWAVE8_Pdata['EVENT3_w5_TIJD'].replace(['0 - 3 months' , '4 - 6 months' , '7 - 9 months' , '10 - 12 months' , '12 - 24 months' , 'event did not occur' , 'Unknown' , 'not asked, person younger than 16 years old'] , [1,2,3,4,5,0,0,0] , inplace=True)\n",
    "new = pd.get_dummies(MPNWAVE8_Pdata['EVENT3_w5_TIJD'],prefix='EVENT3_w5_TIJD')\n",
    "MPNWAVE8_Pdata = MPNWAVE8_Pdata.join(new)\n",
    "MPNWAVE8_Pdata.drop('EVENT3_w5_TIJD_0', axis=1,inplace=True)"
   ]
  },
  {
   "cell_type": "code",
   "execution_count": 626,
   "metadata": {},
   "outputs": [],
   "source": [
    "MPNWAVE8_Pdata['EVENT4_w5_TIJD'].replace(['0 - 3 months' , '4 - 6 months' , '7 - 9 months' , '10 - 12 months' , '12 - 24 months' , 'event did not occur' , 'Unknown' , 'not asked, person younger than 16 years old'] , [1,2,3,4,5,0,0,0] , inplace=True)\n",
    "new = pd.get_dummies(MPNWAVE8_Pdata['EVENT4_w5_TIJD'],prefix='EVENT4_w5_TIJD')\n",
    "MPNWAVE8_Pdata = MPNWAVE8_Pdata.join(new)\n",
    "MPNWAVE8_Pdata.drop('EVENT4_w5_TIJD_0', axis=1,inplace=True)"
   ]
  },
  {
   "cell_type": "code",
   "execution_count": 627,
   "metadata": {},
   "outputs": [],
   "source": [
    "MPNWAVE8_Pdata['EVENT5_w5_TIJD'].replace(['0 - 3 months' , '4 - 6 months' , '7 - 9 months' , '10 - 12 months' , '12 - 24 months' , 'event did not occur' , 'Unknown' , 'not asked, person younger than 16 years old'] , [1,2,3,4,5,0,0,0] , inplace=True)\n",
    "new = pd.get_dummies(MPNWAVE8_Pdata['EVENT5_w5_TIJD'],prefix='EVENT5_w5_TIJD')\n",
    "MPNWAVE8_Pdata = MPNWAVE8_Pdata.join(new)\n",
    "MPNWAVE8_Pdata.drop('EVENT5_w5_TIJD_0', axis=1,inplace=True)"
   ]
  },
  {
   "cell_type": "code",
   "execution_count": 628,
   "metadata": {},
   "outputs": [],
   "source": [
    "MPNWAVE8_Pdata['EVENT6_w5_TIJD'].replace(['0 - 3 months' , '4 - 6 months' , '7 - 9 months' , '10 - 12 months' , '12 - 24 months' , 'event did not occur' , 'Unknown' , 'not asked, person younger than 16 years old'] , [1,2,3,4,5,0,0,0] , inplace=True)\n",
    "new = pd.get_dummies(MPNWAVE8_Pdata['EVENT6_w5_TIJD'],prefix='EVENT6_w5_TIJD')\n",
    "MPNWAVE8_Pdata = MPNWAVE8_Pdata.join(new)\n",
    "MPNWAVE8_Pdata.drop('EVENT6_w5_TIJD_0', axis=1,inplace=True)"
   ]
  },
  {
   "cell_type": "code",
   "execution_count": 629,
   "metadata": {},
   "outputs": [],
   "source": [
    "MPNWAVE8_Pdata['EVENT7_w5_TIJD'].replace(['0 - 3 months' , '4 - 6 months' , '7 - 9 months' , '10 - 12 months' , '12 - 24 months' , 'event did not occur' , 'Unknown' , 'not asked, person younger than 16 years old'] , [1,2,3,4,5,0,0,0] , inplace=True)\n",
    "new = pd.get_dummies(MPNWAVE8_Pdata['EVENT7_w5_TIJD'],prefix='EVENT7_w5_TIJD')\n",
    "MPNWAVE8_Pdata = MPNWAVE8_Pdata.join(new)\n",
    "MPNWAVE8_Pdata.drop('EVENT7_w5_TIJD_0', axis=1,inplace=True)"
   ]
  },
  {
   "cell_type": "code",
   "execution_count": 630,
   "metadata": {},
   "outputs": [],
   "source": [
    "MPNWAVE8_Pdata['EVENT8_w5_TIJD'].replace(['0 - 3 months' , '4 - 6 months' , '7 - 9 months' , '10 - 12 months' , '12 - 24 months' , 'event did not occur' , 'Unknown' , 'not asked, person younger than 16 years old'] , [1,2,3,4,5,0,0,0] , inplace=True)\n",
    "new = pd.get_dummies(MPNWAVE8_Pdata['EVENT8_w5_TIJD'],prefix='EVENT8_w5_TIJD')\n",
    "MPNWAVE8_Pdata = MPNWAVE8_Pdata.join(new)\n",
    "MPNWAVE8_Pdata.drop('EVENT8_w5_TIJD_0', axis=1,inplace=True)"
   ]
  },
  {
   "cell_type": "code",
   "execution_count": 631,
   "metadata": {},
   "outputs": [],
   "source": [
    "MPNWAVE8_Pdata['EVENT9_w5_TIJD'].replace(['0 - 3 months' , '4 - 6 months' , '7 - 9 months' , '10 - 12 months' , '12 - 24 months' , 'event did not occur' , 'Unknown' , 'not asked, person younger than 16 years old'] , [1,2,3,4,5,0,0,0] , inplace=True)\n",
    "new = pd.get_dummies(MPNWAVE8_Pdata['EVENT9_w5_TIJD'],prefix='EVENT9_w5_TIJD')\n",
    "MPNWAVE8_Pdata = MPNWAVE8_Pdata.join(new)\n",
    "MPNWAVE8_Pdata.drop('EVENT9_w5_TIJD_0', axis=1,inplace=True)"
   ]
  },
  {
   "cell_type": "code",
   "execution_count": 632,
   "metadata": {},
   "outputs": [],
   "source": [
    "MPNWAVE8_Pdata['EVENT10_w5_TIJD'].replace(['0 - 3 months' , '4 - 6 months' , '7 - 9 months' , '10 - 12 months' , '12 - 24 months' , 'event did not occur' , 'Unknown' , 'not asked, person younger than 16 years old'] , [1,2,3,4,5,0,0,0] , inplace=True)\n",
    "new = pd.get_dummies(MPNWAVE8_Pdata['EVENT10_w5_TIJD'],prefix='EVENT10_w5_TIJD')\n",
    "MPNWAVE8_Pdata = MPNWAVE8_Pdata.join(new)\n",
    "MPNWAVE8_Pdata.drop('EVENT10_w5_TIJD_0', axis=1,inplace=True)"
   ]
  },
  {
   "cell_type": "code",
   "execution_count": 633,
   "metadata": {},
   "outputs": [],
   "source": [
    "MPNWAVE8_Pdata['EVENT11_w5_TIJD'].replace(['0 - 3 months' , '4 - 6 months' , '7 - 9 months' , '10 - 12 months' , '12 - 24 months' , 'event did not occur' , 'Unknown' , 'not asked, person younger than 16 years old'] , [1,2,3,4,5,0,0,0] , inplace=True)\n",
    "new = pd.get_dummies(MPNWAVE8_Pdata['EVENT11_w5_TIJD'],prefix='EVENT11_w5_TIJD')\n",
    "MPNWAVE8_Pdata = MPNWAVE8_Pdata.join(new)\n",
    "MPNWAVE8_Pdata.drop('EVENT11_w5_TIJD_0', axis=1,inplace=True)"
   ]
  },
  {
   "cell_type": "code",
   "execution_count": 634,
   "metadata": {},
   "outputs": [],
   "source": [
    "MPNWAVE8_Pdata['EVENT12_w5_TIJD'].replace(['0 - 3 months' , '4 - 6 months' , '7 - 9 months' , '10 - 12 months' , '12 - 24 months' , 'event did not occur' , 'Unknown' , 'not asked, person younger than 16 years old'] , [1,2,3,4,5,0,0,0] , inplace=True)\n",
    "new = pd.get_dummies(MPNWAVE8_Pdata['EVENT12_w5_TIJD'],prefix='EVENT12_w5_TIJD')\n",
    "MPNWAVE8_Pdata = MPNWAVE8_Pdata.join(new)\n",
    "MPNWAVE8_Pdata.drop('EVENT12_w5_TIJD_0', axis=1,inplace=True)"
   ]
  },
  {
   "cell_type": "code",
   "execution_count": 635,
   "metadata": {},
   "outputs": [],
   "source": [
    "MPNWAVE8_Pdata['EVENT13_w5_TIJD'].replace(['0 - 3 months' , '4 - 6 months' , '7 - 9 months' , '10 - 12 months' , '12 - 24 months' , 'event did not occur' , 'Unknown' , 'not asked, person younger than 16 years old'] , [1,2,3,4,5,0,0,0] , inplace=True)\n",
    "new = pd.get_dummies(MPNWAVE8_Pdata['EVENT13_w5_TIJD'],prefix='EVENT13_w5_TIJD')\n",
    "MPNWAVE8_Pdata = MPNWAVE8_Pdata.join(new)\n",
    "MPNWAVE8_Pdata.drop('EVENT13_w5_TIJD_0', axis=1,inplace=True)"
   ]
  },
  {
   "cell_type": "code",
   "execution_count": 636,
   "metadata": {},
   "outputs": [],
   "source": [
    "MPNWAVE8_Pdata['EVENT14_w5_TIJD'].replace(['0 - 3 months' , '4 - 6 months' , '7 - 9 months' , '10 - 12 months' , '12 - 24 months' , 'event did not occur' , 'Unknown' , 'not asked, person younger than 16 years old'] , [1,2,3,4,5,0,0,0] , inplace=True)\n",
    "new = pd.get_dummies(MPNWAVE8_Pdata['EVENT14_w5_TIJD'],prefix='EVENT14_w5_TIJD')\n",
    "MPNWAVE8_Pdata = MPNWAVE8_Pdata.join(new)\n",
    "MPNWAVE8_Pdata.drop('EVENT14_w5_TIJD_0', axis=1,inplace=True)"
   ]
  },
  {
   "cell_type": "code",
   "execution_count": 637,
   "metadata": {},
   "outputs": [],
   "source": [
    "MPNWAVE8_Pdata['EVENT15_w5_TIJD'].replace(['0 - 3 months' , '4 - 6 months' , '7 - 9 months' , '10 - 12 months' , '12 - 24 months' , 'event did not occur' , 'Unknown' , 'not asked, person younger than 16 years old'] , [1,2,3,4,5,0,0,0] , inplace=True)\n",
    "new = pd.get_dummies(MPNWAVE8_Pdata['EVENT15_w5_TIJD'],prefix='EVENT15_w5_TIJD')\n",
    "MPNWAVE8_Pdata = MPNWAVE8_Pdata.join(new)\n",
    "MPNWAVE8_Pdata.drop('EVENT15_w5_TIJD_0', axis=1,inplace=True)"
   ]
  },
  {
   "cell_type": "code",
   "execution_count": 638,
   "metadata": {},
   "outputs": [],
   "source": [
    "MPNWAVE8_Pdata['EVENT16_w5_TIJD'].replace(['0 - 3 months' , '4 - 6 months' , '7 - 9 months' , '10 - 12 months' , '12 - 24 months' , 'event did not occur' , 'Unknown' , 'not asked, person younger than 16 years old'] , [1,2,3,4,5,0,0,0] , inplace=True)\n",
    "new = pd.get_dummies(MPNWAVE8_Pdata['EVENT16_w5_TIJD'],prefix='EVENT16_w5_TIJD')\n",
    "MPNWAVE8_Pdata = MPNWAVE8_Pdata.join(new)\n",
    "MPNWAVE8_Pdata.drop('EVENT16_w5_TIJD_0', axis=1,inplace=True)"
   ]
  },
  {
   "cell_type": "code",
   "execution_count": 639,
   "metadata": {},
   "outputs": [],
   "source": [
    "MPNWAVE8_Pdata['EVENT17_w5_TIJD'].replace(['0 - 3 months' , '4 - 6 months' , '7 - 9 months' , '10 - 12 months' , '12 - 24 months' , 'event did not occur' , 'Unknown' , 'not asked, person younger than 16 years old'] , [1,2,3,4,5,0,0,0] , inplace=True)\n",
    "new = pd.get_dummies(MPNWAVE8_Pdata['EVENT17_w5_TIJD'],prefix='EVENT17_w5_TIJD')\n",
    "MPNWAVE8_Pdata = MPNWAVE8_Pdata.join(new)\n",
    "MPNWAVE8_Pdata.drop('EVENT17_w5_TIJD_0', axis=1,inplace=True)"
   ]
  },
  {
   "cell_type": "code",
   "execution_count": 640,
   "metadata": {},
   "outputs": [],
   "source": [
    "MPNWAVE8_Pdata['INVLOED1'].replace(['No' , 'Yes' ,'Event did not occur' , 'Event experienced, no follow-up questions asked due to routing error' , 'not asked, person younger than 16 years old'] , [0,1,0,0,0] , inplace=True)\n",
    "MPNWAVE8_Pdata['INVLOED2'].replace(['No' , 'Yes' ,'Event did not occur' , 'Event experienced, no follow-up questions asked due to routing error' , 'not asked, person younger than 16 years old'] , [0,1,0,0,0] , inplace=True)\n",
    "MPNWAVE8_Pdata['INVLOED3'].replace(['No' , 'Yes' ,'Event did not occur' , 'Event experienced, no follow-up questions asked due to routing error' , 'not asked, person younger than 16 years old'] , [0,1,0,0,0] , inplace=True)\n",
    "MPNWAVE8_Pdata['INVLOED4'].replace(['No' , 'Yes' ,'Event did not occur' , 'Event experienced, no follow-up questions asked due to routing error' , 'not asked, person younger than 16 years old'] , [0,1,0,0,0] , inplace=True)\n",
    "MPNWAVE8_Pdata['INVLOED5'].replace(['No' , 'Yes' ,'Event did not occur' , 'Event experienced, no follow-up questions asked due to routing error' , 'not asked, person younger than 16 years old'] , [0,1,0,0,0] , inplace=True)\n",
    "MPNWAVE8_Pdata['INVLOED6'].replace(['No' , 'Yes' ,'Event did not occur' , 'Event experienced, no follow-up questions asked due to routing error' , 'not asked, person younger than 16 years old'] , [0,1,0,0,0] , inplace=True)\n",
    "MPNWAVE8_Pdata['INVLOED7'].replace(['No' , 'Yes' ,'Event did not occur' , 'Event experienced, no follow-up questions asked due to routing error' , 'not asked, person younger than 16 years old'] , [0,1,0,0,0] , inplace=True)\n",
    "MPNWAVE8_Pdata['INVLOED8'].replace(['No' , 'Yes' ,'Event did not occur' , 'Event experienced, no follow-up questions asked due to routing error' , 'not asked, person younger than 16 years old'] , [0,1,0,0,0] , inplace=True)\n",
    "MPNWAVE8_Pdata['INVLOED9'].replace(['No' , 'Yes' ,'Event did not occur' , 'Event experienced, no follow-up questions asked due to routing error' , 'not asked, person younger than 16 years old'] , [0,1,0,0,0] , inplace=True)\n",
    "MPNWAVE8_Pdata['INVLOED_w5_10'].replace(['No' , 'Yes' ,'Event did not occur' , 'Event experienced, no follow-up questions asked due to routing error' , 'not asked, person younger than 16 years old'] , [0,1,0,0,0] , inplace=True)\n",
    "MPNWAVE8_Pdata['INVLOED11'].replace(['No' , 'Yes' ,'Event did not occur' , 'Event experienced, no follow-up questions asked due to routing error' , 'not asked, person younger than 16 years old'] , [0,1,0,0,0] , inplace=True)\n",
    "MPNWAVE8_Pdata['INVLOED12'].replace(['No' , 'Yes' ,'Event did not occur' , 'Event experienced, no follow-up questions asked due to routing error' , 'not asked, person younger than 16 years old'] , [0,1,0,0,0] , inplace=True)\n"
   ]
  },
  {
   "cell_type": "code",
   "execution_count": 641,
   "metadata": {},
   "outputs": [],
   "source": [
    "MPNWAVE8_Pdata['INVLOED1_w5_EVENT1'].replace(['No' , 'Yes' , 'Unknown' ,'Event did not occur' , 'Event experienced, no follow-up questions asked due to routing error' , 'not asked, person younger than 16 years old'] , [0,1,0,0,0,0] , inplace=True)\n",
    "MPNWAVE8_Pdata['INVLOED2_w5_EVENT1'].replace(['No' , 'Yes' , 'Unknown' ,'Event did not occur' , 'Event experienced, no follow-up questions asked due to routing error' , 'not asked, person younger than 16 years old'] , [0,1,0,0,0,0] , inplace=True)\n",
    "MPNWAVE8_Pdata['INVLOED3_w5_EVENT1'].replace(['No' , 'Yes' , 'Unknown' ,'Event did not occur' , 'Event experienced, no follow-up questions asked due to routing error' , 'not asked, person younger than 16 years old'] , [0,1,0,0,0,0] , inplace=True)\n",
    "MPNWAVE8_Pdata['INVLOED4_w5_EVENT1'].replace(['No' , 'Yes' , 'Unknown' ,'Event did not occur' , 'Event experienced, no follow-up questions asked due to routing error' , 'not asked, person younger than 16 years old'] , [0,1,0,0,0,0] , inplace=True)\n",
    "MPNWAVE8_Pdata['INVLOED5_w5_EVENT1'].replace(['No' , 'Yes' , 'Unknown' ,'Event did not occur' , 'Event experienced, no follow-up questions asked due to routing error' , 'not asked, person younger than 16 years old'] , [0,1,0,0,0,0] , inplace=True)\n",
    "MPNWAVE8_Pdata['INVLOED6_w5_EVENT1'].replace(['No' , 'Yes' , 'Unknown' ,'Event did not occur' , 'Event experienced, no follow-up questions asked due to routing error' , 'Not asked, person younger than 16 years old'] , [0,1,0,0,0,0] , inplace=True)\n",
    "MPNWAVE8_Pdata['INVLOED7_w5_EVENT1'].replace(['No' , 'Yes' , 'Unknown' ,'Event did not occur' , 'Event experienced, no follow-up questions asked due to routing error' , 'Not asked, person younger than 16 years old'] , [0,1,0,0,0,0] , inplace=True)\n",
    "MPNWAVE8_Pdata['INVLOED8_w5_EVENT1'].replace(['No' , 'Yes' , 'Unknown' ,'Event did not occur' , 'Event experienced, no follow-up questions asked due to routing error' , 'Not asked, person younger than 16 years old'] , [0,1,0,0,0,0] , inplace=True)\n",
    "MPNWAVE8_Pdata['INVLOED9_w5_EVENT1'].replace(['No' , 'Yes' , 'Unknown' ,'Event did not occur' , 'Event experienced, no follow-up questions asked due to routing error' , 'Not asked, person younger than 16 years old'] , [0,1,0,0,0,0] , inplace=True)\n",
    "MPNWAVE8_Pdata['INVLOED10_w5_EVENT1'].replace(['No' , 'Yes' , 'Unknown' ,'Event did not occur' , 'Event experienced, no follow-up questions asked due to routing error' , 'Not asked, person younger than 16 years old'] , [0,1,0,0,0,0] , inplace=True)\n",
    "MPNWAVE8_Pdata['INVLOED11_w5_EVENT1'].replace(['No' , 'Yes' , 'Unknown' ,'Event did not occur' , 'Event experienced, no follow-up questions asked due to routing error' , 'Not asked, person younger than 16 years old'] , [0,1,0,0,0,0] , inplace=True)\n",
    "MPNWAVE8_Pdata['INVLOED12_w5_EVENT1'].replace(['No' , 'Yes' , 'Unknown' ,'Event did not occur' , 'Event experienced, no follow-up questions asked due to routing error' , 'Not asked, person younger than 16 years old'] , [0,1,0,0,0,0] , inplace=True)\n",
    "MPNWAVE8_Pdata['INVLOED_w5_EVENT1'].replace(['No' , 'Yes' , 'Unknown' ,'Event did not occur' , 'Event experienced, no follow-up questions asked due to routing error' , 'Not asked, person younger than 16 years old'] , [0,1,0,0,0,0] , inplace=True)\n"
   ]
  },
  {
   "cell_type": "code",
   "execution_count": 642,
   "metadata": {},
   "outputs": [],
   "source": [
    "MPNWAVE8_Pdata['INVLOED1_w5_EVENT3'].replace(['No' , 'Yes' , 'Unknown' ,'Event did not occur' , 'Event experienced, no follow-up questions asked due to routing error' , 'Not asked, person younger than 16 years old'] , [0,1,0,0,0,0] , inplace=True)\n",
    "MPNWAVE8_Pdata['INVLOED2_w5_EVENT3'].replace(['No' , 'Yes' , 'Unknown' ,'Event did not occur' , 'Event experienced, no follow-up questions asked due to routing error' , 'Not asked, person younger than 16 years old'] , [0,1,0,0,0,0] , inplace=True)\n",
    "MPNWAVE8_Pdata['INVLOED3_w5_EVENT3'].replace(['No' , 'Yes' , 'Unknown' ,'Event did not occur' , 'Event experienced, no follow-up questions asked due to routing error' , 'Not asked, person younger than 16 years old'] , [0,1,0,0,0,0] , inplace=True)\n",
    "MPNWAVE8_Pdata['INVLOED4_w5_EVENT3'].replace(['No' , 'Yes' , 'Unknown' ,'Event did not occur' , 'Event experienced, no follow-up questions asked due to routing error' , 'Not asked, person younger than 16 years old'] , [0,1,0,0,0,0] , inplace=True)\n",
    "MPNWAVE8_Pdata['INVLOED5_w5_EVENT3'].replace(['No' , 'Yes' , 'Unknown' ,'Event did not occur' , 'Event experienced, no follow-up questions asked due to routing error' , 'Not asked, person younger than 16 years old'] , [0,1,0,0,0,0] , inplace=True)\n",
    "MPNWAVE8_Pdata['INVLOED6_w5_EVENT3'].replace(['No' , 'Yes' , 'Unknown' ,'Event did not occur' , 'Event experienced, no follow-up questions asked due to routing error' , 'Not asked, person younger than 16 years old'] , [0,1,0,0,0,0] , inplace=True)\n",
    "MPNWAVE8_Pdata['INVLOED7_w5_EVENT3'].replace(['No' , 'Yes' , 'Unknown' ,'Event did not occur' , 'Event experienced, no follow-up questions asked due to routing error' , 'Not asked, person younger than 16 years old'] , [0,1,0,0,0,0] , inplace=True)\n",
    "MPNWAVE8_Pdata['INVLOED8_w5_EVENT3'].replace(['No' , 'Yes' , 'Unknown' ,'Event did not occur' , 'Event experienced, no follow-up questions asked due to routing error' , 'Not asked, person younger than 16 years old'] , [0,1,0,0,0,0] , inplace=True)\n",
    "MPNWAVE8_Pdata['INVLOED9_w5_EVENT3'].replace(['No' , 'Yes' , 'Unknown' ,'Event did not occur' , 'Event experienced, no follow-up questions asked due to routing error' , 'Not asked, person younger than 16 years old'] , [0,1,0,0,0,0] , inplace=True)\n",
    "MPNWAVE8_Pdata['INVLOED10_w5_EVENT3'].replace(['No' , 'Yes' , 'Unknown' ,'Event did not occur' , 'Event experienced, no follow-up questions asked due to routing error' , 'Not asked, person younger than 16 years old'] , [0,1,0,0,0,0] , inplace=True)\n",
    "MPNWAVE8_Pdata['INVLOED11_w5_EVENT3'].replace(['No' , 'Yes' , 'Unknown' ,'Event did not occur' , 'Event experienced, no follow-up questions asked due to routing error' , 'Not asked, person younger than 16 years old'] , [0,1,0,0,0,0] , inplace=True)\n",
    "MPNWAVE8_Pdata['INVLOED12_w5_EVENT3'].replace(['No' , 'Yes' , 'Unknown' ,'Event did not occur' , 'Event experienced, no follow-up questions asked due to routing error' , 'Not asked, person younger than 16 years old'] , [0,1,0,0,0,0] , inplace=True)\n",
    "MPNWAVE8_Pdata['INVLOED_w5_EVENT3'].replace(['No' , 'Yes' , 'Unknown' ,'Event did not occur' , 'Event experienced, no follow-up questions asked due to routing error' , 'Not asked, person younger than 16 years old'] , [0,1,0,0,0,0] , inplace=True)\n"
   ]
  },
  {
   "cell_type": "code",
   "execution_count": 643,
   "metadata": {},
   "outputs": [],
   "source": [
    "MPNWAVE8_Pdata['INVLOED1_w5_EVENT4'].replace(['No' , 'Yes' , 'Unknown' ,'Event did not occur' , 'Event experienced, no follow-up questions asked due to routing error' , 'Not asked, person younger than 16 years old'] , [0,1,0,0,0,0] , inplace=True)\n",
    "MPNWAVE8_Pdata['INVLOED2_w5_EVENT4'].replace(['No' , 'Yes' , 'Unknown' ,'Event did not occur' , 'Event experienced, no follow-up questions asked due to routing error' , 'Not asked, person younger than 16 years old'] , [0,1,0,0,0,0] , inplace=True)\n",
    "MPNWAVE8_Pdata['INVLOED3_w5_EVENT4'].replace(['No' , 'Yes' , 'Unknown' ,'Event did not occur' , 'Event experienced, no follow-up questions asked due to routing error' , 'Not asked, person younger than 16 years old'] , [0,1,0,0,0,0] , inplace=True)\n",
    "MPNWAVE8_Pdata['INVLOED4_w5_EVENT4'].replace(['No' , 'Yes' , 'Unknown' ,'Event did not occur' , 'Event experienced, no follow-up questions asked due to routing error' , 'Not asked, person younger than 16 years old'] , [0,1,0,0,0,0] , inplace=True)\n",
    "MPNWAVE8_Pdata['INVLOED5_w5_EVENT4'].replace(['No' , 'Yes' , 'Unknown' ,'Event did not occur' , 'Event experienced, no follow-up questions asked due to routing error' , 'Not asked, person younger than 16 years old'] , [0,1,0,0,0,0] , inplace=True)\n",
    "MPNWAVE8_Pdata['INVLOED6_w5_EVENT4'].replace(['No' , 'Yes' , 'Unknown' ,'Event did not occur' , 'Event experienced, no follow-up questions asked due to routing error' , 'Not asked, person younger than 16 years old'] , [0,1,0,0,0,0] , inplace=True)\n",
    "MPNWAVE8_Pdata['INVLOED7_w5_EVENT4'].replace(['No' , 'Yes' , 'Unknown' ,'Event did not occur' , 'Event experienced, no follow-up questions asked due to routing error' , 'Not asked, person younger than 16 years old'] , [0,1,0,0,0,0] , inplace=True)\n",
    "MPNWAVE8_Pdata['INVLOED8_w5_EVENT4'].replace(['No' , 'Yes' , 'Unknown' ,'Event did not occur' , 'Event experienced, no follow-up questions asked due to routing error' , 'Not asked, person younger than 16 years old'] , [0,1,0,0,0,0] , inplace=True)\n",
    "MPNWAVE8_Pdata['INVLOED9_w5_EVENT4'].replace(['No' , 'Yes' , 'Unknown' ,'Event did not occur' , 'Event experienced, no follow-up questions asked due to routing error' , 'Not asked, person younger than 16 years old'] , [0,1,0,0,0,0] , inplace=True)\n",
    "MPNWAVE8_Pdata['INVLOED10_w5_EVENT4'].replace(['No' , 'Yes' , 'Unknown' ,'Event did not occur' , 'Event experienced, no follow-up questions asked due to routing error' , 'Not asked, person younger than 16 years old'] , [0,1,0,0,0,0] , inplace=True)\n",
    "MPNWAVE8_Pdata['INVLOED11_w5_EVENT4'].replace(['No' , 'Yes' , 'Unknown' ,'Event did not occur' , 'Event experienced, no follow-up questions asked due to routing error' , 'Not asked, person younger than 16 years old'] , [0,1,0,0,0,0] , inplace=True)\n",
    "MPNWAVE8_Pdata['INVLOED12_w5_EVENT4'].replace(['No' , 'Yes' , 'Unknown' ,'Event did not occur' , 'Event experienced, no follow-up questions asked due to routing error' , 'Not asked, person younger than 16 years old'] , [0,1,0,0,0,0] , inplace=True)\n",
    "MPNWAVE8_Pdata['INVLOED_w5_EVENT4'].replace(['No' , 'Yes' , 'Unknown' ,'Event did not occur' , 'Event experienced, no follow-up questions asked due to routing error' , 'Not asked, person younger than 16 years old'] , [0,1,0,0,0,0] , inplace=True)\n"
   ]
  },
  {
   "cell_type": "code",
   "execution_count": 644,
   "metadata": {},
   "outputs": [],
   "source": [
    "MPNWAVE8_Pdata['INVLOED1_w5_EVENT5'].replace(['No' , 'Yes' , 'Unknown' ,'Event did not occur' , 'Event experienced, no follow-up questions asked due to routing error' , 'Not asked, person younger than 16 years old'] , [0,1,0,0,0,0] , inplace=True)\n",
    "MPNWAVE8_Pdata['INVLOED2_w5_EVENT5'].replace(['No' , 'Yes' , 'Unknown' ,'Event did not occur' , 'Event experienced, no follow-up questions asked due to routing error' , 'Not asked, person younger than 16 years old'] , [0,1,0,0,0,0] , inplace=True)\n",
    "MPNWAVE8_Pdata['INVLOED3_w5_EVENT5'].replace(['No' , 'Yes' , 'Unknown' ,'Event did not occur' , 'Event experienced, no follow-up questions asked due to routing error' , 'Not asked, person younger than 16 years old'] , [0,1,0,0,0,0] , inplace=True)\n",
    "MPNWAVE8_Pdata['INVLOED4_w5_EVENT5'].replace(['No' , 'Yes' , 'Unknown' ,'Event did not occur' , 'Event experienced, no follow-up questions asked due to routing error' , 'Not asked, person younger than 16 years old'] , [0,1,0,0,0,0] , inplace=True)\n",
    "MPNWAVE8_Pdata['INVLOED5_w5_EVENT5'].replace(['No' , 'Yes' , 'Unknown' ,'Event did not occur' , 'Event experienced, no follow-up questions asked due to routing error' , 'Not asked, person younger than 16 years old'] , [0,1,0,0,0,0] , inplace=True)\n",
    "MPNWAVE8_Pdata['INVLOED6_w5_EVENT5'].replace(['No' , 'Yes' , 'Unknown' ,'Event did not occur' , 'Event experienced, no follow-up questions asked due to routing error' , 'Not asked, person younger than 16 years old'] , [0,1,0,0,0,0] , inplace=True)\n",
    "MPNWAVE8_Pdata['INVLOED7_w5_EVENT5'].replace(['No' , 'Yes' , 'Unknown' ,'Event did not occur' , 'Event experienced, no follow-up questions asked due to routing error' , 'Not asked, person younger than 16 years old'] , [0,1,0,0,0,0] , inplace=True)\n",
    "MPNWAVE8_Pdata['INVLOED8_w5_EVENT5'].replace(['No' , 'Yes' , 'Unknown' ,'Event did not occur' , 'Event experienced, no follow-up questions asked due to routing error' , 'Not asked, person younger than 16 years old'] , [0,1,0,0,0,0] , inplace=True)\n",
    "MPNWAVE8_Pdata['INVLOED9_w5_EVENT5'].replace(['No' , 'Yes' , 'Unknown' ,'Event did not occur' , 'Event experienced, no follow-up questions asked due to routing error' , 'Not asked, person younger than 16 years old'] , [0,1,0,0,0,0] , inplace=True)\n",
    "MPNWAVE8_Pdata['INVLOED10_w5_EVENT5'].replace(['No' , 'Yes' , 'Unknown' ,'Event did not occur' , 'Event experienced, no follow-up questions asked due to routing error' , 'Not asked, person younger than 16 years old'] , [0,1,0,0,0,0] , inplace=True)\n",
    "MPNWAVE8_Pdata['INVLOED11_w5_EVENT5'].replace(['No' , 'Yes' , 'Unknown' ,'Event did not occur' , 'Event experienced, no follow-up questions asked due to routing error' , 'Not asked, person younger than 16 years old'] , [0,1,0,0,0,0] , inplace=True)\n",
    "MPNWAVE8_Pdata['INVLOED12_w5_EVENT5'].replace(['No' , 'Yes' , 'Unknown' ,'Event did not occur' , 'Event experienced, no follow-up questions asked due to routing error' , 'Not asked, person younger than 16 years old'] , [0,1,0,0,0,0] , inplace=True)\n",
    "MPNWAVE8_Pdata['INVLOED_w5_EVENT5'].replace(['No' , 'Yes' , 'Unknown' ,'Event did not occur' , 'Event experienced, no follow-up questions asked due to routing error' , 'Not asked, person younger than 16 years old'] , [0,1,0,0,0,0] , inplace=True)\n"
   ]
  },
  {
   "cell_type": "code",
   "execution_count": 645,
   "metadata": {},
   "outputs": [],
   "source": [
    "MPNWAVE8_Pdata['INVLOED1_w5_EVENT6'].replace(['No' , 'Yes' , 'Unknown' ,'Event did not occur' , 'Event experienced, no follow-up questions asked due to routing error' , 'Not asked, person younger than 16 years old'] , [0,1,0,0,0,0] , inplace=True)\n",
    "MPNWAVE8_Pdata['INVLOED2_w5_EVENT6'].replace(['No' , 'Yes' , 'Unknown' ,'Event did not occur' , 'Event experienced, no follow-up questions asked due to routing error' , 'Not asked, person younger than 16 years old'] , [0,1,0,0,0,0] , inplace=True)\n",
    "MPNWAVE8_Pdata['INVLOED3_w5_EVENT6'].replace(['No' , 'Yes' , 'Unknown' ,'Event did not occur' , 'Event experienced, no follow-up questions asked due to routing error' , 'Not asked, person younger than 16 years old'] , [0,1,0,0,0,0] , inplace=True)\n",
    "MPNWAVE8_Pdata['INVLOED4_w5_EVENT6'].replace(['No' , 'Yes' , 'Unknown' ,'Event did not occur' , 'Event experienced, no follow-up questions asked due to routing error' , 'Not asked, person younger than 16 years old'] , [0,1,0,0,0,0] , inplace=True)\n",
    "MPNWAVE8_Pdata['INVLOED5_w5_EVENT6'].replace(['No' , 'Yes' , 'Unknown' ,'Event did not occur' , 'Event experienced, no follow-up questions asked due to routing error' , 'Not asked, person younger than 16 years old'] , [0,1,0,0,0,0] , inplace=True)\n",
    "MPNWAVE8_Pdata['INVLOED6_w5_EVENT6'].replace(['No' , 'Yes' , 'Unknown' ,'Event did not occur' , 'Event experienced, no follow-up questions asked due to routing error' , 'Not asked, person younger than 16 years old'] , [0,1,0,0,0,0] , inplace=True)\n",
    "MPNWAVE8_Pdata['INVLOED7_w5_EVENT6'].replace(['No' , 'Yes' , 'Unknown' ,'Event did not occur' , 'Event experienced, no follow-up questions asked due to routing error' , 'Not asked, person younger than 16 years old'] , [0,1,0,0,0,0] , inplace=True)\n",
    "MPNWAVE8_Pdata['INVLOED8_w5_EVENT6'].replace(['No' , 'Yes' , 'Unknown' ,'Event did not occur' , 'Event experienced, no follow-up questions asked due to routing error' , 'Not asked, person younger than 16 years old'] , [0,1,0,0,0,0] , inplace=True)\n",
    "MPNWAVE8_Pdata['INVLOED9_w5_EVENT6'].replace(['No' , 'Yes' , 'Unknown' ,'Event did not occur' , 'Event experienced, no follow-up questions asked due to routing error' , 'Not asked, person younger than 16 years old'] , [0,1,0,0,0,0] , inplace=True)\n",
    "MPNWAVE8_Pdata['INVLOED10_w5_EVENT6'].replace(['No' , 'Yes' , 'Unknown' ,'Event did not occur' , 'Event experienced, no follow-up questions asked due to routing error' , 'Not asked, person younger than 16 years old'] , [0,1,0,0,0,0] , inplace=True)\n",
    "MPNWAVE8_Pdata['INVLOED11_w5_EVENT6'].replace(['No' , 'Yes' , 'Unknown' ,'Event did not occur' , 'Event experienced, no follow-up questions asked due to routing error' , 'Not asked, person younger than 16 years old'] , [0,1,0,0,0,0] , inplace=True)\n",
    "MPNWAVE8_Pdata['INVLOED12_w5_EVENT6'].replace(['No' , 'Yes' , 'Unknown' ,'Event did not occur' , 'Event experienced, no follow-up questions asked due to routing error' , 'Not asked, person younger than 16 years old'] , [0,1,0,0,0,0] , inplace=True)\n",
    "MPNWAVE8_Pdata['INVLOED_w5_EVENT6'].replace(['No' , 'Yes' , 'Unknown' ,'Event did not occur' , 'Event experienced, no follow-up questions asked due to routing error' , 'Not asked, person younger than 16 years old'] , [0,1,0,0,0,0] , inplace=True)\n"
   ]
  },
  {
   "cell_type": "code",
   "execution_count": 646,
   "metadata": {},
   "outputs": [],
   "source": [
    "MPNWAVE8_Pdata['INVLOED1_w5_EVENT7'].replace(['No' , 'Yes' , 'Unknown' ,'Event did not occur' , 'Event experienced, no follow-up questions asked due to routing error' , 'Not asked, person younger than 16 years old'] , [0,1,0,0,0,0] , inplace=True)\n",
    "MPNWAVE8_Pdata['INVLOED2_w5_EVENT7'].replace(['No' , 'Yes' , 'Unknown' ,'Event did not occur' , 'Event experienced, no follow-up questions asked due to routing error' , 'Not asked, person younger than 16 years old'] , [0,1,0,0,0,0] , inplace=True)\n",
    "MPNWAVE8_Pdata['INVLOED3_w5_EVENT7'].replace(['No' , 'Yes' , 'Unknown' ,'Event did not occur' , 'Event experienced, no follow-up questions asked due to routing error' , 'Not asked, person younger than 16 years old'] , [0,1,0,0,0,0] , inplace=True)\n",
    "MPNWAVE8_Pdata['INVLOED4_w5_EVENT7'].replace(['No' , 'Yes' , 'Unknown' ,'Event did not occur' , 'Event experienced, no follow-up questions asked due to routing error' , 'Not asked, person younger than 16 years old'] , [0,1,0,0,0,0] , inplace=True)\n",
    "MPNWAVE8_Pdata['INVLOED5_w5_EVENT7'].replace(['No' , 'Yes' , 'Unknown' ,'Event did not occur' , 'Event experienced, no follow-up questions asked due to routing error' , 'Not asked, person younger than 16 years old'] , [0,1,0,0,0,0] , inplace=True)\n",
    "MPNWAVE8_Pdata['INVLOED6_w5_EVENT7'].replace(['No' , 'Yes' , 'Unknown' ,'Event did not occur' , 'Event experienced, no follow-up questions asked due to routing error' , 'Not asked, person younger than 16 years old'] , [0,1,0,0,0,0] , inplace=True)\n",
    "MPNWAVE8_Pdata['INVLOED7_w5_EVENT7'].replace(['No' , 'Yes' , 'Unknown' ,'Event did not occur' , 'Event experienced, no follow-up questions asked due to routing error' , 'Not asked, person younger than 16 years old'] , [0,1,0,0,0,0] , inplace=True)\n",
    "MPNWAVE8_Pdata['INVLOED8_w5_EVENT7'].replace(['No' , 'Yes' , 'Unknown' ,'Event did not occur' , 'Event experienced, no follow-up questions asked due to routing error' , 'Not asked, person younger than 16 years old'] , [0,1,0,0,0,0] , inplace=True)\n",
    "MPNWAVE8_Pdata['INVLOED9_w5_EVENT7'].replace(['No' , 'Yes' , 'Unknown' ,'Event did not occur' , 'Event experienced, no follow-up questions asked due to routing error' , 'Not asked, person younger than 16 years old'] , [0,1,0,0,0,0] , inplace=True)\n",
    "MPNWAVE8_Pdata['INVLOED10_w5_EVENT7'].replace(['No' , 'Yes' , 'Unknown' ,'Event did not occur' , 'Event experienced, no follow-up questions asked due to routing error' , 'Not asked, person younger than 16 years old'] , [0,1,0,0,0,0] , inplace=True)\n",
    "MPNWAVE8_Pdata['INVLOED11_w5_EVENT7'].replace(['No' , 'Yes' , 'Unknown' ,'Event did not occur' , 'Event experienced, no follow-up questions asked due to routing error' , 'Not asked, person younger than 16 years old'] , [0,1,0,0,0,0] , inplace=True)\n",
    "MPNWAVE8_Pdata['INVLOED12_w5_EVENT7'].replace(['No' , 'Yes' , 'Unknown' ,'Event did not occur' , 'Event experienced, no follow-up questions asked due to routing error' , 'Not asked, person younger than 16 years old'] , [0,1,0,0,0,0] , inplace=True)\n",
    "MPNWAVE8_Pdata['INVLOED_w5_EVENT7'].replace(['No' , 'Yes' , 'Unknown' ,'Event did not occur' , 'Event experienced, no follow-up questions asked due to routing error' , 'Not asked, person younger than 16 years old'] , [0,1,0,0,0,0] , inplace=True)\n"
   ]
  },
  {
   "cell_type": "code",
   "execution_count": 647,
   "metadata": {},
   "outputs": [],
   "source": [
    "MPNWAVE8_Pdata['INVLOED1_w5_EVENT8'].replace(['No' , 'Yes' , 'Unknown' ,'Event did not occur' , 'Event experienced, no follow-up questions asked due to routing error' , 'Not asked, person younger than 16 years old'] , [0,1,0,0,0,0] , inplace=True)\n",
    "MPNWAVE8_Pdata['INVLOED2_w5_EVENT8'].replace(['No' , 'Yes' , 'Unknown' ,'Event did not occur' , 'Event experienced, no follow-up questions asked due to routing error' , 'Not asked, person younger than 16 years old'] , [0,1,0,0,0,0] , inplace=True)\n",
    "MPNWAVE8_Pdata['INVLOED3_w5_EVENT8'].replace(['No' , 'Yes' , 'Unknown' ,'Event did not occur' , 'Event experienced, no follow-up questions asked due to routing error' , 'Not asked, person younger than 16 years old'] , [0,1,0,0,0,0] , inplace=True)\n",
    "MPNWAVE8_Pdata['INVLOED4_w5_EVENT8'].replace(['No' , 'Yes' , 'Unknown' ,'Event did not occur' , 'Event experienced, no follow-up questions asked due to routing error' , 'Not asked, person younger than 16 years old'] , [0,1,0,0,0,0] , inplace=True)\n",
    "MPNWAVE8_Pdata['INVLOED5_w5_EVENT8'].replace(['No' , 'Yes' , 'Unknown' ,'Event did not occur' , 'Event experienced, no follow-up questions asked due to routing error' , 'Not asked, person younger than 16 years old'] , [0,1,0,0,0,0] , inplace=True)\n",
    "MPNWAVE8_Pdata['INVLOED6_w5_EVENT8'].replace(['No' , 'Yes' , 'Unknown' ,'Event did not occur' , 'Event experienced, no follow-up questions asked due to routing error' , 'Not asked, person younger than 16 years old'] , [0,1,0,0,0,0] , inplace=True)\n",
    "MPNWAVE8_Pdata['INVLOED7_w5_EVENT8'].replace(['No' , 'Yes' , 'Unknown' ,'Event did not occur' , 'Event experienced, no follow-up questions asked due to routing error' , 'Not asked, person younger than 16 years old'] , [0,1,0,0,0,0] , inplace=True)\n",
    "MPNWAVE8_Pdata['INVLOED8_w5_EVENT8'].replace(['No' , 'Yes' , 'Unknown' ,'Event did not occur' , 'Event experienced, no follow-up questions asked due to routing error' , 'Not asked, person younger than 16 years old'] , [0,1,0,0,0,0] , inplace=True)\n",
    "MPNWAVE8_Pdata['INVLOED9_w5_EVENT8'].replace(['No' , 'Yes' , 'Unknown' ,'Event did not occur' , 'Event experienced, no follow-up questions asked due to routing error' , 'Not asked, person younger than 16 years old'] , [0,1,0,0,0,0] , inplace=True)\n",
    "MPNWAVE8_Pdata['INVLOED10_w5_EVENT8'].replace(['No' , 'Yes' , 'Unknown' ,'Event did not occur' , 'Event experienced, no follow-up questions asked due to routing error' , 'Not asked, person younger than 16 years old'] , [0,1,0,0,0,0] , inplace=True)\n",
    "MPNWAVE8_Pdata['INVLOED11_w5_EVENT8'].replace(['No' , 'Yes' , 'Unknown' ,'Event did not occur' , 'Event experienced, no follow-up questions asked due to routing error' , 'Not asked, person younger than 16 years old'] , [0,1,0,0,0,0] , inplace=True)\n",
    "MPNWAVE8_Pdata['INVLOED12_w5_EVENT8'].replace(['No' , 'Yes' , 'Unknown' ,'Event did not occur' , 'Event experienced, no follow-up questions asked due to routing error' , 'Not asked, person younger than 16 years old'] , [0,1,0,0,0,0] , inplace=True)\n",
    "MPNWAVE8_Pdata['INVLOED_w5_EVENT8'].replace(['No' , 'Yes' , 'Unknown' ,'Event did not occur' , 'Event experienced, no follow-up questions asked due to routing error' , 'Not asked, person younger than 16 years old'] , [0,1,0,0,0,0] , inplace=True)\n"
   ]
  },
  {
   "cell_type": "code",
   "execution_count": 648,
   "metadata": {},
   "outputs": [],
   "source": [
    "for i in [9,10,11,12,13,14,15,16,17]:\n",
    "    for x in [1,2,3,4,5,6,7,8,9,10,11,12]:\n",
    "        MPNWAVE8_Pdata['INVLOED%d'%x+'_w5_EVENT%d'%i].replace(['No' , 'Yes' , 'Unknown' ,'Event did not occur' , 'Event experienced, no follow-up questions asked due to routing error' , 'Not asked, person younger than 16 years old'] , [0,1,0,0,0,0] , inplace=True)"
   ]
  },
  {
   "cell_type": "code",
   "execution_count": 649,
   "metadata": {},
   "outputs": [],
   "source": [
    "for i in range(9,18):\n",
    "    MPNWAVE8_Pdata['INVLOED_w5_EVENT%d'%i].replace(['No' , 'Yes' , 'Unknown' ,'Event did not occur' , 'Event experienced, no follow-up questions asked due to routing error' , 'Not asked, person younger than 16 years old'] , [0,1,0,0,0,0] , inplace=True)"
   ]
  },
  {
   "cell_type": "code",
   "execution_count": 650,
   "metadata": {},
   "outputs": [],
   "source": [
    "for i in range(1,7):\n",
    "    MPNWAVE8_Pdata['EVENT_ICT%d' %i].replace(['No' , 'Yes' , 'Not asked, person younger than 16 years old'] , [0,1,0] , inplace=True)\n"
   ]
  },
  {
   "cell_type": "code",
   "execution_count": 651,
   "metadata": {},
   "outputs": [],
   "source": [
    "for i in range(13,15):\n",
    "    MPNWAVE8_Pdata['EVENT_ICT%d' %i].replace(['No' , 'Yes' , 'Not asked, person younger than 16 years old'] , [0,1,0] , inplace=True)\n"
   ]
  },
  {
   "cell_type": "code",
   "execution_count": 652,
   "metadata": {},
   "outputs": [],
   "source": [
    "for i in [1,2,3,4,5,6,13,14]:\n",
    "    MPNWAVE8_Pdata['INVLOED_EVENT_ICT%d' %i].replace(['No' , 'Yes' , 'Not asked, person younger than 16 years old','Event did not occur'] , [0,1,0,0] , inplace=True)\n",
    "    for x in [1,2,3,4,5,6,7,8,9,11,12]:\n",
    "        MPNWAVE8_Pdata['INVLOED%d'%x+'_EVENT_ICT%d' %i].replace(['No' , 'Yes' , 'Not asked, person younger than 16 years old','Event did not occur'] , [0,1,0,0] , inplace=True)\n"
   ]
  },
  {
   "cell_type": "code",
   "execution_count": 653,
   "metadata": {},
   "outputs": [],
   "source": [
    "for i in [1,2,3,4,5,6,13,14]:\n",
    "    MPNWAVE8_Pdata['INVLOED10_EVENT_w5_ICT%d' %i].replace(['No' , 'Yes' , 'Not asked, person younger than 16 years old','Event did not occur'] , [0,1,0,0] , inplace=True)\n",
    "    "
   ]
  },
  {
   "cell_type": "code",
   "execution_count": 654,
   "metadata": {},
   "outputs": [],
   "source": [
    "for i in range(1,3):\n",
    "    MPNWAVE8_Pdata['EVENT_w5_WONING%d' %i].replace(['No' , 'Yes' , 'Not asked, person younger than 16 years old'] , [0,1,0] , inplace=True)\n"
   ]
  },
  {
   "cell_type": "code",
   "execution_count": 655,
   "metadata": {},
   "outputs": [],
   "source": [
    "for i in range(3,14):\n",
    "    MPNWAVE8_Pdata['EVENT_WONING%d' %i].replace(['No' , 'Yes' , 'Not asked, person younger than 16 years old'] , [0,1,0] , inplace=True)\n"
   ]
  },
  {
   "cell_type": "code",
   "execution_count": 656,
   "metadata": {},
   "outputs": [],
   "source": [
    "MPNWAVE8_Pdata['EVENT_WONING'].replace(['No' , 'Yes' , 'Not asked, person younger than 16 years old'] , [0,1,0] , inplace=True)\n"
   ]
  },
  {
   "cell_type": "code",
   "execution_count": 657,
   "metadata": {},
   "outputs": [],
   "source": [
    "for i in range(1,3):\n",
    "    MPNWAVE8_Pdata['INVLOED_EVENT_w5_WONING%d'%i].replace(['No' , 'Yes', 'Event did not occur' , 'Not asked, person younger than 16 years old'] , [0,1,0,0] , inplace=True)\n",
    "    for x in range(1,13):\n",
    "        MPNWAVE8_Pdata['INVLOED%d'%x+'_EVENT_w5_WONING%d'%i].replace(['No' , 'Yes', 'Event did not occur' , 'Not asked, person younger than 16 years old'] , [0,1,0,0] , inplace=True)\n"
   ]
  },
  {
   "cell_type": "code",
   "execution_count": 658,
   "metadata": {},
   "outputs": [],
   "source": [
    "for i in range(3,14):\n",
    "    MPNWAVE8_Pdata['INVLOED_EVENT_WONING%d'%i].replace(['No' , 'Yes', 'Event did not occur' , 'Not asked, person younger than 16 years old'] , [0,1,0,0] , inplace=True)\n",
    "    for x in [1,2,3,4,5,6,7,8,9,11,12]:\n",
    "        MPNWAVE8_Pdata['INVLOED%d'%x+'_EVENT_WONING%d'%i].replace(['No' , 'Yes', 'Event did not occur' , 'Not asked, person younger than 16 years old'] , [0,1,0,0] , inplace=True)\n"
   ]
  },
  {
   "cell_type": "code",
   "execution_count": 659,
   "metadata": {},
   "outputs": [],
   "source": [
    "for i in range(3,14):\n",
    "    MPNWAVE8_Pdata['INVLOED10_EVENT_w5_WONING%d'%i].replace(['No' , 'Yes', 'Event did not occur' , 'Not asked, person younger than 16 years old'] , [0,1,0,0] , inplace=True)\n"
   ]
  },
  {
   "cell_type": "code",
   "execution_count": 660,
   "metadata": {},
   "outputs": [],
   "source": [
    "MPNWAVE8_Pdata['KLEEFT2'].replace(['<12 years old' , '12-17 years old' , '18-24 years old' , '25-29 years old' , '30-39 years old' , '40-49 years old' , '50-59 years old' , '60-69 years old' , '70-79 years old' , '80 years old and older'] , [1,2,3,4,5,6,7,8,9,10] , inplace=True)\n",
    "new = pd.get_dummies(MPNWAVE8_Pdata['KLEEFT2'],prefix='KLEEFT2')\n",
    "MPNWAVE8_Pdata = MPNWAVE8_Pdata.join(new)"
   ]
  },
  {
   "cell_type": "code",
   "execution_count": 661,
   "metadata": {},
   "outputs": [],
   "source": [
    "#MPNWAVE8_Pdata.to_csv('F:/more work/netherlands/wave8data/MPNWAVE8_Pdata/MPNWAVE8_Pdata_binary.csv')"
   ]
  },
  {
   "cell_type": "code",
   "execution_count": 662,
   "metadata": {},
   "outputs": [
    {
     "data": {
      "text/plain": [
       "\"for i in MPNWAVE8_Pdata.columns:\\n    x = MPNWAVE8_Pdata['%s' %i].map(str).str.contains('a|b|c|d|e|f|g|h|i|j|k|l|m|n|o|p|q|r|s|t|u|v|w|x|y|z').value_counts(True)\\n    x = int(x)\\n    if x>1:\\n      MPNWAVE8_Pdata.drop('%s' %i,axis=1,inplace=True)\\n    \\n\\n  \""
      ]
     },
     "execution_count": 662,
     "metadata": {},
     "output_type": "execute_result"
    }
   ],
   "source": [
    "'''for i in MPNWAVE8_Pdata.columns:\n",
    "    x = MPNWAVE8_Pdata['%s' %i].map(str).str.contains('a|b|c|d|e|f|g|h|i|j|k|l|m|n|o|p|q|r|s|t|u|v|w|x|y|z').value_counts(True)\n",
    "    x = int(x)\n",
    "    if x>1:\n",
    "      MPNWAVE8_Pdata.drop('%s' %i,axis=1,inplace=True)\n",
    "    \n",
    "\n",
    "  '''  \n",
    "\n",
    "\n",
    "\n",
    "\n"
   ]
  },
  {
   "cell_type": "code",
   "execution_count": 663,
   "metadata": {},
   "outputs": [],
   "source": [
    "MPNWAVE8_Pdata.drop(['HH_VALID' , 'IMPHHDATA' , 'DEELNAME' , 'P_VALID' , 'DEELNAMEP' , 'WERKSITUATIE_MEEST_w5' , 'SECTORWERK' , 'FUNCTIE_WERK' ,\n",
    "                     'WERKURENRECENT_CONTINU' , 'N_URENVAST_CONTINU' , 'N_URENTHUIS_CONTINU' , 'N_URENELDERS_CONTINU' , 'N_URENONDERWEG_CONTINU' ,\n",
    "                     'POVERIG' , 'VVM_VOORKEUR_w5_WERK' ,'VVM_VOORKEUR_w5_ZAKELIJK' , 'VVM_VOORKEUR_w5_SCHOOL' , 'VVM_VOORKEUR_w5_BOODSCH' ,\n",
    "                     'VVM_VOORKEUR_w5_WINKEL' , 'VVM_VOORKEUR_HORECA' , 'VVM_VOORKEUR_w5_VISITE' , 'VVM_VOORKEUR_w5_EROPUIT', \n",
    "                     'VVM_VOORKEUR_w5_SPORTEN' , 'VVM_VOORKEUR_MANTELZORG' , 'VVM_VOORKEUR_VTOVERIG' , 'BEZIT_OVKAART' , 'EVENT_ICT',\n",
    "                     'EVENT_WONING'],axis=1 , inplace=True)\n"
   ]
  },
  {
   "cell_type": "code",
   "execution_count": 664,
   "metadata": {},
   "outputs": [],
   "source": [
    "MPNWAVE8_Pdata.to_csv('F:/more work/netherlands/wave8data/MPNWAVE8_Pdata/MPNWAVE8_Pdata_binary.csv')"
   ]
  },
  {
   "cell_type": "code",
   "execution_count": 668,
   "metadata": {},
   "outputs": [
    {
     "data": {
      "text/plain": [
       "Unnamed: 0                    0\n",
       "INVLOED8_EVENT_WONING9        0\n",
       "INVLOED9_EVENT_WONING9        0\n",
       "INVLOED10_EVENT_w5_WONING9    0\n",
       "INVLOED12_EVENT_WONING9       0\n",
       "                             ..\n",
       "INVLOED4_w5_EVENT10           0\n",
       "INVLOED5_w5_EVENT10           0\n",
       "INVLOED6_w5_EVENT10           0\n",
       "INVLOED8_w5_EVENT10           0\n",
       "KLEEFT2_10                    0\n",
       "Length: 1054, dtype: int64"
      ]
     },
     "execution_count": 668,
     "metadata": {},
     "output_type": "execute_result"
    }
   ],
   "source": []
  }
 ],
 "metadata": {
  "kernelspec": {
   "display_name": "Python 3.10.8 64-bit",
   "language": "python",
   "name": "python3"
  },
  "language_info": {
   "codemirror_mode": {
    "name": "ipython",
    "version": 3
   },
   "file_extension": ".py",
   "mimetype": "text/x-python",
   "name": "python",
   "nbconvert_exporter": "python",
   "pygments_lexer": "ipython3",
   "version": "3.10.9"
  },
  "orig_nbformat": 4,
  "vscode": {
   "interpreter": {
    "hash": "2b324498af64d22b4773901be112d66dec816013b7f64fed368c8550f7daba2d"
   }
  }
 },
 "nbformat": 4,
 "nbformat_minor": 2
}

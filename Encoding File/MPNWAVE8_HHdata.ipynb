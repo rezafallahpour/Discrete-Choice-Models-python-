{
 "cells": [
  {
   "cell_type": "code",
   "execution_count": 1,
   "metadata": {},
   "outputs": [],
   "source": [
    "import pandas as pd\n",
    "import numpy as np"
   ]
  },
  {
   "cell_type": "code",
   "execution_count": 2,
   "metadata": {},
   "outputs": [],
   "source": [
    "MPNWAVE8_HHdata = pd.read_csv('F:/more work/netherlands/wave8data/MPNWAVE8_HHdata/MPNWAVE8_HHdata.csv')"
   ]
  },
  {
   "cell_type": "code",
   "execution_count": 3,
   "metadata": {},
   "outputs": [],
   "source": [
    "MPNWAVE8_HHdata['STED_GM'].replace(['Very highly urbanized (2500 or more inhabitants/km²)' , 'Highly urbanized (1500 to 2500 inhabitants/km²)' , 'Moderately urbanized (1000 to 1500 inhabitants/km²)' , \n",
    "                                    'Low urbanization (500 to 1000 inhabitants/km²)' , 'Non-urbanized area (Less than 500 inhabitants/km²)'] , [1,2,3,4,5] , inplace=True)\n",
    "new = pd.get_dummies(MPNWAVE8_HHdata['STED_GM'],prefix='STED_GM')\n",
    "MPNWAVE8_HHdata = MPNWAVE8_HHdata.join(new)"
   ]
  },
  {
   "cell_type": "code",
   "execution_count": 4,
   "metadata": {},
   "outputs": [],
   "source": [
    "MPNWAVE8_HHdata['PROV'].replace(['Groningen' , 'Friesland' , 'Drenthe' , 'Overijssel' , \n",
    "                                 'Flevoland' , 'Gelderland' , 'Utrecht' , 'North-Holland' , \n",
    "                                 'South-Holland' , 'Zeeland' , 'North-Brabant' , 'Limburg'] , [20,21,22,23,24,25,26,27,28,29,30,31] , inplace=True)\n",
    "new = pd.get_dummies(MPNWAVE8_HHdata['PROV'],prefix='PROV')\n",
    "MPNWAVE8_HHdata = MPNWAVE8_HHdata.join(new)"
   ]
  },
  {
   "cell_type": "code",
   "execution_count": 5,
   "metadata": {},
   "outputs": [],
   "source": [
    "new = pd.get_dummies(MPNWAVE8_HHdata['HHPERS'],prefix='HHPERS')\n",
    "MPNWAVE8_HHdata = MPNWAVE8_HHdata.join(new)\n"
   ]
  },
  {
   "cell_type": "code",
   "execution_count": 6,
   "metadata": {},
   "outputs": [],
   "source": [
    "MPNWAVE8_HHdata['HHSAM'].replace(['Single person household' , 'Couple' ,'Couple + child(ren)' ,\n",
    "                                  'Couple + child(ren) + other(s)' , 'Couple + other(s)' ,\n",
    "                                  'Single parent family + child(ren)' , 'Single parent family + child(ren) + other(s)' , 'A different type of family situation' ,\n",
    "                                  'no household questionnaire, no imputation from 2018 possible'] , [1,2,3,4,5,6,7,0,0] , inplace=True)\n",
    "new = pd.get_dummies(MPNWAVE8_HHdata['HHSAM'],prefix='HHSAM')\n",
    "MPNWAVE8_HHdata = MPNWAVE8_HHdata.join(new)\n",
    "MPNWAVE8_HHdata.drop('HHSAM_0.0',axis=1,inplace=True)"
   ]
  },
  {
   "cell_type": "code",
   "execution_count": 7,
   "metadata": {},
   "outputs": [],
   "source": [
    "MPNWAVE8_HHdata['GEZINSCYCLUS'].replace(['Single' , 'Adult household' , 'Household with a youngest child with the age <= 12' ,\n",
    "                                         'Household with a youngest child with the age of 13 up to 17'] , [1,2,3,4] , inplace=True)\n",
    "new = pd.get_dummies(MPNWAVE8_HHdata['GEZINSCYCLUS'],prefix='GEZINSCYCLUS')\n",
    "MPNWAVE8_HHdata = MPNWAVE8_HHdata.join(new)\n"
   ]
  },
  {
   "cell_type": "code",
   "execution_count": 8,
   "metadata": {},
   "outputs": [],
   "source": [
    "\n",
    "new = pd.get_dummies(MPNWAVE8_HHdata['N_KIND'],prefix='N_KIND')\n",
    "MPNWAVE8_HHdata = MPNWAVE8_HHdata.join(new)\n"
   ]
  },
  {
   "cell_type": "code",
   "execution_count": 9,
   "metadata": {},
   "outputs": [],
   "source": [
    "MPNWAVE8_HHdata['HHBRUTOINK2_w5'].replace(['minimum (< € 14,100)' , 'below the national benchmark income (€ 14,100 - < € 29,500)' , 'national benchmark income (€ 29,500 - < € 43,500)' , '1-2x the national benchmark income (€ 43,500 - < € 73,000)' , '2x the national benchmark income (€ 73,000 - < € 87,100)' ,\n",
    "                                           'more than 2x the national benchmark income (>= € 85,100)' , 'Do not know / do not want to say' ] , [1,2,3,4,5,6,0] , inplace=True)\n",
    "\n",
    "new = pd.get_dummies(MPNWAVE8_HHdata['HHBRUTOINK2_w5'],prefix='HHBRUTOINK2_w5')\n",
    "MPNWAVE8_HHdata = MPNWAVE8_HHdata.join(new)\n",
    "MPNWAVE8_HHdata.drop('HHBRUTOINK2_w5_0.0' , axis=1 , inplace=True)\n"
   ]
  },
  {
   "cell_type": "code",
   "execution_count": 11,
   "metadata": {},
   "outputs": [],
   "source": [
    "MPNWAVE8_HHdata['HHAUTO_N'].replace(['no household questionnaire'] , [10] , inplace=True)\n",
    "new = pd.get_dummies(MPNWAVE8_HHdata['HHAUTO_N'],prefix='HHAUTO_N')\n",
    "MPNWAVE8_HHdata = MPNWAVE8_HHdata.join(new)\n",
    "MPNWAVE8_HHdata.drop('HHAUTO_N_10' , axis=1 , inplace=True)"
   ]
  },
  {
   "cell_type": "code",
   "execution_count": 15,
   "metadata": {},
   "outputs": [],
   "source": [
    "MPNWAVE8_HHdata['HHAUTO'].replace(['Yes' , 'No' , 'no household questionnaire, no imputation from 2019 possible'] , [1,0,0] , inplace=True)\n",
    "MPNWAVE8_HHdata['HHBESTEL'].replace(['Yes' , 'No' , 'no household questionnaire, no imputation from 2019 possible'] , [1,0,0] , inplace=True)\n",
    "MPNWAVE8_HHdata['HHHYBRID'].replace(['Yes' , 'No' , 'no household questionnaire, no imputation from 2019 possible'] , [1,0,0] , inplace=True)\n",
    "MPNWAVE8_HHdata['HHMOTOR'].replace(['Yes' , 'No' , 'no household questionnaire, no imputation from 2019 possible'] , [1,0,0] , inplace=True)\n",
    "MPNWAVE8_HHdata['HHBROM'].replace(['Yes' , 'No' , 'no household questionnaire, no imputation from 2019 possible'] , [1,0,0] , inplace=True)\n",
    "MPNWAVE8_HHdata['HHSNOR'].replace(['Yes' , 'No' , 'no household questionnaire, no imputation from 2019 possible'] , [1,0,0] , inplace=True)\n",
    "MPNWAVE8_HHdata['HHFIETS'].replace(['Yes' , 'No' , 'no household questionnaire, no imputation from 2019 possible'] , [1,0,0] , inplace=True)\n",
    "MPNWAVE8_HHdata['HHVOUWFIETS'].replace(['Yes' , 'No' , 'no household questionnaire, no imputation from 2019 possible'] , [1,0,0] , inplace=True)\n",
    "MPNWAVE8_HHdata['HHEBIKE'].replace(['Yes' , 'No' , 'no household questionnaire, no imputation from 2019 possible'] , [1,0,0] , inplace=True)\n",
    "MPNWAVE8_HHdata['HHPEDEL'].replace(['Yes' , 'No' , 'no household questionnaire, no imputation from 2019 possible'] , [1,0,0] , inplace=True)\n",
    "MPNWAVE8_HHdata['HHSCOOT'].replace(['Yes' , 'No' , 'no household questionnaire, no imputation from 2019 possible'] , [1,0,0] , inplace=True)\n"
   ]
  },
  {
   "cell_type": "code",
   "execution_count": 16,
   "metadata": {},
   "outputs": [
    {
     "data": {
      "text/plain": [
       "1    3436\n",
       "0      64\n",
       "Name: HHGEEN, dtype: int64"
      ]
     },
     "execution_count": 16,
     "metadata": {},
     "output_type": "execute_result"
    }
   ],
   "source": [
    "MPNWAVE8_HHdata['HHGEEN'].replace(['The household does have a transport mode' ,\n",
    "                                   'The household does not have a transport mode' , \n",
    "                                   'no household questionnaire, no imputation from 2019 possible'] , [1,0,0] , inplace=True)\n"
   ]
  },
  {
   "cell_type": "code",
   "execution_count": 17,
   "metadata": {},
   "outputs": [],
   "source": [
    "MPNWAVE8_HHdata['HHPARK1'].replace(['Yes' , 'No' , 'no household questionnaire, no imputation from 2019 possible'] , [1,0,0] , inplace=True)\n",
    "MPNWAVE8_HHdata['HHPARK2'].replace(['Yes' , 'No' , 'no household questionnaire, no imputation from 2019 possible'] , [1,0,0] , inplace=True)\n",
    "MPNWAVE8_HHdata['HHPARK3'].replace(['Yes' , 'No' , 'no household questionnaire, no imputation from 2019 possible'] , [1,0,0] , inplace=True)\n",
    "MPNWAVE8_HHdata['HHPARK4'].replace(['Yes' , 'No' , 'no household questionnaire, no imputation from 2019 possible'] , [1,0,0] , inplace=True)\n"
   ]
  },
  {
   "cell_type": "code",
   "execution_count": 23,
   "metadata": {},
   "outputs": [],
   "source": [
    "MPNWAVE8_HHdata['KILOMETRAGE'].replace(['less than 10,000 km per year' , \n",
    "                                        '10,000 to 20,000 km per year' , \n",
    "                                        '20,000 to 30,000 km per year' , \n",
    "                                        '30,000 to 40,000 km per year' , \n",
    "                                        '40,000 to 50,000 km per year' , \n",
    "                                        '50,000 to 60,000 km per year' , \n",
    "                                        '60,000 to 70,000 km per year' , \n",
    "                                        '70,000 to 80,000 km per year' , \n",
    "                                        '80,000 km or more per year' , \n",
    "                                        'Unknown'] , [1,2,3,4,5,6,7,8,9,10] , inplace=True)\n",
    "new = pd.get_dummies(MPNWAVE8_HHdata['KILOMETRAGE'],prefix='KILOMETRAGE')\n",
    "MPNWAVE8_HHdata = MPNWAVE8_HHdata.join(new)\n",
    "MPNWAVE8_HHdata.drop('KILOMETRAGE_10' , axis=1 , inplace=True)"
   ]
  },
  {
   "cell_type": "code",
   "execution_count": 24,
   "metadata": {},
   "outputs": [],
   "source": [
    "MPNWAVE8_HHdata.to_csv('F:/more work/netherlands/wave8data/MPNWAVE8_HHdata/MPNWAVE8_HHdata_binary.csv')"
   ]
  },
  {
   "cell_type": "code",
   "execution_count": null,
   "metadata": {},
   "outputs": [],
   "source": []
  },
  {
   "cell_type": "code",
   "execution_count": null,
   "metadata": {},
   "outputs": [],
   "source": []
  },
  {
   "cell_type": "code",
   "execution_count": null,
   "metadata": {},
   "outputs": [],
   "source": []
  }
 ],
 "metadata": {
  "kernelspec": {
   "display_name": "Python 3.10.8 64-bit",
   "language": "python",
   "name": "python3"
  },
  "language_info": {
   "codemirror_mode": {
    "name": "ipython",
    "version": 3
   },
   "file_extension": ".py",
   "mimetype": "text/x-python",
   "name": "python",
   "nbconvert_exporter": "python",
   "pygments_lexer": "ipython3",
   "version": "3.10.8"
  },
  "orig_nbformat": 4,
  "vscode": {
   "interpreter": {
    "hash": "2b324498af64d22b4773901be112d66dec816013b7f64fed368c8550f7daba2d"
   }
  }
 },
 "nbformat": 4,
 "nbformat_minor": 2
}

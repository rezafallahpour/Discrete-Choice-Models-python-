{
 "cells": [
  {
   "cell_type": "code",
   "execution_count": 1,
   "metadata": {},
   "outputs": [],
   "source": [
    "import pandas as pd\n",
    "import numpy as np\n"
   ]
  },
  {
   "cell_type": "code",
   "execution_count": 2,
   "metadata": {},
   "outputs": [],
   "source": [
    "MPNWAVE8_DAGBOEKdata = pd.read_csv('F:/more work/netherlands/wave8data/MPNWAVE8_DAGBOEKdata/MPNWAVE8_DAGBOEKdata_only_binary.csv')\n",
    "MPNWAVE8_tt = pd.read_csv('F:/more work/netherlands/wave8data/W8_Google_Output.csv')\n"
   ]
  },
  {
   "cell_type": "code",
   "execution_count": 3,
   "metadata": {},
   "outputs": [],
   "source": [
    "MPNWAVE8_traveldata_tt = pd.merge(MPNWAVE8_DAGBOEKdata ,MPNWAVE8_tt , on = 'VPLID')\n"
   ]
  },
  {
   "cell_type": "code",
   "execution_count": 9,
   "metadata": {},
   "outputs": [],
   "source": [
    "MPNWAVE8_HHdata = pd.read_csv('F:/more work/netherlands/wave8data/MPNWAVE8_HHdata/MPNWAVE8_HHdata_binary.csv')\n",
    "MPNWAVE8_Pdata = pd.read_csv('F:/more work/netherlands/wave8data/MPNWAVE8_Pdata/MPNWAVE8_Pdata_binary.csv')\n",
    "\n"
   ]
  },
  {
   "cell_type": "code",
   "execution_count": 11,
   "metadata": {},
   "outputs": [],
   "source": [
    "MPNWAVE8_traveldata_tt_HHdata = pd.merge(MPNWAVE8_traveldata_tt , MPNWAVE8_HHdata , on = 'HHID')"
   ]
  },
  {
   "cell_type": "code",
   "execution_count": 14,
   "metadata": {},
   "outputs": [],
   "source": [
    "\n",
    "MPNWAVE8_traveldata_tt_HHdata_pdata = pd.merge(MPNWAVE8_traveldata_tt_HHdata,MPNWAVE8_Pdata, on='PERSID')"
   ]
  },
  {
   "cell_type": "code",
   "execution_count": 17,
   "metadata": {},
   "outputs": [],
   "source": [
    "MPNWAVE8_traveldata_tt_HHdata_pdata.to_csv('F:/more work/netherlands/wave8data/mpn_comb/MPNWAVE8_traveldata_tt_HHdata_pdata.csv')"
   ]
  },
  {
   "cell_type": "code",
   "execution_count": null,
   "metadata": {},
   "outputs": [],
   "source": []
  },
  {
   "cell_type": "code",
   "execution_count": null,
   "metadata": {},
   "outputs": [],
   "source": []
  },
  {
   "cell_type": "code",
   "execution_count": null,
   "metadata": {},
   "outputs": [],
   "source": []
  }
 ],
 "metadata": {
  "kernelspec": {
   "display_name": "Python 3.10.8 64-bit",
   "language": "python",
   "name": "python3"
  },
  "language_info": {
   "codemirror_mode": {
    "name": "ipython",
    "version": 3
   },
   "file_extension": ".py",
   "mimetype": "text/x-python",
   "name": "python",
   "nbconvert_exporter": "python",
   "pygments_lexer": "ipython3",
   "version": "3.10.8"
  },
  "orig_nbformat": 4,
  "vscode": {
   "interpreter": {
    "hash": "2b324498af64d22b4773901be112d66dec816013b7f64fed368c8550f7daba2d"
   }
  }
 },
 "nbformat": 4,
 "nbformat_minor": 2
}

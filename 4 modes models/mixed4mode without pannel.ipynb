{
 "cells": [
  {
   "cell_type": "code",
   "execution_count": 6,
   "metadata": {},
   "outputs": [],
   "source": [
    "import numpy as np\n",
    "import pandas as pd\n",
    "import biogeme.database as db\n",
    "import biogeme.biogeme as bio\n",
    "from biogeme import models\n",
    "import biogeme.messaging as msg\n",
    "from biogeme.expressions import (\n",
    "    Beta,\n",
    "    Variable,\n",
    "    bioDraws,\n",
    "    PanelLikelihoodTrajectory,\n",
    "    MonteCarlo,\n",
    "    log,\n",
    ")"
   ]
  },
  {
   "cell_type": "code",
   "execution_count": 7,
   "metadata": {},
   "outputs": [],
   "source": [
    "np.random.seed(seed=90267)\n",
    "df = pd.read_csv('F:/more work/netherlands/wave8data/model/nested_logit/nested_data_4mode.csv')\n"
   ]
  },
  {
   "cell_type": "code",
   "execution_count": 8,
   "metadata": {},
   "outputs": [],
   "source": [
    "df.drop(['AFSTV', 'G_AFSTAND', 'KAFSTV', 'KHVM', 'KVERTTIJD', 'REISDUUR', 'KREISDUUR', 'REISDUUR_ORG', 'G_REISDUUR', 'ROLAUTO', 'PARKEERKOSTEN', 'KRVM', 'Bestuurder', 'HHBRUTOINK2_w5','CarStatus' , 'TransitStatus'] , axis=1 , inplace=True)\n",
    "df.dropna(inplace=True)\n",
    "df=df[df[\"PROV_27\"]==1]\n",
    "df[\"ID\"] = df[\"ID\"]*0.0001\n",
    "df[\"CarTravelTime\"] = df[\"CarTravelTime\"]*0.0001\n",
    "df[\"BikeDistance\"] = df[\"BikeDistance\"]*0.00001\n",
    "df[\"TransitDistance\"] = df[\"TransitDistance\"]*0.00001\n",
    "df[\"TransitDuration\"] = df[\"TransitDuration\"]*0.0001\n",
    "df[\"alokatie_station\"] = df[\"alokatie_station\"]*0.0001\n",
    "df[\"alokatie_bushalte2xpu\"] = df[\"alokatie_bushalte2xpu\"]*0.0001\n",
    "df[\"vlokatie_centrumsgw\"] = df[\"vlokatie_centrumsgw\"]*0.0001\n",
    "\n",
    "database = db.Database('first_logit_model', df)\n",
    "globals().update(database.variables)\n",
    "\n"
   ]
  },
  {
   "cell_type": "code",
   "execution_count": 9,
   "metadata": {},
   "outputs": [],
   "source": [
    "# Parameters to be estimated\n",
    "#car as a driver\n",
    "ASC_car = Beta('ASC_car', 0, None, None, 0)\n",
    "N_ACTIVITEIT13_1_car = Beta('N_ACTIVITEIT13_1_car', 0, None, None, 0)\n",
    "#WERKSITUATIE_ANDERS1_car = Beta('WERKSITUATIE_ANDERS1_car', 0, None, None, 0)\n",
    "vlokatie_centrumsgw_car = Beta('vlokatie_centrumsgw_car', 0, None, None, 0)\n",
    "KAFSTV_3_car = Beta('KAFSTV_3_car', 0, None, None, 0)\n",
    "#GEBRUIK_PARK2_car = Beta('GEBRUIK_PARK2_car', 0, None, None, 0)\n",
    "KLEEFT2_9_car = Beta('KLEEFT2_9_car', 0, None, None, 0)\n",
    "INVLOED3_car = Beta('INVLOED3_car', 0, None, None, 0)\n",
    "DOEL_8_car = Beta('DOEL_8_car', 0, None, None, 0)\n",
    "N_KIND_2_car = Beta('N_KIND_2_car', 0, None, None, 0)\n",
    "##EVENT4_car = Beta('EVENT4_car', 0, None, None, 0)\n",
    "\n",
    "\n",
    "\n",
    "\n",
    "\n",
    "# train\n",
    "ASC_bus_Train = Beta('ASC_bus_Train', 0, None, None, 1)\n",
    "#TransitDuration_bus_Train = Beta('TransitDuration_bus_Train', 0, None, None, 0)\n",
    "CarTravelTime_bus_Train = Beta('CarTravelTime_bus_Train', 0, None, None, 0)\n",
    "#KAFSTV_12_bus_Train = Beta('KAFSTV_12_bus_Train', 0, None, None, 0)\n",
    "PAUTO_bus_Train = Beta('PAUTO_bus_Train', 0, None, None, 0)\n",
    "MOTIEF_11_bus_Train = Beta('MOTIEF_11_bus_Train', 0, None, None, 0)\n",
    "KAFSTV_12_bus_Train = Beta('KAFSTV_12_bus_Train', 0, None, None, 0)\n",
    "\n",
    "#N_KIND\n",
    "\n",
    "\n",
    "\n",
    "\n",
    "\n",
    "\n",
    "# bicycle\n",
    "ASC_Scooter_Bicycle = Beta('ASC_Bicycle', 0, None, None, 0)\n",
    "MOTIEF_5_Bicycle = Beta('MOTIEF_5_Bicycle', 0, None, None, 0)\n",
    "TYPE_OVKAART4_Bicycle = Beta('TYPE_OVKAART4_Bicycle', 0, None, None, 0)\n",
    "KLEEFT2_8_Bicycle = Beta('KLEEFT2_8_Bicycle', 0, None, None, 0)\n",
    "KAFSTV_2_Bicycle = Beta('KAFSTV_2_Bicycle', 0, None, None, 0)\n",
    "#EVENT9_Bicycle = Beta('EVENT9_Bicycle', 0, None, None, 0)\n",
    "TYPE_OVKAART2_Bicycle = Beta('TYPE_OVKAART2_Bicycle', 0, None, None, 0)\n",
    "EVENT6_Bicycle = Beta('EVENT6_Bicycle', 0, None, None, 0)\n",
    "new_Bicycle = Beta('new_Bicycle', 0, None, None, 0)\n",
    "\n",
    "\n",
    "\n",
    "\n",
    "\n",
    "\n",
    "\n",
    "\n",
    "\n",
    "# walking\n",
    "ASC_Walking = Beta('ASC_Walking', 0, None, None, 0)\n",
    "TransitDuration_Walking = Beta('TransitDuration_Walking', 0, None, None, 0)\n",
    "HERKOMST_w5_2_Walking = Beta('HERKOMST_w5_2_Walking', 0, None, None, 0)\n",
    "new_mixed = Beta('new_mixed', 0, None, None, 0)\n",
    "new_mixed2 = Beta('new_mixed2', 0, None, None, 0)\n",
    "\n"
   ]
  },
  {
   "cell_type": "code",
   "execution_count": 10,
   "metadata": {},
   "outputs": [],
   "source": [
    "\n",
    "# Define a random parameter, normally distributed, designed to be used\n",
    "# for Monte-Carlo simulation\n",
    "#EVENT5_m = Beta('EVENT5_m', 1, None, None, 0)\n",
    "\n",
    "# It is advised not to use 0 as starting value for the following parameter.\n",
    "vlokatie_centrumsgw_S = Beta('vlokatie_centrumsgw_S', 1, None, None, 0)\n",
    "#vlokatie_centrumsgw_S_RND = vlokatie_centrumsgw_car + N_ACTIVITEIT13_1_car*N_ACTIVITEIT13_1 + vlokatie_centrumsgw_S * bioDraws('vlokatie_centrumsgw_S_RND', 'NORMAL')WERKSITUATIE_ANDERS1+ROLAUTO_2\n",
    "vlokatie_centrumsgw_S_RND = vlokatie_centrumsgw_car + new_mixed*MOTIEF_7 + new_mixed2*ROLAUTO_2 +  vlokatie_centrumsgw_S * bioDraws('vlokatie_centrumsgw_S_RND', 'NORMAL')"
   ]
  },
  {
   "cell_type": "code",
   "execution_count": 11,
   "metadata": {},
   "outputs": [],
   "source": [
    "# Definition of the utility functions\n",
    "V1 = ASC_car + vlokatie_centrumsgw_S_RND*vlokatie_centrumsgw + KAFSTV_3_car*KAFSTV_3  \n",
    "\n",
    "V2 = ASC_bus_Train + PAUTO_bus_Train*PAUTO + KAFSTV_12_bus_Train*KAFSTV_12\n",
    "\n",
    "V3 = ASC_Scooter_Bicycle + MOTIEF_5_Bicycle*MOTIEF_5 + KLEEFT2_8_Bicycle*KLEEFT2_8 + KAFSTV_2_Bicycle*KAFSTV_2\n",
    "\n",
    "V4 = ASC_Walking + HERKOMST_w5_2_Walking*HERKOMST_w5_2 + TransitDuration_Walking*TransitDuration"
   ]
  },
  {
   "cell_type": "code",
   "execution_count": 12,
   "metadata": {},
   "outputs": [],
   "source": [
    "# Associate utility functions with the numbering of alternatives\n",
    "V = {1: V1, 2: V2, 3: V3, 4: V4}\n",
    "# Associate the availability conditions with the alternatives\n",
    "av = {1: av_car_as_driver, 2: av_train, 3: av_Bicycle , 4: av_Walking}"
   ]
  },
  {
   "cell_type": "code",
   "execution_count": 13,
   "metadata": {},
   "outputs": [],
   "source": [
    "obsprob = models.logit(V, av, Choice_modals)\n",
    "\n",
    "# Conditional to the random parameters, the likelihood of all observations for\n",
    "# one individual (the trajectory) is the product of the likelihood of\n",
    "# each observation.\n",
    "# We integrate over B_TIME_RND using Monte-Carlo\n",
    "logprob = log(MonteCarlo(obsprob))\n"
   ]
  },
  {
   "cell_type": "code",
   "execution_count": 14,
   "metadata": {},
   "outputs": [
    {
     "name": "stderr",
     "output_type": "stream",
     "text": [
      "The use of argument numberOfDraws in the constructor of the BIOGEME object is deprecated and will be removed in future versions of Biogeme. Instead, define parameter number_of_draws in section MonteCarloof the .toml parameter file. The default file name is biogeme.toml\n"
     ]
    },
    {
     "name": "stdout",
     "output_type": "stream",
     "text": [
      "                            Value  Rob. Std err  Rob. t-test  Rob. p-value\n",
      "ASC_Bicycle             -1.706747      0.202284    -8.437376      0.000000\n",
      "ASC_Walking              0.849635      0.190087     4.469724      0.000008\n",
      "ASC_car                 -3.706349      0.776071    -4.775787      0.000002\n",
      "HERKOMST_w5_2_Walking   -1.213771      0.493886    -2.457592      0.013987\n",
      "KAFSTV_12_bus_Train      0.667545      0.307058     2.174005      0.029705\n",
      "KAFSTV_2_Bicycle         1.951819      0.587043     3.324833      0.000885\n",
      "KAFSTV_3_car             2.024553      0.708975     2.855605      0.004295\n",
      "KLEEFT2_8_Bicycle        1.074320      0.480244     2.237030      0.025284\n",
      "MOTIEF_5_Bicycle         2.402511      0.665110     3.612201      0.000304\n",
      "PAUTO_bus_Train         -0.484281      0.218058    -2.220885      0.026359\n",
      "TransitDuration_Walking -1.410898      0.483389    -2.918763      0.003514\n",
      "new_mixed                2.627528      1.777603     1.478129      0.139373\n",
      "new_mixed2               2.411936      3.339214     0.722307      0.470106\n",
      "vlokatie_centrumsgw_S   -1.707253      2.390746    -0.714109      0.475160\n",
      "vlokatie_centrumsgw_car -0.552281      2.211430    -0.249739      0.802789\n"
     ]
    }
   ],
   "source": [
    "# Define level of verbosity\n",
    "#logger = msg.bioMessage()\n",
    "# logger.setSilent()\n",
    "# logger.setWarning()\n",
    "# logger.setGeneral()\n",
    "#logger.setDetailed()\n",
    "# logger.setDebug()\n",
    "\n",
    "# Create the Biogeme object\n",
    "biogeme = bio.BIOGEME(database, logprob, numberOfDraws=1000)\n",
    "biogeme.modelName = 'mlogit_no_pannel_8'\n",
    "\n",
    "# Estimate the parameters.\n",
    "results = biogeme.estimate()\n",
    "pandasResults = results.getEstimatedParameters()\n",
    "print(pandasResults)\n"
   ]
  },
  {
   "cell_type": "code",
   "execution_count": 15,
   "metadata": {},
   "outputs": [
    {
     "name": "stdout",
     "output_type": "stream",
     "text": [
      "Results for model mlogit_no_pannel_8\n",
      "Nbr of parameters:\t\t15\n",
      "Sample size:\t\t\t563\n",
      "Excluded data:\t\t\t0\n",
      "Final log likelihood:\t\t-550.4326\n",
      "Akaike Information Criterion:\t1130.865\n",
      "Bayesian Information Criterion:\t1195.864\n",
      "\n",
      "                            Value   Std err    t-test       p-value  \\\n",
      "ASC_Bicycle             -1.706747  0.197226 -8.653764  0.000000e+00   \n",
      "ASC_Walking              0.849635  0.186021  4.567424  4.937544e-06   \n",
      "ASC_car                 -3.706349  0.673971 -5.499274  3.813586e-08   \n",
      "HERKOMST_w5_2_Walking   -1.213771  0.499152 -2.431664  1.502965e-02   \n",
      "KAFSTV_12_bus_Train      0.667545  0.302623  2.205867  2.739331e-02   \n",
      "KAFSTV_2_Bicycle         1.951819  0.584425  3.339727  8.386093e-04   \n",
      "KAFSTV_3_car             2.024553  0.869835  2.327514  1.993790e-02   \n",
      "KLEEFT2_8_Bicycle        1.074320  0.555696  1.933287  5.320091e-02   \n",
      "MOTIEF_5_Bicycle         2.402511  0.746588  3.217988  1.290933e-03   \n",
      "PAUTO_bus_Train         -0.484281  0.210815 -2.297187  2.160810e-02   \n",
      "TransitDuration_Walking -1.410898  0.463792 -3.042090  2.349419e-03   \n",
      "new_mixed                2.627528  1.366647  1.922609  5.452921e-02   \n",
      "new_mixed2               2.411936  2.408520  1.001419  3.166245e-01   \n",
      "vlokatie_centrumsgw_S   -1.707253  1.698657 -1.005061  3.148676e-01   \n",
      "vlokatie_centrumsgw_car -0.552281  1.620864 -0.340732  7.333051e-01   \n",
      "\n",
      "                         Rob. Std err  Rob. t-test  Rob. p-value  \n",
      "ASC_Bicycle                  0.202284    -8.437376      0.000000  \n",
      "ASC_Walking                  0.190087     4.469724      0.000008  \n",
      "ASC_car                      0.776071    -4.775787      0.000002  \n",
      "HERKOMST_w5_2_Walking        0.493886    -2.457592      0.013987  \n",
      "KAFSTV_12_bus_Train          0.307058     2.174005      0.029705  \n",
      "KAFSTV_2_Bicycle             0.587043     3.324833      0.000885  \n",
      "KAFSTV_3_car                 0.708975     2.855605      0.004295  \n",
      "KLEEFT2_8_Bicycle            0.480244     2.237030      0.025284  \n",
      "MOTIEF_5_Bicycle             0.665110     3.612201      0.000304  \n",
      "PAUTO_bus_Train              0.218058    -2.220885      0.026359  \n",
      "TransitDuration_Walking      0.483389    -2.918763      0.003514  \n",
      "new_mixed                    1.777603     1.478129      0.139373  \n",
      "new_mixed2                   3.339214     0.722307      0.470106  \n",
      "vlokatie_centrumsgw_S        2.390746    -0.714109      0.475160  \n",
      "vlokatie_centrumsgw_car      2.211430    -0.249739      0.802789  \n"
     ]
    }
   ],
   "source": [
    "print(results.shortSummary())\n",
    "print(results.getEstimatedParameters(onlyRobust=False))"
   ]
  }
 ],
 "metadata": {
  "kernelspec": {
   "display_name": "Python 3",
   "language": "python",
   "name": "python3"
  },
  "language_info": {
   "codemirror_mode": {
    "name": "ipython",
    "version": 3
   },
   "file_extension": ".py",
   "mimetype": "text/x-python",
   "name": "python",
   "nbconvert_exporter": "python",
   "pygments_lexer": "ipython3",
   "version": "3.10.9"
  },
  "orig_nbformat": 4,
  "vscode": {
   "interpreter": {
    "hash": "2b324498af64d22b4773901be112d66dec816013b7f64fed368c8550f7daba2d"
   }
  }
 },
 "nbformat": 4,
 "nbformat_minor": 2
}

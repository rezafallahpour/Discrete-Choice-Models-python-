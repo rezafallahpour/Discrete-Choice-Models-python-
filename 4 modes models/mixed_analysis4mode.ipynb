{
 "cells": [
  {
   "cell_type": "code",
   "execution_count": 1,
   "metadata": {},
   "outputs": [],
   "source": [
    "import numpy as np\n",
    "import pandas as pd\n",
    "import biogeme.database as db\n",
    "import biogeme.biogeme as bio\n",
    "from biogeme import models\n",
    "import biogeme.messaging as msg\n",
    "from biogeme.expressions import (\n",
    "    Beta,\n",
    "    Variable,\n",
    "    bioDraws,\n",
    "    PanelLikelihoodTrajectory,\n",
    "    MonteCarlo,\n",
    "    log,\n",
    ")"
   ]
  },
  {
   "cell_type": "code",
   "execution_count": 2,
   "metadata": {},
   "outputs": [],
   "source": [
    "np.random.seed(seed=90267)\n",
    "df = pd.read_csv('F:/more work/netherlands/wave8data/model/nested_logit/nested_data_4mode.csv')\n"
   ]
  },
  {
   "cell_type": "code",
   "execution_count": 3,
   "metadata": {},
   "outputs": [],
   "source": [
    "df.drop(['AFSTV', 'G_AFSTAND', 'KAFSTV', 'KHVM', 'KVERTTIJD', 'REISDUUR', 'KREISDUUR', 'REISDUUR_ORG', 'G_REISDUUR', 'ROLAUTO', 'PARKEERKOSTEN', 'KRVM', 'Bestuurder', 'HHBRUTOINK2_w5','CarStatus' , 'TransitStatus'] , axis=1 , inplace=True)\n",
    "df.dropna(inplace=True)\n",
    "df=df[df[\"PROV_27\"]==1]\n",
    "df[\"ID\"] = df[\"ID\"]*0.0001\n",
    "df[\"CarTravelTime\"] = df[\"CarTravelTime\"]*0.0001\n",
    "df[\"BikeDistance\"] = df[\"BikeDistance\"]*0.00001\n",
    "df[\"TransitDistance\"] = df[\"TransitDistance\"]*0.00001\n",
    "df[\"TransitDuration\"] = df[\"TransitDuration\"]*0.0001\n",
    "df[\"alokatie_station\"] = df[\"alokatie_station\"]*0.0001\n",
    "df[\"alokatie_bushalte2xpu\"] = df[\"alokatie_bushalte2xpu\"]*0.0001\n",
    "df[\"vlokatie_centrumsgw\"] = df[\"vlokatie_centrumsgw\"]*0.0001\n",
    "\n",
    "database = db.Database('first_logit_model', df)\n",
    "globals().update(database.variables)\n",
    "database.panel(\"ID\")\n"
   ]
  },
  {
   "cell_type": "code",
   "execution_count": 4,
   "metadata": {},
   "outputs": [],
   "source": [
    "# Parameters to be estimated\n",
    "#car as a driver\n",
    "ASC_car = Beta('ASC_car', 0, None, None, 0)\n",
    "N_ACTIVITEIT13_1_car = Beta('N_ACTIVITEIT13_1_car', 0, None, None, 0)\n",
    "#WERKSITUATIE_ANDERS1_car = Beta('WERKSITUATIE_ANDERS1_car', 0, None, None, 0)\n",
    "vlokatie_centrumsgw_car = Beta('vlokatie_centrumsgw_car', 0, None, None, 0)\n",
    "KAFSTV_3_car = Beta('KAFSTV_3_car', 0, None, None, 0)\n",
    "#GEBRUIK_PARK2_car = Beta('GEBRUIK_PARK2_car', 0, None, None, 0)\n",
    "KLEEFT2_9_car = Beta('KLEEFT2_9_car', 0, None, None, 0)\n",
    "INVLOED3_car = Beta('INVLOED3_car', 0, None, None, 0)\n",
    "DOEL_8_car = Beta('DOEL_8_car', 0, None, None, 0)\n",
    "N_KIND_2_car = Beta('N_KIND_2_car', 0, None, None, 0)\n",
    "##EVENT4_car = Beta('EVENT4_car', 0, None, None, 0)\n",
    "\n",
    "\n",
    "\n",
    "\n",
    "\n",
    "# train\n",
    "ASC_bus_Train = Beta('ASC_bus_Train', 0, None, None, 1)\n",
    "#TransitDuration_bus_Train = Beta('TransitDuration_bus_Train', 0, None, None, 0)\n",
    "CarTravelTime_bus_Train = Beta('CarTravelTime_bus_Train', 0, None, None, 0)\n",
    "#KAFSTV_12_bus_Train = Beta('KAFSTV_12_bus_Train', 0, None, None, 0)\n",
    "PAUTO_bus_Train = Beta('PAUTO_bus_Train', 0, None, None, 0)\n",
    "MOTIEF_11_bus_Train = Beta('MOTIEF_11_bus_Train', 0, None, None, 0)\n",
    "KAFSTV_12_bus_Train = Beta('KAFSTV_12_bus_Train', 0, None, None, 0)\n",
    "\n",
    "#N_KIND\n",
    "\n",
    "\n",
    "\n",
    "\n",
    "\n",
    "\n",
    "# bicycle\n",
    "ASC_Scooter_Bicycle = Beta('ASC_Bicycle', 0, None, None, 0)\n",
    "MOTIEF_5_Bicycle = Beta('MOTIEF_5_Bicycle', 0, None, None, 0)\n",
    "TYPE_OVKAART4_Bicycle = Beta('TYPE_OVKAART4_Bicycle', 0, None, None, 0)\n",
    "KLEEFT2_8_Bicycle = Beta('KLEEFT2_8_Bicycle', 0, None, None, 0)\n",
    "KAFSTV_2_Bicycle = Beta('KAFSTV_2_Bicycle', 0, None, None, 0)\n",
    "#EVENT9_Bicycle = Beta('EVENT9_Bicycle', 0, None, None, 0)\n",
    "TYPE_OVKAART2_Bicycle = Beta('TYPE_OVKAART2_Bicycle', 0, None, None, 0)\n",
    "EVENT6_Bicycle = Beta('EVENT6_Bicycle', 0, None, None, 0)\n",
    "new_Bicycle = Beta('new_Bicycle', 0, None, None, 0)\n",
    "\n",
    "\n",
    "\n",
    "\n",
    "\n",
    "\n",
    "\n",
    "\n",
    "\n",
    "# walking\n",
    "ASC_Walking = Beta('ASC_Walking', 0, None, None, 0)\n",
    "TransitDuration_Walking = Beta('TransitDuration_Walking', 0, None, None, 0)\n",
    "HERKOMST_w5_2_Walking = Beta('HERKOMST_w5_2_Walking', 0, None, None, 0)\n",
    "new_Walking = Beta('new_Walking', 0, None, None, 0)\n",
    "\n",
    "new_mixed = Beta('new_mixed', 0, None, None, 0)\n",
    "new_mixed2 = Beta('new_mixed2', 0, None, None, 0)\n"
   ]
  },
  {
   "cell_type": "code",
   "execution_count": 5,
   "metadata": {},
   "outputs": [],
   "source": [
    "\n",
    "# Define a random parameter, normally distributed, designed to be used\n",
    "# for Monte-Carlo simulation\n",
    "#EVENT5_m = Beta('EVENT5_m', 1, None, None, 0)\n",
    "\n",
    "# It is advised not to use 0 as starting value for the following parameter.\n",
    "vlokatie_centrumsgw_S = Beta('vlokatie_centrumsgw_S', 1, None, None, 0)\n",
    "#vlokatie_centrumsgw_S_RND = vlokatie_centrumsgw_car + N_ACTIVITEIT13_1_car*N_ACTIVITEIT13_1 + vlokatie_centrumsgw_S * bioDraws('vlokatie_centrumsgw_S_RND', 'NORMAL')WERKSITUATIE_ANDERS1+ROLAUTO_2\n",
    "vlokatie_centrumsgw_S_RND = vlokatie_centrumsgw_car + new_mixed*MOTIEF_7 + new_mixed2*ROLAUTO_2 +  vlokatie_centrumsgw_S * bioDraws('vlokatie_centrumsgw_S_RND', 'NORMAL')"
   ]
  },
  {
   "cell_type": "code",
   "execution_count": 6,
   "metadata": {},
   "outputs": [],
   "source": [
    "# Definition of the utility functions\n",
    "V1 = ASC_car + vlokatie_centrumsgw_S_RND*vlokatie_centrumsgw + KAFSTV_3_car*KAFSTV_3  \n",
    "\n",
    "V2 = ASC_bus_Train + PAUTO_bus_Train*PAUTO + KAFSTV_12_bus_Train*KAFSTV_12\n",
    "\n",
    "V3 = ASC_Scooter_Bicycle + MOTIEF_5_Bicycle*MOTIEF_5 + KLEEFT2_8_Bicycle*KLEEFT2_8 + KAFSTV_2_Bicycle*KAFSTV_2\n",
    "\n",
    "V4 = ASC_Walking + HERKOMST_w5_2_Walking*HERKOMST_w5_2 + TransitDuration_Walking*TransitDuration"
   ]
  },
  {
   "cell_type": "code",
   "execution_count": 7,
   "metadata": {},
   "outputs": [],
   "source": [
    "# Associate utility functions with the numbering of alternatives\n",
    "V = {1: V1, 2: V2, 3: V3, 4: V4}\n",
    "# Associate the availability conditions with the alternatives\n",
    "av = {1: av_car_as_driver, 2: av_train, 3: av_Bicycle , 4: av_Walking}"
   ]
  },
  {
   "cell_type": "code",
   "execution_count": 8,
   "metadata": {},
   "outputs": [],
   "source": [
    "obsprob = models.logit(V, av, Choice_modals)\n",
    "\n",
    "# Conditional to the random parameters, the likelihood of all observations for\n",
    "# one individual (the trajectory) is the product of the likelihood of\n",
    "# each observation.\n",
    "condprobIndiv = PanelLikelihoodTrajectory(obsprob)\n",
    "\n",
    "# We integrate over the random parameters using Monte-Carlo\n",
    "logprob = log(MonteCarlo(condprobIndiv))\n"
   ]
  },
  {
   "cell_type": "code",
   "execution_count": 9,
   "metadata": {},
   "outputs": [
    {
     "name": "stderr",
     "output_type": "stream",
     "text": [
      "The use of argument numberOfDraws in the constructor of the BIOGEME object is deprecated and will be removed in future versions of Biogeme. Instead, define parameter number_of_draws in section MonteCarloof the .toml parameter file. The default file name is biogeme.toml\n"
     ]
    },
    {
     "name": "stdout",
     "output_type": "stream",
     "text": [
      "                            Value  Rob. Std err  Rob. t-test  Rob. p-value\n",
      "ASC_Bicycle             -1.702491      0.313864    -5.424301  5.818166e-08\n",
      "ASC_Walking              0.839529      0.092858     9.041003  0.000000e+00\n",
      "ASC_car                 -3.696469      0.628416    -5.882202  4.048435e-09\n",
      "HERKOMST_w5_2_Walking   -1.209174      0.236861    -5.104988  3.308163e-07\n",
      "KAFSTV_12_bus_Train      0.679815      0.153498     4.428826  9.474737e-06\n",
      "KAFSTV_2_Bicycle         1.941576      0.664410     2.922255  3.475072e-03\n",
      "KAFSTV_3_car             1.497411      0.574412     2.606859  9.137700e-03\n",
      "KLEEFT2_8_Bicycle        1.061744      0.477561     2.223265  2.619796e-02\n",
      "MOTIEF_5_Bicycle         2.404951      0.929092     2.588497  9.639580e-03\n",
      "PAUTO_bus_Train         -0.476233      0.170689    -2.790068  5.269697e-03\n",
      "TransitDuration_Walking -1.370243      0.293274    -4.672233  2.979423e-06\n",
      "new_mixed                1.843862      0.542715     3.397480  6.800963e-04\n",
      "new_mixed2               0.685247      0.277658     2.467950  1.358892e-02\n",
      "vlokatie_centrumsgw_S   -0.502289      0.162967    -3.082157  2.055063e-03\n",
      "vlokatie_centrumsgw_car  0.645257      0.276446     2.334112  1.958988e-02\n"
     ]
    }
   ],
   "source": [
    "# Define level of verbosity\n",
    "#logger = msg.bioMessage()\n",
    "# logger.setSilent()\n",
    "# logger.setWarning()\n",
    "# logger.setGeneral()\n",
    "#logger.setDetailed()\n",
    "# logger.setDebug()\n",
    "\n",
    "# Create the Biogeme object\n",
    "biogeme = bio.BIOGEME(database, logprob, numberOfDraws=1000)\n",
    "biogeme.modelName = 'mixed_analysislogit12'\n",
    "\n",
    "# Estimate the parameters.\n",
    "results = biogeme.estimate()\n",
    "pandasResults = results.getEstimatedParameters()\n",
    "print(pandasResults)\n"
   ]
  },
  {
   "cell_type": "code",
   "execution_count": 10,
   "metadata": {},
   "outputs": [
    {
     "name": "stdout",
     "output_type": "stream",
     "text": [
      "Results for model mixed_analysislogit12\n",
      "Nbr of parameters:\t\t15\n",
      "Sample size:\t\t\t69\n",
      "Observations:\t\t\t563\n",
      "Excluded data:\t\t\t0\n",
      "Final log likelihood:\t\t-546.4229\n",
      "Akaike Information Criterion:\t1122.846\n",
      "Bayesian Information Criterion:\t1156.357\n",
      "\n",
      "                            Value   Std err    t-test       p-value  \\\n",
      "ASC_Bicycle             -1.702491  0.196883 -8.647217  0.000000e+00   \n",
      "ASC_Walking              0.839529  0.183801  4.567589  4.933667e-06   \n",
      "ASC_car                 -3.696469  0.503454 -7.342224  2.100542e-13   \n",
      "HERKOMST_w5_2_Walking   -1.209174  0.498631 -2.424987  1.530895e-02   \n",
      "KAFSTV_12_bus_Train      0.679815  0.301766  2.252791  2.427235e-02   \n",
      "KAFSTV_2_Bicycle         1.941576  0.582245  3.334637  8.541089e-04   \n",
      "KAFSTV_3_car             1.497411  0.719031  2.082539  3.729325e-02   \n",
      "KLEEFT2_8_Bicycle        1.061744  0.552948  1.920151  5.483887e-02   \n",
      "MOTIEF_5_Bicycle         2.404951  0.745566  3.225670  1.256782e-03   \n",
      "PAUTO_bus_Train         -0.476233  0.208643 -2.282528  2.245820e-02   \n",
      "TransitDuration_Walking -1.370243  0.460019 -2.978663  2.895088e-03   \n",
      "new_mixed                1.843862  0.623746  2.956111  3.115445e-03   \n",
      "new_mixed2               0.685247  0.374039  1.832021  6.694834e-02   \n",
      "vlokatie_centrumsgw_S   -0.502289  0.204649 -2.454390  1.411237e-02   \n",
      "vlokatie_centrumsgw_car  0.645257  0.255259  2.527851  1.147631e-02   \n",
      "\n",
      "                         Rob. Std err  Rob. t-test  Rob. p-value  \n",
      "ASC_Bicycle                  0.313864    -5.424301  5.818166e-08  \n",
      "ASC_Walking                  0.092858     9.041003  0.000000e+00  \n",
      "ASC_car                      0.628416    -5.882202  4.048435e-09  \n",
      "HERKOMST_w5_2_Walking        0.236861    -5.104988  3.308163e-07  \n",
      "KAFSTV_12_bus_Train          0.153498     4.428826  9.474737e-06  \n",
      "KAFSTV_2_Bicycle             0.664410     2.922255  3.475072e-03  \n",
      "KAFSTV_3_car                 0.574412     2.606859  9.137700e-03  \n",
      "KLEEFT2_8_Bicycle            0.477561     2.223265  2.619796e-02  \n",
      "MOTIEF_5_Bicycle             0.929092     2.588497  9.639580e-03  \n",
      "PAUTO_bus_Train              0.170689    -2.790068  5.269697e-03  \n",
      "TransitDuration_Walking      0.293274    -4.672233  2.979423e-06  \n",
      "new_mixed                    0.542715     3.397480  6.800963e-04  \n",
      "new_mixed2                   0.277658     2.467950  1.358892e-02  \n",
      "vlokatie_centrumsgw_S        0.162967    -3.082157  2.055063e-03  \n",
      "vlokatie_centrumsgw_car      0.276446     2.334112  1.958988e-02  \n"
     ]
    }
   ],
   "source": [
    "print(results.shortSummary())\n",
    "print(results.getEstimatedParameters(onlyRobust=False))"
   ]
  }
 ],
 "metadata": {
  "kernelspec": {
   "display_name": "Python 3",
   "language": "python",
   "name": "python3"
  },
  "language_info": {
   "codemirror_mode": {
    "name": "ipython",
    "version": 3
   },
   "file_extension": ".py",
   "mimetype": "text/x-python",
   "name": "python",
   "nbconvert_exporter": "python",
   "pygments_lexer": "ipython3",
   "version": "3.10.9"
  },
  "orig_nbformat": 4,
  "vscode": {
   "interpreter": {
    "hash": "2b324498af64d22b4773901be112d66dec816013b7f64fed368c8550f7daba2d"
   }
  }
 },
 "nbformat": 4,
 "nbformat_minor": 2
}

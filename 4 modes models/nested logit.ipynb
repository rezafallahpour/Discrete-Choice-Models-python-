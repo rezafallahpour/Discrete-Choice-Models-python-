{
 "cells": [
  {
   "cell_type": "code",
   "execution_count": 162,
   "metadata": {},
   "outputs": [],
   "source": [
    "import pandas as pd\n",
    "import biogeme.database as db\n",
    "import biogeme.biogeme as bio\n",
    "from biogeme import models\n",
    "from biogeme.results import calculate_correlation\n",
    "import biogeme.messaging as msg\n",
    "from biogeme.expressions import Beta, Variable"
   ]
  },
  {
   "cell_type": "code",
   "execution_count": 163,
   "metadata": {},
   "outputs": [],
   "source": [
    "df = pd.read_csv('F:/more work/netherlands/wave8data/model/nested_logit/nested_data_4mode.csv')\n",
    "df.drop(['AFSTV', 'G_AFSTAND', 'KAFSTV', 'KHVM', 'KVERTTIJD', 'REISDUUR', 'KREISDUUR', 'REISDUUR_ORG', 'G_REISDUUR', 'ROLAUTO', 'PARKEERKOSTEN', 'KRVM', 'Bestuurder', 'HHBRUTOINK2_w5','CarStatus' , 'TransitStatus'] , axis=1 , inplace=True)\n",
    "df.dropna(inplace=True)\n",
    "df=df[df[\"PROV_27\"]==1]\n",
    "df[\"ID\"] = df[\"ID\"]*0.0001\n",
    "df[\"CarTravelTime\"] = df[\"CarTravelTime\"]*0.0001\n",
    "df[\"BikeDistance\"] = df[\"BikeDistance\"]*0.00001\n",
    "df[\"TransitDistance\"] = df[\"TransitDistance\"]*0.00001\n",
    "df[\"TransitDuration\"] = df[\"TransitDuration\"]*0.0001\n",
    "df[\"alokatie_station\"] = df[\"alokatie_station\"]*0.0001\n",
    "df[\"alokatie_bushalte2xpu\"] = df[\"alokatie_bushalte2xpu\"]*0.0001\n",
    "df[\"vlokatie_centrumsgw\"] = df[\"vlokatie_centrumsgw\"]*0.0001\n",
    "\n",
    "database = db.Database('first_logit_model', df)\n",
    "globals().update(database.variables)"
   ]
  },
  {
   "cell_type": "code",
   "execution_count": 164,
   "metadata": {},
   "outputs": [],
   "source": [
    "# Parameters to be estimated\n",
    "#car as a driver\n",
    "ASC_car = Beta('ASC_car', 0, None, None, 0)\n",
    "#N_ACTIVITEIT13_1_car = Beta('N_ACTIVITEIT13_1_car', 0, None, None, 0)\n",
    "#WERKSITUATIE_ANDERS1_car = Beta('WERKSITUATIE_ANDERS1_car', 0, None, None, 0)\n",
    "vlokatie_centrumsgw_car = Beta('vlokatie_centrumsgw_car', 0, None, None, 0)\n",
    "KAFSTV_3_car = Beta('KAFSTV_3_car', 0, None, None, 0)\n",
    "#GEBRUIK_PARK2_car = Beta('GEBRUIK_PARK2_car', 0, None, None, 0)\n",
    "KLEEFT2_9_car = Beta('KLEEFT2_9_car', 0, None, None, 0)\n",
    "INVLOED3_car = Beta('INVLOED3_car', 0, None, None, 0)\n",
    "DOEL_8_car = Beta('DOEL_8_car', 0, None, None, 0)\n",
    "N_KIND_2_car = Beta('N_KIND_2_car', 0, None, None, 0)\n",
    "##EVENT4_car = Beta('EVENT4_car', 0, None, None, 0)\n",
    "\n",
    "\n",
    "\n",
    "\n",
    "\n",
    "# train\n",
    "ASC_bus_Train = Beta('ASC_bus_Train', 0, None, None, 1)\n",
    "#TransitDuration_bus_Train = Beta('TransitDuration_bus_Train', 0, None, None, 0)\n",
    "CarTravelTime_bus_Train = Beta('CarTravelTime_bus_Train', 0, None, None, 0)\n",
    "#KAFSTV_12_bus_Train = Beta('KAFSTV_12_bus_Train', 0, None, None, 0)\n",
    "PAUTO_bus_Train = Beta('PAUTO_bus_Train', 0, None, None, 0)\n",
    "MOTIEF_11_bus_Train = Beta('MOTIEF_11_bus_Train', 0, None, None, 0)\n",
    "KAFSTV_12_bus_Train = Beta('KAFSTV_12_bus_Train', 0, None, None, 0)\n",
    "\n",
    "#N_KIND\n",
    "\n",
    "\n",
    "\n",
    "\n",
    "\n",
    "\n",
    "# bicycle\n",
    "ASC_Scooter_Bicycle = Beta('ASC_Bicycle', 0, None, None, 0)\n",
    "MOTIEF_5_Bicycle = Beta('MOTIEF_5_Bicycle', 0, None, None, 0)\n",
    "TYPE_OVKAART4_Bicycle = Beta('TYPE_OVKAART4_Bicycle', 0, None, None, 0)\n",
    "KLEEFT2_8_Bicycle = Beta('KLEEFT2_8_Bicycle', 0, None, None, 0)\n",
    "KAFSTV_2_Bicycle = Beta('KAFSTV_2_Bicycle', 0, None, None, 0)\n",
    "#EVENT9_Bicycle = Beta('EVENT9_Bicycle', 0, None, None, 0)\n",
    "TYPE_OVKAART2_Bicycle = Beta('TYPE_OVKAART2_Bicycle', 0, None, None, 0)\n",
    "EVENT6_Bicycle = Beta('EVENT6_Bicycle', 0, None, None, 0)\n",
    "new_Bicycle = Beta('new_Bicycle', 0, None, None, 0)\n",
    "\n",
    "\n",
    "\n",
    "\n",
    "\n",
    "\n",
    "\n",
    "\n",
    "\n",
    "# walking\n",
    "ASC_Walking = Beta('ASC_Walking', 0, None, None, 0)\n",
    "TransitDuration_Walking = Beta('TransitDuration_Walking', 0, None, None, 0)\n",
    "HERKOMST_w5_2_Walking = Beta('HERKOMST_w5_2_Walking', 0, None, None, 0)\n",
    "new_Walking = Beta('new_Walking', 0, None, None, 0)\n",
    "\n"
   ]
  },
  {
   "cell_type": "code",
   "execution_count": 165,
   "metadata": {},
   "outputs": [],
   "source": [
    "#Definition of the variable\n",
    "vlokatie_centrumsgw = Variable('vlokatie_centrumsgw')\n",
    "KAFSTV_3 = Variable('KAFSTV_3')\n",
    "KLEEFT2_9 = Variable('KLEEFT2_9')\n",
    "DOEL_8 = Variable('DOEL_8')\n",
    "PAUTO = Variable('PAUTO')\n",
    "KAFSTV_12 = Variable('KAFSTV_12')\n",
    "MOTIEF_5 = Variable('MOTIEF_5')\n",
    "KLEEFT2_8 = Variable('KLEEFT2_8')\n",
    "KAFSTV_2 = Variable('KAFSTV_2')\n",
    "HERKOMST_w5_2 = Variable('HERKOMST_w5_2')\n",
    "TransitDuration = Variable('TransitDuration')\n",
    "CarTravelTime = Variable('CarTravelTime')\n"
   ]
  },
  {
   "cell_type": "code",
   "execution_count": 166,
   "metadata": {},
   "outputs": [],
   "source": [
    "# Definition of the utility functions\n",
    "V1 = ASC_car + vlokatie_centrumsgw_car*vlokatie_centrumsgw + KAFSTV_3_car*KAFSTV_3 + KLEEFT2_9_car*KLEEFT2_9 + DOEL_8_car*DOEL_8 \n",
    "\n",
    "V2 = ASC_bus_Train + PAUTO_bus_Train*PAUTO + CarTravelTime_bus_Train*CarTravelTime\n",
    "\n",
    "V3 = ASC_Scooter_Bicycle + MOTIEF_5_Bicycle*MOTIEF_5 + KLEEFT2_8_Bicycle*KLEEFT2_8 + KAFSTV_2_Bicycle*KAFSTV_2\n",
    "\n",
    "V4 = ASC_Walking + HERKOMST_w5_2_Walking*HERKOMST_w5_2 "
   ]
  },
  {
   "cell_type": "code",
   "execution_count": 167,
   "metadata": {},
   "outputs": [],
   "source": [
    "av_car_as_driver = Variable('av_car_as_driver')\n",
    "av_train = Variable('av_train')\n",
    "av_Bicycle = Variable('av_Bicycle')\n",
    "av_Walking = Variable('av_Walking')\n",
    "Choice_modals = Variable('Choice_modals')"
   ]
  },
  {
   "cell_type": "code",
   "execution_count": 168,
   "metadata": {},
   "outputs": [],
   "source": [
    "# Associate utility functions with the numbering of alternatives\n",
    "V = {1: V1, 2: V2, 3: V3, 4: V4}\n",
    "# Associate the availability conditions with the alternatives\n",
    "av = {1: av_car_as_driver, 2: av_train, 3: av_Bicycle , 4: av_Walking}"
   ]
  },
  {
   "cell_type": "code",
   "execution_count": 169,
   "metadata": {},
   "outputs": [],
   "source": [
    "# Definition of nests:\n",
    "MU1 = Beta('MU1', 1,1,None,0)\n",
    "\n",
    "\n",
    "# 1: nests parameter\n",
    "# 2: list of alternatives\n",
    "nest1 = MU1, [1,2]\n",
    "nest2 = 1.0, [3,4]\n",
    "nests = nest1 , nest2"
   ]
  },
  {
   "cell_type": "code",
   "execution_count": 170,
   "metadata": {},
   "outputs": [],
   "source": [
    "# Definition of the model. This is the contribution of each\n",
    "# observation to the log likelihood function.\n",
    "# The choice model is a nested logit, with availability conditions\n",
    "logprob = models.lognested(V, av, nests, Choice_modals)\n",
    "# Create the Biogeme object\n",
    "the_biogeme = bio.BIOGEME(database, logprob)\n",
    "the_biogeme.modelName = \"nested_multimodal17\""
   ]
  },
  {
   "cell_type": "code",
   "execution_count": 171,
   "metadata": {},
   "outputs": [
    {
     "name": "stdout",
     "output_type": "stream",
     "text": [
      "Results for model nested_multimodal16\n",
      "Nbr of parameters:\t\t14\n",
      "Sample size:\t\t\t563\n",
      "Excluded data:\t\t\t0\n",
      "Null log likelihood:\t\t-780.4837\n",
      "Final log likelihood:\t\t-545.3621\n",
      "Likelihood ratio test (null):\t\t470.2432\n",
      "Rho square (null):\t\t\t0.301\n",
      "Rho bar square (null):\t\t\t0.283\n",
      "Akaike Information Criterion:\t1118.724\n",
      "Bayesian Information Criterion:\t1179.39\n",
      "\n",
      "                             Value  Rob. Std err  Rob. t-test  Rob. p-value\n",
      "ASC_Bicycle              -1.823901      0.187030    -9.751938      0.000000\n",
      "ASC_Walking               0.276340      0.100715     2.743773      0.006074\n",
      "ASC_car                  -0.176416      0.305799    -0.576900      0.564007\n",
      "CarTravelTime_bus_Train  -0.007118      0.067594    -0.105300      0.916138\n",
      "DOEL_8_car                0.040964      0.077117     0.531198      0.595282\n",
      "HERKOMST_w5_2_Walking    -0.992762      0.495013    -2.005526      0.044907\n",
      "KAFSTV_2_Bicycle          1.717650      0.578626     2.968496      0.002993\n",
      "KAFSTV_3_car              0.085816      0.148926     0.576233      0.564458\n",
      "KLEEFT2_8_Bicycle         1.088745      0.479349     2.271298      0.023129\n",
      "KLEEFT2_9_car             0.020462      0.045242     0.452277      0.651069\n",
      "MOTIEF_5_Bicycle          2.390708      0.642787     3.719286      0.000200\n",
      "MU1                      39.755438     73.954852     0.537564      0.590878\n",
      "PAUTO_bus_Train          -0.103650      0.179882    -0.576210      0.564473\n",
      "vlokatie_centrumsgw_car   0.034181      0.061179     0.558709      0.576361\n"
     ]
    }
   ],
   "source": [
    "\n",
    "# Calculate the null log likelihood for reporting.\n",
    "the_biogeme.calculateNullLoglikelihood(av)\n",
    "\n",
    "# Estimate the parameters\n",
    "results = the_biogeme.estimate()\n",
    "print(results.shortSummary())\n",
    "pandas_results = results.getEstimatedParameters()\n",
    "print(pandas_results)"
   ]
  },
  {
   "cell_type": "code",
   "execution_count": 172,
   "metadata": {},
   "outputs": [
    {
     "name": "stdout",
     "output_type": "stream",
     "text": [
      "                             Value    Std err    t-test   p-value  \\\n",
      "ASC_Bicycle              -1.823901   0.186365 -9.786700  0.000000   \n",
      "ASC_Walking               0.276340   0.102057  2.707710  0.006775   \n",
      "ASC_car                  -0.176416   0.313746 -0.562287  0.573921   \n",
      "CarTravelTime_bus_Train  -0.007118   0.058068 -0.122575  0.902444   \n",
      "DOEL_8_car                0.040964   0.078568  0.521387  0.602097   \n",
      "HERKOMST_w5_2_Walking    -0.992762   0.495824 -2.002247  0.045258   \n",
      "KAFSTV_2_Bicycle          1.717650   0.576270  2.980636  0.002877   \n",
      "KAFSTV_3_car              0.085816   0.156052  0.549921  0.582373   \n",
      "KLEEFT2_8_Bicycle         1.088745   0.550517  1.977678  0.047965   \n",
      "KLEEFT2_9_car             0.020462   0.051929  0.394035  0.693555   \n",
      "MOTIEF_5_Bicycle          2.390708   0.739459  3.233049  0.001225   \n",
      "MU1                      39.755438  72.506043  0.548305  0.583482   \n",
      "PAUTO_bus_Train          -0.103650   0.184444 -0.561960  0.574143   \n",
      "vlokatie_centrumsgw_car   0.034181   0.061810  0.553009  0.580257   \n",
      "\n",
      "                         Rob. Std err  Rob. t-test  Rob. p-value  \n",
      "ASC_Bicycle                  0.187030    -9.751938      0.000000  \n",
      "ASC_Walking                  0.100715     2.743773      0.006074  \n",
      "ASC_car                      0.305799    -0.576900      0.564007  \n",
      "CarTravelTime_bus_Train      0.067594    -0.105300      0.916138  \n",
      "DOEL_8_car                   0.077117     0.531198      0.595282  \n",
      "HERKOMST_w5_2_Walking        0.495013    -2.005526      0.044907  \n",
      "KAFSTV_2_Bicycle             0.578626     2.968496      0.002993  \n",
      "KAFSTV_3_car                 0.148926     0.576233      0.564458  \n",
      "KLEEFT2_8_Bicycle            0.479349     2.271298      0.023129  \n",
      "KLEEFT2_9_car                0.045242     0.452277      0.651069  \n",
      "MOTIEF_5_Bicycle             0.642787     3.719286      0.000200  \n",
      "MU1                         73.954852     0.537564      0.590878  \n",
      "PAUTO_bus_Train              0.179882    -0.576210      0.564473  \n",
      "vlokatie_centrumsgw_car      0.061179     0.558709      0.576361  \n"
     ]
    }
   ],
   "source": [
    "print(results.getEstimatedParameters(onlyRobust=False))\n"
   ]
  },
  {
   "cell_type": "code",
   "execution_count": 173,
   "metadata": {},
   "outputs": [
    {
     "name": "stdout",
     "output_type": "stream",
     "text": [
      "           Bicycle  Bus_train  Walking       car\n",
      "Bicycle        1.0   0.000000      0.0  0.000000\n",
      "Bus_train      0.0   1.000000      0.0  0.999367\n",
      "Walking        0.0   0.000000      1.0  0.000000\n",
      "car            0.0   0.999367      0.0  1.000000\n"
     ]
    }
   ],
   "source": [
    "corr = calculate_correlation(\n",
    "    nests, results, alternative_names={1: 'car', 2: 'Bus_train', 3: 'Bicycle', 4: 'Walking'}\n",
    ")\n",
    "print(corr)"
   ]
  }
 ],
 "metadata": {
  "kernelspec": {
   "display_name": "Python 3",
   "language": "python",
   "name": "python3"
  },
  "language_info": {
   "codemirror_mode": {
    "name": "ipython",
    "version": 3
   },
   "file_extension": ".py",
   "mimetype": "text/x-python",
   "name": "python",
   "nbconvert_exporter": "python",
   "pygments_lexer": "ipython3",
   "version": "3.10.9"
  },
  "orig_nbformat": 4
 },
 "nbformat": 4,
 "nbformat_minor": 2
}

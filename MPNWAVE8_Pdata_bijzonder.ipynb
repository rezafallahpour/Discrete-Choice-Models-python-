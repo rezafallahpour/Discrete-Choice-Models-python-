{
 "cells": [
  {
   "cell_type": "code",
   "execution_count": 125,
   "metadata": {},
   "outputs": [],
   "source": [
    "import pandas as pd\n",
    "import numpy as np"
   ]
  },
  {
   "cell_type": "code",
   "execution_count": 126,
   "metadata": {},
   "outputs": [],
   "source": [
    "MPNWAVE8_Pdata_bijzonder = pd.read_csv('F:/more work/netherlands/wave8data/MPNWAVE8_Pdata_bijzonder/MPNWAVE8_Pdata_bijzonder.csv')"
   ]
  },
  {
   "cell_type": "code",
   "execution_count": 127,
   "metadata": {},
   "outputs": [],
   "source": [
    "MPNWAVE8_Pdata_bijzonder['OORDEEL_AUTO'].replace(['Very negative' , 'Negative' , 'Not positive/not negative' , 'Positive' , 'Very positive' , 'No opinion'] , [1,2,3,4,5,3] , inplace=True)\n",
    "new = pd.get_dummies(MPNWAVE8_Pdata_bijzonder['OORDEEL_AUTO'],prefix='OORDEEL_AUTO')\n",
    "MPNWAVE8_Pdata_bijzonder = MPNWAVE8_Pdata_bijzonder.join(new)\n",
    "#MPNWAVE8_Pdata_bijzonder['OORDEEL_AUTO'].replace(['0'] , [np.nan],inplace=True)\n",
    "# MPNWAVE8_Pdata_bijzonder['OORDEEL_AUTO'].fillna(method = 'ffill')"
   ]
  },
  {
   "cell_type": "code",
   "execution_count": 128,
   "metadata": {},
   "outputs": [],
   "source": [
    "MPNWAVE8_Pdata_bijzonder['OORDEEL_TREIN'].replace(['Very negative' , 'Negative' , 'Not positive/not negative' , 'Positive' , 'Very positive' , 'No opinion'] , [1,2,3,4,5,3] , inplace=True)\n",
    "new = pd.get_dummies(MPNWAVE8_Pdata_bijzonder['OORDEEL_TREIN'],prefix='OORDEEL_TREIN')\n",
    "MPNWAVE8_Pdata_bijzonder = MPNWAVE8_Pdata_bijzonder.join(new)\n",
    "#MPNWAVE8_Pdata_bijzonder['OORDEEL_TREIN'].replace(['0'] , [np.nan],inplace=True)\n",
    "# MPNWAVE8_Pdata_bijzonder['OORDEEL_AUTO'].fillna(method = 'ffill')"
   ]
  },
  {
   "cell_type": "code",
   "execution_count": 129,
   "metadata": {},
   "outputs": [],
   "source": [
    "MPNWAVE8_Pdata_bijzonder['OORDEEL_BTM'].replace(['Very negative' , 'Negative' , 'Not positive/not negative' , 'Positive' , 'Very positive' , 'No opinion'] , [1,2,3,4,5,3] , inplace=True)\n",
    "new = pd.get_dummies(MPNWAVE8_Pdata_bijzonder['OORDEEL_BTM'],prefix='OORDEEL_BTM')\n",
    "MPNWAVE8_Pdata_bijzonder = MPNWAVE8_Pdata_bijzonder.join(new)\n",
    "#MPNWAVE8_Pdata_bijzonder['OORDEEL_TREIN'].replace(['0'] , [np.nan],inplace=True)\n",
    "# MPNWAVE8_Pdata_bijzonder['OORDEEL_AUTO'].fillna(method = 'ffill')"
   ]
  },
  {
   "cell_type": "code",
   "execution_count": 130,
   "metadata": {},
   "outputs": [],
   "source": [
    "MPNWAVE8_Pdata_bijzonder['OORDEEL_FIETS'].replace(['Very negative' , 'Negative' , 'Not positive/not negative' , 'Positive' , 'Very positive' , 'No opinion'] , [1,2,3,4,5,3] , inplace=True)\n",
    "new = pd.get_dummies(MPNWAVE8_Pdata_bijzonder['OORDEEL_FIETS'],prefix='OORDEEL_FIETS')\n",
    "MPNWAVE8_Pdata_bijzonder = MPNWAVE8_Pdata_bijzonder.join(new)\n",
    "#MPNWAVE8_Pdata_bijzonder['OORDEEL_TREIN'].replace(['0'] , [np.nan],inplace=True)\n",
    "# MPNWAVE8_Pdata_bijzonder['OORDEEL_AUTO'].fillna(method = 'ffill')"
   ]
  },
  {
   "cell_type": "code",
   "execution_count": 131,
   "metadata": {},
   "outputs": [],
   "source": [
    "MPNWAVE8_Pdata_bijzonder['OORDEEL_BROMMER'].replace(['Very negative' , 'Negative' , 'Not positive/not negative' , 'Positive' , 'Very positive' , 'No opinion'] , [1,2,3,4,5,3] , inplace=True)\n",
    "new = pd.get_dummies(MPNWAVE8_Pdata_bijzonder['OORDEEL_BROMMER'],prefix='OORDEEL_BROMMER')\n",
    "MPNWAVE8_Pdata_bijzonder = MPNWAVE8_Pdata_bijzonder.join(new)\n",
    "#MPNWAVE8_Pdata_bijzonder['OORDEEL_TREIN'].replace(['0'] , [np.nan],inplace=True)\n",
    "# MPNWAVE8_Pdata_bijzonder['OORDEEL_AUTO'].fillna(method = 'ffill')"
   ]
  },
  {
   "cell_type": "code",
   "execution_count": 132,
   "metadata": {},
   "outputs": [],
   "source": [
    "MPNWAVE8_Pdata_bijzonder['OORDEEL_LOPEN'].replace(['Very negative' , 'Negative' , 'Not positive/not negative' , 'Positive' , 'Very positive' , 'No opinion'] , [1,2,3,4,5,3] , inplace=True)\n",
    "new = pd.get_dummies(MPNWAVE8_Pdata_bijzonder['OORDEEL_LOPEN'],prefix='OORDEEL_LOPEN')\n",
    "MPNWAVE8_Pdata_bijzonder = MPNWAVE8_Pdata_bijzonder.join(new)\n",
    "#MPNWAVE8_Pdata_bijzonder['OORDEEL_TREIN'].replace(['0'] , [np.nan],inplace=True)\n",
    "# MPNWAVE8_Pdata_bijzonder['OORDEEL_AUTO'].fillna(method = 'ffill')"
   ]
  },
  {
   "cell_type": "code",
   "execution_count": 133,
   "metadata": {},
   "outputs": [],
   "source": [
    "MPNWAVE8_Pdata_bijzonder['OORDEEL_VLIEGTUIG'].replace(['Very negative' , 'Negative' , 'Not positive/not negative' , 'Positive' , 'Very positive' , 'No opinion'] , [1,2,3,4,5,3] , inplace=True)\n",
    "new = pd.get_dummies(MPNWAVE8_Pdata_bijzonder['OORDEEL_VLIEGTUIG'],prefix='OORDEEL_VLIEGTUIG')\n",
    "MPNWAVE8_Pdata_bijzonder = MPNWAVE8_Pdata_bijzonder.join(new)\n",
    "#MPNWAVE8_Pdata_bijzonder['OORDEEL_TREIN'].replace(['0'] , [np.nan],inplace=True)\n",
    "# MPNWAVE8_Pdata_bijzonder['OORDEEL_AUTO'].fillna(method = 'ffill')"
   ]
  },
  {
   "cell_type": "code",
   "execution_count": 134,
   "metadata": {},
   "outputs": [],
   "source": [
    "for i in range(1,8):\n",
    "    MPNWAVE8_Pdata_bijzonder['GEBRUIK_AUTO_STELLING%d'%i].replace(['Strongly disagree' , 'Disagree' , 'Neither disagree or agree' , 'Agree' , 'Strongly agree' , 'No opinion'] , [1,2,3,4,5,3] , inplace=True)"
   ]
  },
  {
   "cell_type": "code",
   "execution_count": 135,
   "metadata": {},
   "outputs": [],
   "source": [
    "for i in range(1,8):\n",
    "    MPNWAVE8_Pdata_bijzonder['GEBRUIK_TREIN_STELLING%d'%i].replace(['Strongly disagree' , 'Disagree' , 'Neither disagree or agree' , 'Agree' , 'Strongly agree' , 'No opinion'] , [1,2,3,4,5,3] , inplace=True)"
   ]
  },
  {
   "cell_type": "code",
   "execution_count": 136,
   "metadata": {},
   "outputs": [],
   "source": [
    "for i in range(1,8):\n",
    "    MPNWAVE8_Pdata_bijzonder['GEBRUIK_BTM_STELLING%d'%i].replace(['Strongly disagree' , 'Disagree' , 'Neither disagree or agree' , 'Agree' , 'Strongly agree' , 'No opinion'], [1,2,3,4,5,3] , inplace=True)"
   ]
  },
  {
   "cell_type": "code",
   "execution_count": 137,
   "metadata": {},
   "outputs": [],
   "source": [
    "for i in range(1,8):\n",
    "    MPNWAVE8_Pdata_bijzonder['GEBRUIK_FIETS_STELLING%d'%i].replace(['Strongly disagree' , 'Disagree' , 'Neither disagree or agree' , 'Agree' , 'Strongly agree' , 'No opinion'], [1,2,3,4,5,3] , inplace=True)"
   ]
  },
  {
   "cell_type": "code",
   "execution_count": 138,
   "metadata": {},
   "outputs": [],
   "source": [
    "for i in range(1,8):\n",
    "    MPNWAVE8_Pdata_bijzonder['GEBRUIK_LOPEN_STELLING%d'%i].replace(['Strongly disagree' , 'Disagree' , 'Neither disagree or agree' , 'Agree' , 'Strongly agree' , 'No opinion'], [1,2,3,4,5,3] , inplace=True)"
   ]
  },
  {
   "cell_type": "code",
   "execution_count": 139,
   "metadata": {},
   "outputs": [],
   "source": [
    "for i in range(1,8):\n",
    "    MPNWAVE8_Pdata_bijzonder['BELANG_STELLING%d'%i].replace(['Very unimportant' , 'Unimportant' , 'Not important and not unimportant' , 'Important' , 'Very important'], [1,2,3,4,5] , inplace=True)"
   ]
  },
  {
   "cell_type": "code",
   "execution_count": 140,
   "metadata": {},
   "outputs": [],
   "source": [
    "MPNWAVE8_Pdata_bijzonder['VVM_OPENBAAR'].replace(['Strongly disagree' , 'Disagree' , 'Neither disagree or agree' , 'Agree' , 'Strongly agree' , 'No opinion'], [1,2,3,4,5,3], inplace=True)"
   ]
  },
  {
   "cell_type": "code",
   "execution_count": 141,
   "metadata": {},
   "outputs": [
    {
     "data": {
      "text/plain": [
       "3    4212\n",
       "4     453\n",
       "2     390\n",
       "5     149\n",
       "1      56\n",
       "Name: VVM_TOEKOMST_ANDERS_AUTO, dtype: int64"
      ]
     },
     "execution_count": 141,
     "metadata": {},
     "output_type": "execute_result"
    }
   ],
   "source": [
    "MPNWAVE8_Pdata_bijzonder['VVM_TOEKOMST_ANDERS_AUTO'].replace(['Much less often' , 'Less often' , 'Just as often' , 'More often' , 'Much more often' , 'Does not apply'], [1,2,3,4,5,3], inplace=True)\n",
    "MPNWAVE8_Pdata_bijzonder['VVM_TOEKOMST_ANDERS_AUTO'].value_counts()"
   ]
  },
  {
   "cell_type": "code",
   "execution_count": 142,
   "metadata": {},
   "outputs": [
    {
     "data": {
      "text/plain": [
       "3    3859\n",
       "2     596\n",
       "4     541\n",
       "1     189\n",
       "5      75\n",
       "Name: VVM_TOEKOMST_ANDERS_TREIN, dtype: int64"
      ]
     },
     "execution_count": 142,
     "metadata": {},
     "output_type": "execute_result"
    }
   ],
   "source": [
    "MPNWAVE8_Pdata_bijzonder['VVM_TOEKOMST_ANDERS_TREIN'].replace(['Much less often' , 'Less often' , 'Just as often' , 'More often' , 'Much more often' , 'Does not apply'], [1,2,3,4,5,3], inplace=True)\n",
    "MPNWAVE8_Pdata_bijzonder['VVM_TOEKOMST_ANDERS_TREIN'].value_counts()"
   ]
  },
  {
   "cell_type": "code",
   "execution_count": 143,
   "metadata": {},
   "outputs": [
    {
     "data": {
      "text/plain": [
       "3    3898\n",
       "2     613\n",
       "4     482\n",
       "1     204\n",
       "5      63\n",
       "Name: VVM_TOEKOMST_ANDERS_BTM, dtype: int64"
      ]
     },
     "execution_count": 143,
     "metadata": {},
     "output_type": "execute_result"
    }
   ],
   "source": [
    "MPNWAVE8_Pdata_bijzonder['VVM_TOEKOMST_ANDERS_BTM'].replace(['Much less often' , 'Less often' , 'Just as often' , 'More often' , 'Much more often' , 'Does not apply'], [1,2,3,4,5,3], inplace=True)\n",
    "MPNWAVE8_Pdata_bijzonder['VVM_TOEKOMST_ANDERS_BTM'].value_counts()"
   ]
  },
  {
   "cell_type": "code",
   "execution_count": 144,
   "metadata": {},
   "outputs": [
    {
     "data": {
      "text/plain": [
       "3    4196\n",
       "4     753\n",
       "5     195\n",
       "2      90\n",
       "1      26\n",
       "Name: VVM_TOEKOMST_ANDERS_FIETS, dtype: int64"
      ]
     },
     "execution_count": 144,
     "metadata": {},
     "output_type": "execute_result"
    }
   ],
   "source": [
    "MPNWAVE8_Pdata_bijzonder['VVM_TOEKOMST_ANDERS_FIETS'].replace(['Much less often' , 'Less often' , 'Just as often' , 'More often' , 'Much more often' , 'Does not apply'], [1,2,3,4,5,3], inplace=True)\n",
    "MPNWAVE8_Pdata_bijzonder['VVM_TOEKOMST_ANDERS_FIETS'].value_counts()"
   ]
  },
  {
   "cell_type": "code",
   "execution_count": 145,
   "metadata": {},
   "outputs": [
    {
     "data": {
      "text/plain": [
       "3    5015\n",
       "1      84\n",
       "2      74\n",
       "4      69\n",
       "5      18\n",
       "Name: VVM_TOEKOMST_ANDERS_BROM, dtype: int64"
      ]
     },
     "execution_count": 145,
     "metadata": {},
     "output_type": "execute_result"
    }
   ],
   "source": [
    "MPNWAVE8_Pdata_bijzonder['VVM_TOEKOMST_ANDERS_BROM'].replace(['Much less often' , 'Less often' , 'Just as often' , 'More often' , 'Much more often' , 'Does not apply'], [1,2,3,4,5,3], inplace=True)\n",
    "MPNWAVE8_Pdata_bijzonder['VVM_TOEKOMST_ANDERS_BROM'].value_counts()"
   ]
  },
  {
   "cell_type": "code",
   "execution_count": 146,
   "metadata": {},
   "outputs": [
    {
     "data": {
      "text/plain": [
       "3    4306\n",
       "4     656\n",
       "5     181\n",
       "2     101\n",
       "1      16\n",
       "Name: VVM_TOEKOMST_ANDERS_LOPEN, dtype: int64"
      ]
     },
     "execution_count": 146,
     "metadata": {},
     "output_type": "execute_result"
    }
   ],
   "source": [
    "MPNWAVE8_Pdata_bijzonder['VVM_TOEKOMST_ANDERS_LOPEN'].replace(['Much less often' , 'Less often' , 'Just as often' , 'More often' , 'Much more often' , 'Does not apply'], [1,2,3,4,5,3], inplace=True)\n",
    "MPNWAVE8_Pdata_bijzonder['VVM_TOEKOMST_ANDERS_LOPEN'].value_counts()"
   ]
  },
  {
   "cell_type": "code",
   "execution_count": 147,
   "metadata": {},
   "outputs": [
    {
     "data": {
      "text/plain": [
       "3    3803\n",
       "2     728\n",
       "4     359\n",
       "1     338\n",
       "5      32\n",
       "Name: VVM_TOEKOMST_ANDERS_VLIEGTUIG, dtype: int64"
      ]
     },
     "execution_count": 147,
     "metadata": {},
     "output_type": "execute_result"
    }
   ],
   "source": [
    "MPNWAVE8_Pdata_bijzonder['VVM_TOEKOMST_ANDERS_VLIEGTUIG'].replace(['Much less often' , 'Less often' , 'Just as often' , 'More often' , 'Much more often' , 'Does not apply'], [1,2,3,4,5,3], inplace=True)\n",
    "MPNWAVE8_Pdata_bijzonder['VVM_TOEKOMST_ANDERS_VLIEGTUIG'].value_counts()"
   ]
  },
  {
   "cell_type": "code",
   "execution_count": 148,
   "metadata": {},
   "outputs": [
    {
     "data": {
      "text/plain": [
       "0    3956\n",
       "1    1304\n",
       "Name: COR_OV_VOORHEEN_TREIN, dtype: int64"
      ]
     },
     "execution_count": 148,
     "metadata": {},
     "output_type": "execute_result"
    }
   ],
   "source": [
    "MPNWAVE8_Pdata_bijzonder['COR_OV_VOORHEEN_TREIN'].replace(['Yes' , 'No'] , [1,0], inplace=True)\n",
    "MPNWAVE8_Pdata_bijzonder['COR_OV_VOORHEEN_TREIN'].value_counts()"
   ]
  },
  {
   "cell_type": "code",
   "execution_count": 149,
   "metadata": {},
   "outputs": [
    {
     "data": {
      "text/plain": [
       "0    3758\n",
       "1    1502\n",
       "Name: COR_OV_VOORHEEN_BTM, dtype: int64"
      ]
     },
     "execution_count": 149,
     "metadata": {},
     "output_type": "execute_result"
    }
   ],
   "source": [
    "MPNWAVE8_Pdata_bijzonder['COR_OV_VOORHEEN_BTM'].replace(['Yes' , 'No'] , [1,0], inplace=True)\n",
    "MPNWAVE8_Pdata_bijzonder['COR_OV_VOORHEEN_BTM'].value_counts()"
   ]
  },
  {
   "cell_type": "code",
   "execution_count": 150,
   "metadata": {},
   "outputs": [
    {
     "data": {
      "text/plain": [
       "0    5043\n",
       "1     217\n",
       "Name: COR_BTM_SUBST_5, dtype: int64"
      ]
     },
     "execution_count": 150,
     "metadata": {},
     "output_type": "execute_result"
    }
   ],
   "source": [
    "for i in range(1,6):\n",
    "    MPNWAVE8_Pdata_bijzonder['COR_BTM_SUBST_%d'%i].replace(['Yes' , 'No' , 'Question skipped'] , [1,0,0], inplace=True)\n",
    "MPNWAVE8_Pdata_bijzonder['COR_BTM_SUBST_5'].value_counts()"
   ]
  },
  {
   "cell_type": "code",
   "execution_count": 151,
   "metadata": {},
   "outputs": [
    {
     "data": {
      "text/plain": [
       "0    5072\n",
       "1     188\n",
       "Name: COR_TREIN_SUBST_1, dtype: int64"
      ]
     },
     "execution_count": 151,
     "metadata": {},
     "output_type": "execute_result"
    }
   ],
   "source": [
    "for i in range(1,5):\n",
    "    MPNWAVE8_Pdata_bijzonder['COR_TREIN_SUBST_%d'%i].replace(['Yes' , 'No','Question skipped'] , [1,0,0], inplace=True)\n",
    "MPNWAVE8_Pdata_bijzonder['COR_TREIN_SUBST_1'].value_counts()"
   ]
  },
  {
   "cell_type": "code",
   "execution_count": 152,
   "metadata": {},
   "outputs": [
    {
     "data": {
      "text/plain": [
       "3    4825\n",
       "4     322\n",
       "5      76\n",
       "2      33\n",
       "1       4\n",
       "Name: COR_OV_SUBST_FIETS_ERV_S1, dtype: int64"
      ]
     },
     "execution_count": 152,
     "metadata": {},
     "output_type": "execute_result"
    }
   ],
   "source": [
    "for i in range(1,4):\n",
    "    MPNWAVE8_Pdata_bijzonder['COR_OV_SUBST_FIETS_ERV_S%d'%i].replace(['Strongly disagree' , 'Disagree' , 'Neither disagree or agree' , 'Agree' , 'Strongly agree','Question skipped'], [1,2,3,4,5,3] , inplace=True)\n",
    "MPNWAVE8_Pdata_bijzonder['COR_OV_SUBST_FIETS_ERV_S1'].value_counts()"
   ]
  },
  {
   "cell_type": "code",
   "execution_count": 153,
   "metadata": {},
   "outputs": [
    {
     "data": {
      "text/plain": [
       "3    5225\n",
       "4      19\n",
       "5       8\n",
       "2       7\n",
       "1       1\n",
       "Name: COR_OV_SUBST_BROM_ERV_S1, dtype: int64"
      ]
     },
     "execution_count": 153,
     "metadata": {},
     "output_type": "execute_result"
    }
   ],
   "source": [
    "for i in range(1,4):\n",
    "    MPNWAVE8_Pdata_bijzonder['COR_OV_SUBST_BROM_ERV_S%d'%i].replace(['Strongly disagree' , 'Disagree' , 'Neither disagree or agree' , 'Agree' , 'Strongly agree','Question skipped'], [1,2,3,4,5,3] , inplace=True)\n",
    "MPNWAVE8_Pdata_bijzonder['COR_OV_SUBST_BROM_ERV_S1'].value_counts()"
   ]
  },
  {
   "cell_type": "code",
   "execution_count": 154,
   "metadata": {},
   "outputs": [
    {
     "data": {
      "text/plain": [
       "3    4608\n",
       "4     441\n",
       "5     138\n",
       "2      66\n",
       "1       7\n",
       "Name: COR_OV_SUBST_AUTO_ERV_S1, dtype: int64"
      ]
     },
     "execution_count": 154,
     "metadata": {},
     "output_type": "execute_result"
    }
   ],
   "source": [
    "for i in range(1,4):\n",
    "    MPNWAVE8_Pdata_bijzonder['COR_OV_SUBST_AUTO_ERV_S%d'%i].replace(['Strongly disagree' , 'Disagree' , 'Neither disagree or agree' , 'Agree' , 'Strongly agree' , 'Question skipped'], [1,2,3,4,5,3] , inplace=True)\n",
    "MPNWAVE8_Pdata_bijzonder['COR_OV_SUBST_AUTO_ERV_S1'].value_counts()"
   ]
  },
  {
   "cell_type": "code",
   "execution_count": 155,
   "metadata": {},
   "outputs": [
    {
     "data": {
      "text/plain": [
       "3    5093\n",
       "4     123\n",
       "5      25\n",
       "2      16\n",
       "1       3\n",
       "Name: COR_OV_SUBST_LOOP_ERV_S1, dtype: int64"
      ]
     },
     "execution_count": 155,
     "metadata": {},
     "output_type": "execute_result"
    }
   ],
   "source": [
    "for i in range(1,4):\n",
    "    MPNWAVE8_Pdata_bijzonder['COR_OV_SUBST_LOOP_ERV_S%d'%i].replace(['Strongly disagree' , 'Disagree' , 'Neither disagree or agree' , 'Agree' , 'Strongly agree' , 'Question skipped'], [1,2,3,4,5,3] , inplace=True)\n",
    "MPNWAVE8_Pdata_bijzonder['COR_OV_SUBST_LOOP_ERV_S1'].value_counts()"
   ]
  },
  {
   "cell_type": "code",
   "execution_count": 156,
   "metadata": {},
   "outputs": [
    {
     "data": {
      "text/plain": [
       "6    1664\n",
       "5    1616\n",
       "4     979\n",
       "3     360\n",
       "2     324\n",
       "7     216\n",
       "1     101\n",
       "Name: SWLS_S1, dtype: int64"
      ]
     },
     "execution_count": 156,
     "metadata": {},
     "output_type": "execute_result"
    }
   ],
   "source": [
    "for i in range(1,6):\n",
    "    MPNWAVE8_Pdata_bijzonder['SWLS_S%d'%i].replace(['Strongly disagree' , 'Disagree','Slightly disagree' , 'Neither disagree or agree' , 'Slightly agree', 'Agree' , 'Strongly agree' , 'Question skipped'], [1,2,3,4,5,6,7,4] , inplace=True)\n",
    "MPNWAVE8_Pdata_bijzonder['SWLS_S1'].value_counts()"
   ]
  },
  {
   "cell_type": "code",
   "execution_count": 157,
   "metadata": {},
   "outputs": [
    {
     "data": {
      "text/plain": [
       "2                   1949\n",
       "1                   1493\n",
       "3                   1375\n",
       "4                    322\n",
       "5                     65\n",
       "6                     32\n",
       "Question skipped      24\n",
       "Name: MENTALE_GEZONDHEID_S1, dtype: int64"
      ]
     },
     "execution_count": 157,
     "metadata": {},
     "output_type": "execute_result"
    }
   ],
   "source": [
    "for i in range(1,6):\n",
    "    MPNWAVE8_Pdata_bijzonder['MENTALE_GEZONDHEID_S%d'%i].replace(['Never' , 'Rarely','Sometimes' , 'Often' , 'Mostly', 'Always' ], [1,2,3,4,5,6] , inplace=True)\n",
    "MPNWAVE8_Pdata_bijzonder['MENTALE_GEZONDHEID_S1'].value_counts()"
   ]
  },
  {
   "cell_type": "code",
   "execution_count": 158,
   "metadata": {},
   "outputs": [],
   "source": [
    "MPNWAVE8_Pdata_bijzonder['THUISWERKEN_MOGELIJK'].replace(['Yes, but only if there are not too many other people' ,\n",
    "                                                          'Yes, and I can decide myself',\n",
    "                                                          'Yes, but I prefer working from home' ,\n",
    "                                                          'Yes, I have to work on location more often than at the beginning of the Covid crisis' ,\n",
    "                                                          'No, I have to work from home', \n",
    "                                                           'Other'\n",
    "                                                           , 'Does not apply' , \n",
    "                                                           'Person does not work, or unknown'], [1,2,3,4,5,0,0,0] , inplace=True)\n",
    "\n",
    "new = pd.get_dummies(MPNWAVE8_Pdata_bijzonder['THUISWERKEN_MOGELIJK'],prefix='THUISWERKEN_MOGELIJK')\n",
    "MPNWAVE8_Pdata_bijzonder = MPNWAVE8_Pdata_bijzonder.join(new)\n",
    "MPNWAVE8_Pdata_bijzonder.drop('THUISWERKEN_MOGELIJK_0', axis=1 , inplace=True)\n"
   ]
  },
  {
   "cell_type": "code",
   "execution_count": 159,
   "metadata": {},
   "outputs": [
    {
     "data": {
      "text/plain": [
       "3    3950\n",
       "4     590\n",
       "5     473\n",
       "2     136\n",
       "1     111\n",
       "Name: WERK_TPO_1_STELLING_S14, dtype: int64"
      ]
     },
     "execution_count": 159,
     "metadata": {},
     "output_type": "execute_result"
    }
   ],
   "source": [
    "x = [0,1,2,3,4,5,6,9,10,11,12,13,14,15,16,17]\n",
    "for i in x:\n",
    "    MPNWAVE8_Pdata_bijzonder['WERK_TPO_1_STELLING_S%d'%i].replace(['Strongly disagree' , 'Disagree' , 'Neither disagree or agree' , 'Agree' , 'Strongly agree' , 'Question skipped'], [1,2,3,4,5,3] , inplace=True)\n",
    "MPNWAVE8_Pdata_bijzonder['WERK_TPO_1_STELLING_S14'].value_counts()"
   ]
  },
  {
   "cell_type": "code",
   "execution_count": 160,
   "metadata": {},
   "outputs": [
    {
     "data": {
      "text/plain": [
       "3                 4857\n",
       "4                  225\n",
       "5                  146\n",
       "2                   15\n",
       "1                   10\n",
       "Does not apply       7\n",
       "Name: COR_STUDIE_S4, dtype: int64"
      ]
     },
     "execution_count": 160,
     "metadata": {},
     "output_type": "execute_result"
    }
   ],
   "source": [
    "for i in range(1,8):\n",
    "    MPNWAVE8_Pdata_bijzonder['COR_STUDIE_S%d'%i].replace(['Strongly disagree' , 'Disagree' , 'Neither disagree or agree' , 'Agree' , 'Strongly agree' , 'Question skipped'], [1,2,3,4,5,3] , inplace=True)\n",
    "MPNWAVE8_Pdata_bijzonder['COR_STUDIE_S4'].value_counts()"
   ]
  },
  {
   "cell_type": "code",
   "execution_count": 161,
   "metadata": {},
   "outputs": [
    {
     "data": {
      "text/plain": [
       "3    4771\n",
       "4     288\n",
       "5     173\n",
       "2      19\n",
       "1       9\n",
       "Name: COR_STUDIE_LOCATIE_S4, dtype: int64"
      ]
     },
     "execution_count": 161,
     "metadata": {},
     "output_type": "execute_result"
    }
   ],
   "source": [
    "for i in range(1,5):\n",
    "    MPNWAVE8_Pdata_bijzonder['COR_STUDIE_LOCATIE_S%d'%i].replace(['Strongly disagree' , 'Disagree' , 'Neither disagree or agree' , 'Agree' , 'Strongly agree' , 'Question skipped'], [1,2,3,4,5,3] , inplace=True)\n",
    "MPNWAVE8_Pdata_bijzonder['COR_STUDIE_LOCATIE_S4'].value_counts()"
   ]
  },
  {
   "cell_type": "code",
   "execution_count": 162,
   "metadata": {},
   "outputs": [],
   "source": [
    "MPNWAVE8_Pdata_bijzonder.to_csv('F:/more work/netherlands/wave8data/MPNWAVE8_Pdata_bijzonder/MPNWAVE8_Pdata_bijzonder_binary.csv')"
   ]
  },
  {
   "cell_type": "code",
   "execution_count": null,
   "metadata": {},
   "outputs": [],
   "source": []
  }
 ],
 "metadata": {
  "kernelspec": {
   "display_name": "Python 3.10.8 64-bit",
   "language": "python",
   "name": "python3"
  },
  "language_info": {
   "codemirror_mode": {
    "name": "ipython",
    "version": 3
   },
   "file_extension": ".py",
   "mimetype": "text/x-python",
   "name": "python",
   "nbconvert_exporter": "python",
   "pygments_lexer": "ipython3",
   "version": "3.10.8"
  },
  "orig_nbformat": 4,
  "vscode": {
   "interpreter": {
    "hash": "2b324498af64d22b4773901be112d66dec816013b7f64fed368c8550f7daba2d"
   }
  }
 },
 "nbformat": 4,
 "nbformat_minor": 2
}

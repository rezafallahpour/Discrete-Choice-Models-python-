{
 "cells": [
  {
   "cell_type": "code",
   "execution_count": 1,
   "metadata": {},
   "outputs": [],
   "source": [
    "import pandas as pd\n",
    "import biogeme.database as db\n",
    "import biogeme.biogeme as bio\n",
    "from biogeme import models\n",
    "from biogeme.expressions import Beta"
   ]
  },
  {
   "cell_type": "code",
   "execution_count": 2,
   "metadata": {},
   "outputs": [],
   "source": [
    "df = pd.read_csv('F:/more work/netherlands/wave8data/model/nested_logit/nested_data_4mode.csv')\n"
   ]
  },
  {
   "cell_type": "code",
   "execution_count": 3,
   "metadata": {},
   "outputs": [],
   "source": [
    "df.drop(['AFSTV', 'G_AFSTAND', 'KAFSTV', 'KHVM', 'KVERTTIJD', 'REISDUUR', 'KREISDUUR', 'REISDUUR_ORG', 'G_REISDUUR', 'ROLAUTO', 'PARKEERKOSTEN', 'KRVM', 'Bestuurder', 'HHBRUTOINK2_w5','CarStatus' , 'TransitStatus'] , axis=1 , inplace=True)\n",
    "df.dropna(inplace=True)\n",
    "df=df[df[\"PROV_27\"]==1]\n",
    "df[\"ID\"] = df[\"ID\"]*0.0001\n",
    "df[\"CarTravelTime\"] = df[\"CarTravelTime\"]*0.0001\n",
    "df[\"BikeDistance\"] = df[\"BikeDistance\"]*0.00001\n",
    "df[\"TransitDistance\"] = df[\"TransitDistance\"]*0.00001\n",
    "df[\"TransitDuration\"] = df[\"TransitDuration\"]*0.0001\n",
    "df[\"alokatie_station\"] = df[\"alokatie_station\"]*0.0001\n",
    "df[\"alokatie_bushalte2xpu\"] = df[\"alokatie_bushalte2xpu\"]*0.0001\n",
    "df[\"vlokatie_centrumsgw\"] = df[\"vlokatie_centrumsgw\"]*0.0001\n",
    "\n",
    "database = db.Database('first_logit_model', df)\n",
    "globals().update(database.variables)"
   ]
  },
  {
   "cell_type": "code",
   "execution_count": 4,
   "metadata": {},
   "outputs": [],
   "source": [
    "# Parameters to be estimated\n",
    "#car as a driver\n",
    "ASC_car = Beta('ASC_car', 0, None, None, 0)\n",
    "#N_ACTIVITEIT13_1_car = Beta('N_ACTIVITEIT13_1_car', 0, None, None, 0)\n",
    "#WERKSITUATIE_ANDERS1_car = Beta('WERKSITUATIE_ANDERS1_car', 0, None, None, 0)\n",
    "vlokatie_centrumsgw_car = Beta('vlokatie_centrumsgw_car', 0, None, None, 0)\n",
    "KAFSTV_3_car = Beta('KAFSTV_3_car', 0, None, None, 0)\n",
    "#GEBRUIK_PARK2_car = Beta('GEBRUIK_PARK2_car', 0, None, None, 0)\n",
    "KLEEFT2_9_car = Beta('KLEEFT2_9_car', 0, None, None, 0)\n",
    "INVLOED3_car = Beta('INVLOED3_car', 0, None, None, 0)\n",
    "DOEL_8_car = Beta('DOEL_8_car', 0, None, None, 0)\n",
    "N_KIND_2_car = Beta('N_KIND_2_car', 0, None, None, 0)\n",
    "##EVENT4_car = Beta('EVENT4_car', 0, None, None, 0)\n",
    "\n",
    "\n",
    "\n",
    "\n",
    "\n",
    "# train\n",
    "ASC_bus_Train = Beta('ASC_bus_Train', 0, None, None, 1)\n",
    "#TransitDuration_bus_Train = Beta('TransitDuration_bus_Train', 0, None, None, 0)\n",
    "CarTravelTime_bus_Train = Beta('CarTravelTime_bus_Train', 0, None, None, 0)\n",
    "#KAFSTV_12_bus_Train = Beta('KAFSTV_12_bus_Train', 0, None, None, 0)\n",
    "PAUTO_bus_Train = Beta('PAUTO_bus_Train', 0, None, None, 0)\n",
    "MOTIEF_11_bus_Train = Beta('MOTIEF_11_bus_Train', 0, None, None, 0)\n",
    "KAFSTV_12_bus_Train = Beta('KAFSTV_12_bus_Train', 0, None, None, 0)\n",
    "\n",
    "#N_KIND\n",
    "\n",
    "\n",
    "\n",
    "\n",
    "\n",
    "\n",
    "# bicycle\n",
    "ASC_Scooter_Bicycle = Beta('ASC_Bicycle', 0, None, None, 0)\n",
    "MOTIEF_5_Bicycle = Beta('MOTIEF_5_Bicycle', 0, None, None, 0)\n",
    "TYPE_OVKAART4_Bicycle = Beta('TYPE_OVKAART4_Bicycle', 0, None, None, 0)\n",
    "KLEEFT2_8_Bicycle = Beta('KLEEFT2_8_Bicycle', 0, None, None, 0)\n",
    "KAFSTV_2_Bicycle = Beta('KAFSTV_2_Bicycle', 0, None, None, 0)\n",
    "#EVENT9_Bicycle = Beta('EVENT9_Bicycle', 0, None, None, 0)\n",
    "TYPE_OVKAART2_Bicycle = Beta('TYPE_OVKAART2_Bicycle', 0, None, None, 0)\n",
    "EVENT6_Bicycle = Beta('EVENT6_Bicycle', 0, None, None, 0)\n",
    "new_Bicycle = Beta('new_Bicycle', 0, None, None, 0)\n",
    "\n",
    "\n",
    "\n",
    "\n",
    "\n",
    "\n",
    "\n",
    "\n",
    "\n",
    "# walking\n",
    "ASC_Walking = Beta('ASC_Walking', 0, None, None, 0)\n",
    "TransitDuration_Walking = Beta('TransitDuration_Walking', 0, None, None, 0)\n",
    "HERKOMST_w5_2_Walking = Beta('HERKOMST_w5_2_Walking', 0, None, None, 0)\n",
    "new_Walking = Beta('new_Walking', 0, None, None, 0)\n",
    "\n"
   ]
  },
  {
   "cell_type": "code",
   "execution_count": 5,
   "metadata": {},
   "outputs": [],
   "source": [
    "# Definition of the utility functions\n",
    "V1 = ASC_car + vlokatie_centrumsgw_car*vlokatie_centrumsgw + KAFSTV_3_car*KAFSTV_3 \n",
    "\n",
    "V2 = ASC_bus_Train + PAUTO_bus_Train*PAUTO + KAFSTV_12_bus_Train*KAFSTV_12\n",
    "\n",
    "V3 = ASC_Scooter_Bicycle + MOTIEF_5_Bicycle*MOTIEF_5 + KLEEFT2_8_Bicycle*KLEEFT2_8 + KAFSTV_2_Bicycle*KAFSTV_2\n",
    "\n",
    "V4 = ASC_Walking + HERKOMST_w5_2_Walking*HERKOMST_w5_2 + TransitDuration_Walking*TransitDuration"
   ]
  },
  {
   "cell_type": "code",
   "execution_count": 6,
   "metadata": {},
   "outputs": [],
   "source": [
    "# Associate utility functions with the numbering of alternatives\n",
    "V = {1: V1, 2: V2, 3: V3, 4: V4}\n",
    "# Associate the availability conditions with the alternatives\n",
    "av = {1: av_car_as_driver, 2: av_train, 3: av_Bicycle , 4: av_Walking}"
   ]
  },
  {
   "cell_type": "code",
   "execution_count": 7,
   "metadata": {},
   "outputs": [],
   "source": [
    "logprob = models.loglogit(V, av, Choice_modals)"
   ]
  },
  {
   "cell_type": "code",
   "execution_count": 8,
   "metadata": {},
   "outputs": [],
   "source": [
    "biogeme = bio.BIOGEME(database, logprob)\n",
    "biogeme.modelName = 'logit4mode386'"
   ]
  },
  {
   "cell_type": "code",
   "execution_count": 9,
   "metadata": {},
   "outputs": [],
   "source": [
    "results = biogeme.estimate()"
   ]
  },
  {
   "cell_type": "code",
   "execution_count": 10,
   "metadata": {},
   "outputs": [
    {
     "name": "stdout",
     "output_type": "stream",
     "text": [
      "Results for model logit4mode386\n",
      "Nbr of parameters:\t\t12\n",
      "Sample size:\t\t\t563\n",
      "Excluded data:\t\t\t0\n",
      "Final log likelihood:\t\t-562.5815\n",
      "Akaike Information Criterion:\t1149.163\n",
      "Bayesian Information Criterion:\t1201.162\n",
      "\n",
      "                            Value   Std err    t-test   p-value  Rob. Std err  \\\n",
      "ASC_Bicycle             -1.728755  0.196806 -8.784040  0.000000      0.201200   \n",
      "ASC_Walking              0.751728  0.181068  4.151641  0.000033      0.182921   \n",
      "ASC_car                 -3.090898  0.359252 -8.603705  0.000000      0.305674   \n",
      "HERKOMST_w5_2_Walking   -1.159577  0.498551 -2.325894  0.020024      0.494260   \n",
      "KAFSTV_12_bus_Train      0.711296  0.300411  2.367747  0.017897      0.302468   \n",
      "KAFSTV_2_Bicycle         1.887716  0.584515  3.229540  0.001240      0.588089   \n",
      "KAFSTV_3_car             1.988176  0.455201  4.367692  0.000013      0.471403   \n",
      "KLEEFT2_8_Bicycle        1.048248  0.556258  1.884463  0.059502      0.482812   \n",
      "MOTIEF_5_Bicycle         2.388019  0.745190  3.204578  0.001353      0.665121   \n",
      "PAUTO_bus_Train         -0.561539  0.205908 -2.727137  0.006389      0.204639   \n",
      "TransitDuration_Walking -1.201478  0.451892 -2.658776  0.007843      0.466920   \n",
      "vlokatie_centrumsgw_car  0.591145  0.126708  4.665422  0.000003      0.105837   \n",
      "\n",
      "                         Rob. t-test  Rob. p-value  \n",
      "ASC_Bicycle                -8.592234  0.000000e+00  \n",
      "ASC_Walking                 4.109582  3.963757e-05  \n",
      "ASC_car                   -10.111731  0.000000e+00  \n",
      "HERKOMST_w5_2_Walking      -2.346088  1.897161e-02  \n",
      "KAFSTV_12_bus_Train         2.351639  1.869091e-02  \n",
      "KAFSTV_2_Bicycle            3.209912  1.327754e-03  \n",
      "KAFSTV_3_car                4.217570  2.469491e-05  \n",
      "KLEEFT2_8_Bicycle           2.171131  2.992131e-02  \n",
      "MOTIEF_5_Bicycle            3.590351  3.302328e-04  \n",
      "PAUTO_bus_Train            -2.744046  6.068699e-03  \n",
      "TransitDuration_Walking    -2.573197  1.007639e-02  \n",
      "vlokatie_centrumsgw_car     5.585416  2.331412e-08  \n"
     ]
    }
   ],
   "source": [
    "print(results.shortSummary())\n",
    "print(results.getEstimatedParameters(onlyRobust=False))\n"
   ]
  }
 ],
 "metadata": {
  "kernelspec": {
   "display_name": "Python 3",
   "language": "python",
   "name": "python3"
  },
  "language_info": {
   "codemirror_mode": {
    "name": "ipython",
    "version": 3
   },
   "file_extension": ".py",
   "mimetype": "text/x-python",
   "name": "python",
   "nbconvert_exporter": "python",
   "pygments_lexer": "ipython3",
   "version": "3.10.9"
  },
  "orig_nbformat": 4
 },
 "nbformat": 4,
 "nbformat_minor": 2
}
